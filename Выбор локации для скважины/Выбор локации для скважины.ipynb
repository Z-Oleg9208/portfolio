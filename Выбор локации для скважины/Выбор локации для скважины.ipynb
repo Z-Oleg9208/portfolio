{
 "cells": [
  {
   "cell_type": "markdown",
   "metadata": {},
   "source": [
    "# Выбор локации для скважины"
   ]
  },
  {
   "cell_type": "markdown",
   "metadata": {},
   "source": [
    "Нужно решить, где бурить новую скважину.\n",
    "\n",
    "Предоставлены пробы нефти в трёх регионах: в каждом 10 000 месторождений, где измерили качество нефти и объём её запасов. Необходимо построить модель машинного обучения, которая поможет определить регион, где добыча принесёт наибольшую прибыль. Проанализируйте возможную прибыль и риски техникой *Bootstrap.*\n",
    "\n",
    "Шаги для выбора локации:\n",
    "\n",
    "- В избранном регионе ищут месторождения, для каждого определяют значения признаков;\n",
    "- Строят модель и оценивают объём запасов;\n",
    "- Выбирают месторождения с самым высокими оценками значений. Количество месторождений зависит от бюджета компании и стоимости разработки одной скважины;\n",
    "- Прибыль равна суммарной прибыли отобранных месторождений."
   ]
  },
  {
   "cell_type": "markdown",
   "metadata": {},
   "source": [
    "## Загрузка и подготовка данных"
   ]
  },
  {
   "cell_type": "code",
   "execution_count": 1,
   "metadata": {},
   "outputs": [],
   "source": [
    "# импортируем необходимые библиотеки\n",
    "\n",
    "import pandas as pd\n",
    "import numpy as np\n",
    "from sklearn.tree import DecisionTreeRegressor\n",
    "from sklearn.ensemble import RandomForestRegressor\n",
    "from sklearn.linear_model import LinearRegression \n",
    "from sklearn.model_selection import train_test_split, GridSearchCV\n",
    "from sklearn.metrics import r2_score, mean_squared_error\n",
    "from sklearn.preprocessing import StandardScaler\n",
    "from sklearn.dummy import DummyRegressor\n",
    "from scipy import stats as st"
   ]
  },
  {
   "cell_type": "code",
   "execution_count": 2,
   "metadata": {},
   "outputs": [],
   "source": [
    "pd.set_option('display.max_row', 30) # максимальное количество выводимых строк - 30\n",
    "pd.options.display.float_format=\"{:,.3f}\".format # количество знаков после запятой - 3\n",
    "pd.options.mode.chained_assignment = None"
   ]
  },
  {
   "cell_type": "code",
   "execution_count": 3,
   "metadata": {},
   "outputs": [],
   "source": [
    "# загружаем данныкъе \n",
    "\n",
    "geo_data_0 = pd.read_csv('geo_data_0.csv')\n",
    "geo_data_1 = pd.read_csv('geo_data_1.csv')\n",
    "geo_data_2 = pd.read_csv('geo_data_2.csv')\n"
   ]
  },
  {
   "cell_type": "markdown",
   "metadata": {},
   "source": [
    "**Изучим данные на пропуски, явные и неявные дубликаты, корреляцию признаков и описательную статистику.**"
   ]
  },
  {
   "cell_type": "code",
   "execution_count": 4,
   "metadata": {},
   "outputs": [
    {
     "data": {
      "text/plain": [
       "id         0\n",
       "f0         0\n",
       "f1         0\n",
       "f2         0\n",
       "product    0\n",
       "dtype: int64"
      ]
     },
     "execution_count": 4,
     "metadata": {},
     "output_type": "execute_result"
    }
   ],
   "source": [
    "geo_data_0.isna().sum()"
   ]
  },
  {
   "cell_type": "code",
   "execution_count": 5,
   "metadata": {},
   "outputs": [
    {
     "data": {
      "text/plain": [
       "0"
      ]
     },
     "execution_count": 5,
     "metadata": {},
     "output_type": "execute_result"
    }
   ],
   "source": [
    "geo_data_0.duplicated().sum()"
   ]
  },
  {
   "cell_type": "code",
   "execution_count": 6,
   "metadata": {},
   "outputs": [
    {
     "data": {
      "text/plain": [
       "(99990, 5)"
      ]
     },
     "execution_count": 6,
     "metadata": {},
     "output_type": "execute_result"
    }
   ],
   "source": [
    "geo_data_0 = geo_data_0.drop_duplicates(subset='id', keep='first').sort_values(by='id')\n",
    "geo_data_0.shape"
   ]
  },
  {
   "cell_type": "code",
   "execution_count": 7,
   "metadata": {},
   "outputs": [
    {
     "data": {
      "text/html": [
       "<div>\n",
       "<style scoped>\n",
       "    .dataframe tbody tr th:only-of-type {\n",
       "        vertical-align: middle;\n",
       "    }\n",
       "\n",
       "    .dataframe tbody tr th {\n",
       "        vertical-align: top;\n",
       "    }\n",
       "\n",
       "    .dataframe thead th {\n",
       "        text-align: right;\n",
       "    }\n",
       "</style>\n",
       "<table border=\"1\" class=\"dataframe\">\n",
       "  <thead>\n",
       "    <tr style=\"text-align: right;\">\n",
       "      <th></th>\n",
       "      <th>f0</th>\n",
       "      <th>f1</th>\n",
       "      <th>f2</th>\n",
       "      <th>product</th>\n",
       "    </tr>\n",
       "  </thead>\n",
       "  <tbody>\n",
       "    <tr>\n",
       "      <th>count</th>\n",
       "      <td>99,990.000</td>\n",
       "      <td>99,990.000</td>\n",
       "      <td>99,990.000</td>\n",
       "      <td>99,990.000</td>\n",
       "    </tr>\n",
       "    <tr>\n",
       "      <th>mean</th>\n",
       "      <td>0.500</td>\n",
       "      <td>0.250</td>\n",
       "      <td>2.503</td>\n",
       "      <td>92.500</td>\n",
       "    </tr>\n",
       "    <tr>\n",
       "      <th>std</th>\n",
       "      <td>0.872</td>\n",
       "      <td>0.504</td>\n",
       "      <td>3.248</td>\n",
       "      <td>44.288</td>\n",
       "    </tr>\n",
       "    <tr>\n",
       "      <th>min</th>\n",
       "      <td>-1.409</td>\n",
       "      <td>-0.848</td>\n",
       "      <td>-12.088</td>\n",
       "      <td>0.000</td>\n",
       "    </tr>\n",
       "    <tr>\n",
       "      <th>25%</th>\n",
       "      <td>-0.073</td>\n",
       "      <td>-0.201</td>\n",
       "      <td>0.288</td>\n",
       "      <td>56.497</td>\n",
       "    </tr>\n",
       "    <tr>\n",
       "      <th>50%</th>\n",
       "      <td>0.502</td>\n",
       "      <td>0.250</td>\n",
       "      <td>2.516</td>\n",
       "      <td>91.848</td>\n",
       "    </tr>\n",
       "    <tr>\n",
       "      <th>75%</th>\n",
       "      <td>1.074</td>\n",
       "      <td>0.701</td>\n",
       "      <td>4.715</td>\n",
       "      <td>128.564</td>\n",
       "    </tr>\n",
       "    <tr>\n",
       "      <th>max</th>\n",
       "      <td>2.362</td>\n",
       "      <td>1.344</td>\n",
       "      <td>16.004</td>\n",
       "      <td>185.364</td>\n",
       "    </tr>\n",
       "  </tbody>\n",
       "</table>\n",
       "</div>"
      ],
      "text/plain": [
       "              f0         f1         f2    product\n",
       "count 99,990.000 99,990.000 99,990.000 99,990.000\n",
       "mean       0.500      0.250      2.503     92.500\n",
       "std        0.872      0.504      3.248     44.288\n",
       "min       -1.409     -0.848    -12.088      0.000\n",
       "25%       -0.073     -0.201      0.288     56.497\n",
       "50%        0.502      0.250      2.516     91.848\n",
       "75%        1.074      0.701      4.715    128.564\n",
       "max        2.362      1.344     16.004    185.364"
      ]
     },
     "execution_count": 7,
     "metadata": {},
     "output_type": "execute_result"
    }
   ],
   "source": [
    "geo_data_0.describe()"
   ]
  },
  {
   "cell_type": "code",
   "execution_count": 8,
   "metadata": {
    "scrolled": false
   },
   "outputs": [
    {
     "name": "stderr",
     "output_type": "stream",
     "text": [
      "/var/folders/1x/1w_zvycx51vgmxmwtzcxw7zr0000gn/T/ipykernel_79622/1807279289.py:1: FutureWarning: The default value of numeric_only in DataFrame.corr is deprecated. In a future version, it will default to False. Select only valid columns or specify the value of numeric_only to silence this warning.\n",
      "  geo_data_0.corr()\n"
     ]
    },
    {
     "data": {
      "text/html": [
       "<div>\n",
       "<style scoped>\n",
       "    .dataframe tbody tr th:only-of-type {\n",
       "        vertical-align: middle;\n",
       "    }\n",
       "\n",
       "    .dataframe tbody tr th {\n",
       "        vertical-align: top;\n",
       "    }\n",
       "\n",
       "    .dataframe thead th {\n",
       "        text-align: right;\n",
       "    }\n",
       "</style>\n",
       "<table border=\"1\" class=\"dataframe\">\n",
       "  <thead>\n",
       "    <tr style=\"text-align: right;\">\n",
       "      <th></th>\n",
       "      <th>f0</th>\n",
       "      <th>f1</th>\n",
       "      <th>f2</th>\n",
       "      <th>product</th>\n",
       "    </tr>\n",
       "  </thead>\n",
       "  <tbody>\n",
       "    <tr>\n",
       "      <th>f0</th>\n",
       "      <td>1.000</td>\n",
       "      <td>-0.441</td>\n",
       "      <td>-0.003</td>\n",
       "      <td>0.144</td>\n",
       "    </tr>\n",
       "    <tr>\n",
       "      <th>f1</th>\n",
       "      <td>-0.441</td>\n",
       "      <td>1.000</td>\n",
       "      <td>0.002</td>\n",
       "      <td>-0.192</td>\n",
       "    </tr>\n",
       "    <tr>\n",
       "      <th>f2</th>\n",
       "      <td>-0.003</td>\n",
       "      <td>0.002</td>\n",
       "      <td>1.000</td>\n",
       "      <td>0.484</td>\n",
       "    </tr>\n",
       "    <tr>\n",
       "      <th>product</th>\n",
       "      <td>0.144</td>\n",
       "      <td>-0.192</td>\n",
       "      <td>0.484</td>\n",
       "      <td>1.000</td>\n",
       "    </tr>\n",
       "  </tbody>\n",
       "</table>\n",
       "</div>"
      ],
      "text/plain": [
       "            f0     f1     f2  product\n",
       "f0       1.000 -0.441 -0.003    0.144\n",
       "f1      -0.441  1.000  0.002   -0.192\n",
       "f2      -0.003  0.002  1.000    0.484\n",
       "product  0.144 -0.192  0.484    1.000"
      ]
     },
     "execution_count": 8,
     "metadata": {},
     "output_type": "execute_result"
    }
   ],
   "source": [
    "geo_data_0.corr()"
   ]
  },
  {
   "cell_type": "code",
   "execution_count": 9,
   "metadata": {
    "scrolled": false
   },
   "outputs": [
    {
     "data": {
      "image/png": "[encoded data removed]",
      "text/plain": [
       "<Figure size 640x480 with 16 Axes>"
      ]
     },
     "metadata": {},
     "output_type": "display_data"
    }
   ],
   "source": [
    "pd.plotting.scatter_matrix(geo_data_0);"
   ]
  },
  {
   "cell_type": "code",
   "execution_count": 10,
   "metadata": {},
   "outputs": [
    {
     "data": {
      "text/plain": [
       "id         0\n",
       "f0         0\n",
       "f1         0\n",
       "f2         0\n",
       "product    0\n",
       "dtype: int64"
      ]
     },
     "execution_count": 10,
     "metadata": {},
     "output_type": "execute_result"
    }
   ],
   "source": [
    "geo_data_1.isna().sum()"
   ]
  },
  {
   "cell_type": "code",
   "execution_count": 11,
   "metadata": {},
   "outputs": [
    {
     "data": {
      "text/plain": [
       "0"
      ]
     },
     "execution_count": 11,
     "metadata": {},
     "output_type": "execute_result"
    }
   ],
   "source": [
    "geo_data_1.duplicated().sum()"
   ]
  },
  {
   "cell_type": "code",
   "execution_count": 12,
   "metadata": {},
   "outputs": [
    {
     "data": {
      "text/plain": [
       "(99996, 5)"
      ]
     },
     "execution_count": 12,
     "metadata": {},
     "output_type": "execute_result"
    }
   ],
   "source": [
    "geo_data_1 = geo_data_1.drop_duplicates(subset='id', keep='first').sort_values(by='id')\n",
    "geo_data_1.shape"
   ]
  },
  {
   "cell_type": "code",
   "execution_count": 13,
   "metadata": {},
   "outputs": [
    {
     "data": {
      "text/html": [
       "<div>\n",
       "<style scoped>\n",
       "    .dataframe tbody tr th:only-of-type {\n",
       "        vertical-align: middle;\n",
       "    }\n",
       "\n",
       "    .dataframe tbody tr th {\n",
       "        vertical-align: top;\n",
       "    }\n",
       "\n",
       "    .dataframe thead th {\n",
       "        text-align: right;\n",
       "    }\n",
       "</style>\n",
       "<table border=\"1\" class=\"dataframe\">\n",
       "  <thead>\n",
       "    <tr style=\"text-align: right;\">\n",
       "      <th></th>\n",
       "      <th>f0</th>\n",
       "      <th>f1</th>\n",
       "      <th>f2</th>\n",
       "      <th>product</th>\n",
       "    </tr>\n",
       "  </thead>\n",
       "  <tbody>\n",
       "    <tr>\n",
       "      <th>count</th>\n",
       "      <td>99,996.000</td>\n",
       "      <td>99,996.000</td>\n",
       "      <td>99,996.000</td>\n",
       "      <td>99,996.000</td>\n",
       "    </tr>\n",
       "    <tr>\n",
       "      <th>mean</th>\n",
       "      <td>1.141</td>\n",
       "      <td>-4.797</td>\n",
       "      <td>2.495</td>\n",
       "      <td>68.824</td>\n",
       "    </tr>\n",
       "    <tr>\n",
       "      <th>std</th>\n",
       "      <td>8.966</td>\n",
       "      <td>5.120</td>\n",
       "      <td>1.704</td>\n",
       "      <td>45.945</td>\n",
       "    </tr>\n",
       "    <tr>\n",
       "      <th>min</th>\n",
       "      <td>-31.610</td>\n",
       "      <td>-26.359</td>\n",
       "      <td>-0.018</td>\n",
       "      <td>0.000</td>\n",
       "    </tr>\n",
       "    <tr>\n",
       "      <th>25%</th>\n",
       "      <td>-6.299</td>\n",
       "      <td>-8.268</td>\n",
       "      <td>1.000</td>\n",
       "      <td>26.953</td>\n",
       "    </tr>\n",
       "    <tr>\n",
       "      <th>50%</th>\n",
       "      <td>1.153</td>\n",
       "      <td>-4.813</td>\n",
       "      <td>2.011</td>\n",
       "      <td>57.086</td>\n",
       "    </tr>\n",
       "    <tr>\n",
       "      <th>75%</th>\n",
       "      <td>8.621</td>\n",
       "      <td>-1.333</td>\n",
       "      <td>4.000</td>\n",
       "      <td>107.813</td>\n",
       "    </tr>\n",
       "    <tr>\n",
       "      <th>max</th>\n",
       "      <td>29.422</td>\n",
       "      <td>18.734</td>\n",
       "      <td>5.020</td>\n",
       "      <td>137.945</td>\n",
       "    </tr>\n",
       "  </tbody>\n",
       "</table>\n",
       "</div>"
      ],
      "text/plain": [
       "              f0         f1         f2    product\n",
       "count 99,996.000 99,996.000 99,996.000 99,996.000\n",
       "mean       1.141     -4.797      2.495     68.824\n",
       "std        8.966      5.120      1.704     45.945\n",
       "min      -31.610    -26.359     -0.018      0.000\n",
       "25%       -6.299     -8.268      1.000     26.953\n",
       "50%        1.153     -4.813      2.011     57.086\n",
       "75%        8.621     -1.333      4.000    107.813\n",
       "max       29.422     18.734      5.020    137.945"
      ]
     },
     "execution_count": 13,
     "metadata": {},
     "output_type": "execute_result"
    }
   ],
   "source": [
    "geo_data_1.describe()"
   ]
  },
  {
   "cell_type": "code",
   "execution_count": 14,
   "metadata": {
    "scrolled": false
   },
   "outputs": [
    {
     "name": "stderr",
     "output_type": "stream",
     "text": [
      "/var/folders/1x/1w_zvycx51vgmxmwtzcxw7zr0000gn/T/ipykernel_79622/2659908402.py:1: FutureWarning: The default value of numeric_only in DataFrame.corr is deprecated. In a future version, it will default to False. Select only valid columns or specify the value of numeric_only to silence this warning.\n",
      "  geo_data_1.corr()\n"
     ]
    },
    {
     "data": {
      "text/html": [
       "<div>\n",
       "<style scoped>\n",
       "    .dataframe tbody tr th:only-of-type {\n",
       "        vertical-align: middle;\n",
       "    }\n",
       "\n",
       "    .dataframe tbody tr th {\n",
       "        vertical-align: top;\n",
       "    }\n",
       "\n",
       "    .dataframe thead th {\n",
       "        text-align: right;\n",
       "    }\n",
       "</style>\n",
       "<table border=\"1\" class=\"dataframe\">\n",
       "  <thead>\n",
       "    <tr style=\"text-align: right;\">\n",
       "      <th></th>\n",
       "      <th>f0</th>\n",
       "      <th>f1</th>\n",
       "      <th>f2</th>\n",
       "      <th>product</th>\n",
       "    </tr>\n",
       "  </thead>\n",
       "  <tbody>\n",
       "    <tr>\n",
       "      <th>f0</th>\n",
       "      <td>1.000</td>\n",
       "      <td>0.182</td>\n",
       "      <td>-0.002</td>\n",
       "      <td>-0.031</td>\n",
       "    </tr>\n",
       "    <tr>\n",
       "      <th>f1</th>\n",
       "      <td>0.182</td>\n",
       "      <td>1.000</td>\n",
       "      <td>-0.003</td>\n",
       "      <td>-0.010</td>\n",
       "    </tr>\n",
       "    <tr>\n",
       "      <th>f2</th>\n",
       "      <td>-0.002</td>\n",
       "      <td>-0.003</td>\n",
       "      <td>1.000</td>\n",
       "      <td>0.999</td>\n",
       "    </tr>\n",
       "    <tr>\n",
       "      <th>product</th>\n",
       "      <td>-0.031</td>\n",
       "      <td>-0.010</td>\n",
       "      <td>0.999</td>\n",
       "      <td>1.000</td>\n",
       "    </tr>\n",
       "  </tbody>\n",
       "</table>\n",
       "</div>"
      ],
      "text/plain": [
       "            f0     f1     f2  product\n",
       "f0       1.000  0.182 -0.002   -0.031\n",
       "f1       0.182  1.000 -0.003   -0.010\n",
       "f2      -0.002 -0.003  1.000    0.999\n",
       "product -0.031 -0.010  0.999    1.000"
      ]
     },
     "execution_count": 14,
     "metadata": {},
     "output_type": "execute_result"
    }
   ],
   "source": [
    "geo_data_1.corr()"
   ]
  },
  {
   "cell_type": "code",
   "execution_count": 15,
   "metadata": {
    "scrolled": false
   },
   "outputs": [
    {
     "data": {
      "image/png": "[encoded data removed]",
      "text/plain": [
       "<Figure size 640x480 with 16 Axes>"
      ]
     },
     "metadata": {},
     "output_type": "display_data"
    }
   ],
   "source": [
    "pd.plotting.scatter_matrix(geo_data_1);"
   ]
  },
  {
   "cell_type": "code",
   "execution_count": 16,
   "metadata": {},
   "outputs": [
    {
     "data": {
      "text/plain": [
       "id         0\n",
       "f0         0\n",
       "f1         0\n",
       "f2         0\n",
       "product    0\n",
       "dtype: int64"
      ]
     },
     "execution_count": 16,
     "metadata": {},
     "output_type": "execute_result"
    }
   ],
   "source": [
    "geo_data_2.isna().sum()"
   ]
  },
  {
   "cell_type": "code",
   "execution_count": 17,
   "metadata": {},
   "outputs": [
    {
     "data": {
      "text/plain": [
       "0"
      ]
     },
     "execution_count": 17,
     "metadata": {},
     "output_type": "execute_result"
    }
   ],
   "source": [
    "geo_data_2.duplicated().sum()"
   ]
  },
  {
   "cell_type": "code",
   "execution_count": 18,
   "metadata": {},
   "outputs": [],
   "source": [
    "geo_data_2 = geo_data_2.drop_duplicates(subset='id', keep='first').sort_values(by='id')"
   ]
  },
  {
   "cell_type": "code",
   "execution_count": 19,
   "metadata": {},
   "outputs": [
    {
     "data": {
      "text/plain": [
       "(99996, 5)"
      ]
     },
     "execution_count": 19,
     "metadata": {},
     "output_type": "execute_result"
    }
   ],
   "source": [
    "geo_data_2.shape"
   ]
  },
  {
   "cell_type": "code",
   "execution_count": 20,
   "metadata": {},
   "outputs": [
    {
     "data": {
      "text/html": [
       "<div>\n",
       "<style scoped>\n",
       "    .dataframe tbody tr th:only-of-type {\n",
       "        vertical-align: middle;\n",
       "    }\n",
       "\n",
       "    .dataframe tbody tr th {\n",
       "        vertical-align: top;\n",
       "    }\n",
       "\n",
       "    .dataframe thead th {\n",
       "        text-align: right;\n",
       "    }\n",
       "</style>\n",
       "<table border=\"1\" class=\"dataframe\">\n",
       "  <thead>\n",
       "    <tr style=\"text-align: right;\">\n",
       "      <th></th>\n",
       "      <th>f0</th>\n",
       "      <th>f1</th>\n",
       "      <th>f2</th>\n",
       "      <th>product</th>\n",
       "    </tr>\n",
       "  </thead>\n",
       "  <tbody>\n",
       "    <tr>\n",
       "      <th>count</th>\n",
       "      <td>99,996.000</td>\n",
       "      <td>99,996.000</td>\n",
       "      <td>99,996.000</td>\n",
       "      <td>99,996.000</td>\n",
       "    </tr>\n",
       "    <tr>\n",
       "      <th>mean</th>\n",
       "      <td>0.002</td>\n",
       "      <td>-0.002</td>\n",
       "      <td>2.495</td>\n",
       "      <td>94.998</td>\n",
       "    </tr>\n",
       "    <tr>\n",
       "      <th>std</th>\n",
       "      <td>1.732</td>\n",
       "      <td>1.730</td>\n",
       "      <td>3.473</td>\n",
       "      <td>44.750</td>\n",
       "    </tr>\n",
       "    <tr>\n",
       "      <th>min</th>\n",
       "      <td>-8.760</td>\n",
       "      <td>-7.084</td>\n",
       "      <td>-11.970</td>\n",
       "      <td>0.000</td>\n",
       "    </tr>\n",
       "    <tr>\n",
       "      <th>25%</th>\n",
       "      <td>-1.162</td>\n",
       "      <td>-1.175</td>\n",
       "      <td>0.130</td>\n",
       "      <td>59.450</td>\n",
       "    </tr>\n",
       "    <tr>\n",
       "      <th>50%</th>\n",
       "      <td>0.009</td>\n",
       "      <td>-0.010</td>\n",
       "      <td>2.484</td>\n",
       "      <td>94.925</td>\n",
       "    </tr>\n",
       "    <tr>\n",
       "      <th>75%</th>\n",
       "      <td>1.158</td>\n",
       "      <td>1.164</td>\n",
       "      <td>4.859</td>\n",
       "      <td>130.587</td>\n",
       "    </tr>\n",
       "    <tr>\n",
       "      <th>max</th>\n",
       "      <td>7.238</td>\n",
       "      <td>7.845</td>\n",
       "      <td>16.739</td>\n",
       "      <td>190.030</td>\n",
       "    </tr>\n",
       "  </tbody>\n",
       "</table>\n",
       "</div>"
      ],
      "text/plain": [
       "              f0         f1         f2    product\n",
       "count 99,996.000 99,996.000 99,996.000 99,996.000\n",
       "mean       0.002     -0.002      2.495     94.998\n",
       "std        1.732      1.730      3.473     44.750\n",
       "min       -8.760     -7.084    -11.970      0.000\n",
       "25%       -1.162     -1.175      0.130     59.450\n",
       "50%        0.009     -0.010      2.484     94.925\n",
       "75%        1.158      1.164      4.859    130.587\n",
       "max        7.238      7.845     16.739    190.030"
      ]
     },
     "execution_count": 20,
     "metadata": {},
     "output_type": "execute_result"
    }
   ],
   "source": [
    "geo_data_2.describe()"
   ]
  },
  {
   "cell_type": "code",
   "execution_count": 21,
   "metadata": {
    "scrolled": true
   },
   "outputs": [
    {
     "name": "stderr",
     "output_type": "stream",
     "text": [
      "/var/folders/1x/1w_zvycx51vgmxmwtzcxw7zr0000gn/T/ipykernel_79622/47664662.py:1: FutureWarning: The default value of numeric_only in DataFrame.corr is deprecated. In a future version, it will default to False. Select only valid columns or specify the value of numeric_only to silence this warning.\n",
      "  geo_data_2.corr()\n"
     ]
    },
    {
     "data": {
      "text/html": [
       "<div>\n",
       "<style scoped>\n",
       "    .dataframe tbody tr th:only-of-type {\n",
       "        vertical-align: middle;\n",
       "    }\n",
       "\n",
       "    .dataframe tbody tr th {\n",
       "        vertical-align: top;\n",
       "    }\n",
       "\n",
       "    .dataframe thead th {\n",
       "        text-align: right;\n",
       "    }\n",
       "</style>\n",
       "<table border=\"1\" class=\"dataframe\">\n",
       "  <thead>\n",
       "    <tr style=\"text-align: right;\">\n",
       "      <th></th>\n",
       "      <th>f0</th>\n",
       "      <th>f1</th>\n",
       "      <th>f2</th>\n",
       "      <th>product</th>\n",
       "    </tr>\n",
       "  </thead>\n",
       "  <tbody>\n",
       "    <tr>\n",
       "      <th>f0</th>\n",
       "      <td>1.000</td>\n",
       "      <td>0.001</td>\n",
       "      <td>-0.000</td>\n",
       "      <td>-0.002</td>\n",
       "    </tr>\n",
       "    <tr>\n",
       "      <th>f1</th>\n",
       "      <td>0.001</td>\n",
       "      <td>1.000</td>\n",
       "      <td>0.001</td>\n",
       "      <td>-0.001</td>\n",
       "    </tr>\n",
       "    <tr>\n",
       "      <th>f2</th>\n",
       "      <td>-0.000</td>\n",
       "      <td>0.001</td>\n",
       "      <td>1.000</td>\n",
       "      <td>0.446</td>\n",
       "    </tr>\n",
       "    <tr>\n",
       "      <th>product</th>\n",
       "      <td>-0.002</td>\n",
       "      <td>-0.001</td>\n",
       "      <td>0.446</td>\n",
       "      <td>1.000</td>\n",
       "    </tr>\n",
       "  </tbody>\n",
       "</table>\n",
       "</div>"
      ],
      "text/plain": [
       "            f0     f1     f2  product\n",
       "f0       1.000  0.001 -0.000   -0.002\n",
       "f1       0.001  1.000  0.001   -0.001\n",
       "f2      -0.000  0.001  1.000    0.446\n",
       "product -0.002 -0.001  0.446    1.000"
      ]
     },
     "execution_count": 21,
     "metadata": {},
     "output_type": "execute_result"
    }
   ],
   "source": [
    "geo_data_2.corr()"
   ]
  },
  {
   "cell_type": "code",
   "execution_count": 22,
   "metadata": {
    "scrolled": false
   },
   "outputs": [
    {
     "data": {
      "image/png": "[encoded data removed]",
      "text/plain": [
       "<Figure size 640x480 with 16 Axes>"
      ]
     },
     "metadata": {},
     "output_type": "display_data"
    }
   ],
   "source": [
    "pd.plotting.scatter_matrix(geo_data_2);"
   ]
  },
  {
   "cell_type": "markdown",
   "metadata": {},
   "source": [
    "### Вывод"
   ]
  },
  {
   "cell_type": "markdown",
   "metadata": {},
   "source": [
    "- В данных выявлены и удалены неявные дубликаты по стоблцу `id` в котором записан уникальный индентификатор скважин.\n",
    "- В первом и третьем регионах в столбце `product` среднее и медианное значение близки, что говорит об отсутствии выбрасов.\n",
    "- Во втором регионе среднее значение в столбце `product` выше медианного на основе чего можно сделать выводы о выбросах в большую сторону (некоторые скважины имеют большей запас нефти).\n",
    "- В первом и третьем регионах видна сильная корреляция между признаком `f2` и `product` равная 0.44 и 0,48 соответственно. Во втором региони рорреляция очень сильная и равняется 0,99."
   ]
  },
  {
   "cell_type": "markdown",
   "metadata": {},
   "source": [
    "## Обучение и проверка модели"
   ]
  },
  {
   "cell_type": "markdown",
   "metadata": {},
   "source": [
    "### Разделим данные на тренитовочную и тестовую выборки, проведем масштабирование данных и обучим модель."
   ]
  },
  {
   "cell_type": "markdown",
   "metadata": {},
   "source": [
    "#### Регион №1"
   ]
  },
  {
   "cell_type": "code",
   "execution_count": 23,
   "metadata": {},
   "outputs": [
    {
     "name": "stdout",
     "output_type": "stream",
     "text": [
      "Средний запас предсказанного сырья: 92.4584480925884\n",
      "RMSE: 37.61829662550861\n",
      "RMSE Dummy модели: 44.27898560044623\n"
     ]
    }
   ],
   "source": [
    "# разделим данные на признаки объектов и целевой признак\n",
    "\n",
    "features_0 = geo_data_0.drop(['product', 'id'], axis=1)\n",
    "target_0 = geo_data_0['product']\n",
    "\n",
    "# проведем масштабирование признаков объекта\n",
    "\n",
    "scaler = StandardScaler()\n",
    "scaler.fit(features_0)\n",
    "features_0 = scaler.transform(features_0)\n",
    "\n",
    "# разделим данные на тренировочную и тестовую выборки\n",
    "\n",
    "features_train_0, features_test_0, target_train_0, target_test_0 = train_test_split(features_0,\n",
    "                                                                                    target_0,\n",
    "                                                                                    test_size=0.25,\n",
    "                                                                                    random_state=42)\n",
    "\n",
    "# обучим модель\n",
    "\n",
    "model = LinearRegression()\n",
    "model.fit(features_train_0, target_train_0)\n",
    "predictions_0 = model.predict(features_test_0)\n",
    "print('Средний запас предсказанного сырья:', predictions_0.mean())\n",
    "print('RMSE:', (mean_squared_error(target_test_0, predictions_0))**0.5)\n",
    "\n",
    "dummy_model = DummyRegressor(strategy='mean')\n",
    "dummy_model.fit(features_train_0, target_train_0)\n",
    "\n",
    "print('RMSE Dummy модели:', (mean_squared_error(target_test_0, dummy_model.predict(features_test_0)))**0.5)\n"
   ]
  },
  {
   "cell_type": "markdown",
   "metadata": {},
   "source": [
    "#### Регион №2"
   ]
  },
  {
   "cell_type": "code",
   "execution_count": 24,
   "metadata": {},
   "outputs": [
    {
     "name": "stdout",
     "output_type": "stream",
     "text": [
      "Средний запас предсказанного сырья: 68.84677355427277\n",
      "RMSE: 0.8879569829575955\n",
      "RMSE Dummy модели: 45.94430954836186\n"
     ]
    }
   ],
   "source": [
    "# разделим данные на признаки объектов и целевой признак\n",
    "\n",
    "features_1 = geo_data_1.drop(['product', 'id'], axis=1)\n",
    "target_1 = geo_data_1['product']\n",
    "\n",
    "# проведем масштабирование признаков объекта\n",
    "\n",
    "scaler = StandardScaler()\n",
    "scaler.fit(features_1)\n",
    "features_1 = scaler.transform(features_1)\n",
    "\n",
    "# разделим данные на тренировочную и тестовую выборки\n",
    "\n",
    "features_train_1, features_test_1, target_train_1, target_test_1 = train_test_split(features_1,\n",
    "                                                                                    target_1,\n",
    "                                                                                    test_size=0.25,\n",
    "                                                                                    random_state=42)\n",
    "\n",
    "# обучим модель\n",
    "\n",
    "model = LinearRegression()\n",
    "model.fit(features_train_1, target_train_1)\n",
    "predictions_1 = model.predict(features_test_1)\n",
    "print('Средний запас предсказанного сырья:', predictions_1.mean())\n",
    "print('RMSE:', (mean_squared_error(target_test_1, predictions_1))**0.5)\n",
    "\n",
    "dummy_model = DummyRegressor(strategy='mean')\n",
    "dummy_model.fit(features_train_1, target_train_1)\n",
    "\n",
    "print('RMSE Dummy модели:', (mean_squared_error(target_test_1, dummy_model.predict(features_test_1)))**0.5)\n"
   ]
  },
  {
   "cell_type": "markdown",
   "metadata": {},
   "source": [
    "#### Регион №3"
   ]
  },
  {
   "cell_type": "code",
   "execution_count": 25,
   "metadata": {
    "scrolled": true
   },
   "outputs": [
    {
     "name": "stdout",
     "output_type": "stream",
     "text": [
      "Средний запас предсказанного сырья: 94.91525751397035\n",
      "RMSE: 39.85513889475951\n",
      "RMSE Dummy модели: 44.52803136413859\n"
     ]
    }
   ],
   "source": [
    "# разделим данные на признаки объектов и целевой признак\n",
    "\n",
    "features_2 = geo_data_2.drop(['product', 'id'], axis=1)\n",
    "target_2 = geo_data_2['product']\n",
    "\n",
    "# проведем масштабирование признаков объекта\n",
    "\n",
    "scaler = StandardScaler()\n",
    "scaler.fit(features_2)\n",
    "features_2 = scaler.transform(features_2)\n",
    "\n",
    "# разделим данные на тренировочную и тестовую выборки\n",
    "\n",
    "features_train_2, features_test_2, target_train_2, target_test_2 = train_test_split(features_2,\n",
    "                                                                                    target_2,\n",
    "                                                                                    test_size=0.25,\n",
    "                                                                                    random_state=42)\n",
    "\n",
    "# обучим модель\n",
    "\n",
    "model = LinearRegression()\n",
    "model.fit(features_train_2, target_train_2)\n",
    "predictions_2 = model.predict(features_test_2)\n",
    "print('Средний запас предсказанного сырья:', predictions_2.mean())\n",
    "print('RMSE:', (mean_squared_error(target_test_2, predictions_2))**0.5)\n",
    "\n",
    "dummy_model = DummyRegressor(strategy='mean')\n",
    "dummy_model.fit(features_train_2, target_train_2)\n",
    "\n",
    "print('RMSE Dummy модели:', (mean_squared_error(target_test_2, dummy_model.predict(features_test_2)))**0.5)\n"
   ]
  },
  {
   "cell_type": "markdown",
   "metadata": {},
   "source": [
    "### Вывод"
   ]
  },
  {
   "cell_type": "markdown",
   "metadata": {},
   "source": [
    "- Средний запас предсказанного сырья в регионах имеет очень близкое значение к фактическим средним запасам.\n",
    "- Лучший показаетель оценки качества модели RMSE во втором регионе со значением 0.88.\n",
    "- Наибольший запас сырья в третьем регионе с показателем среднего значения 94.91.\n",
    "- Во всех регионах модель показывает результат метрики RMSE лучше чем dummy модель, котораяя предсказывает всегда среднее значение."
   ]
  },
  {
   "cell_type": "markdown",
   "metadata": {},
   "source": [
    "## Подготовка к расчёту прибыли"
   ]
  },
  {
   "cell_type": "code",
   "execution_count": 26,
   "metadata": {},
   "outputs": [
    {
     "name": "stdout",
     "output_type": "stream",
     "text": [
      "Минимальный средний объем: 111.11111111111111\n"
     ]
    }
   ],
   "source": [
    "INCOME = 450 # доход с одной единицы сырья в тысячах \n",
    "BUDGET = 10000000 # бюджет на разработку скважин в тысячах\n",
    "N = 200 # количество точек для разработки\n",
    "\n",
    "min_product = BUDGET/INCOME/N\n",
    "print('Минимальный средний объем:', min_product)"
   ]
  },
  {
   "cell_type": "markdown",
   "metadata": {},
   "source": [
    "**ВЫВОД: минимальный средний объем продукта скважин достаточный для разработки равен 111.11 тысяч баррелей.**\n",
    "Средний показатель запасов в первом и третьем регионах наиболее близки к данному расчету. Также в этих регионах 75 квартиль примерно равен 130 тысячам барелей, что является достаточным для разработки."
   ]
  },
  {
   "cell_type": "markdown",
   "metadata": {},
   "source": [
    "## Функцию для расчёта прибыли"
   ]
  },
  {
   "cell_type": "code",
   "execution_count": 27,
   "metadata": {},
   "outputs": [],
   "source": [
    "def profit(target, predict):\n",
    "    \n",
    "    # подготовка данных\n",
    "    \n",
    "    df = target.to_frame()\n",
    "    df_2 = pd.Series(predict, index=target.index).to_frame()\n",
    "    df['predict'] = df_2\n",
    "    df = df.sort_values(by='predict', ascending=False)\n",
    "    \n",
    "    df = df[:N] # скважины с максимальным предсказанием\n",
    "    \n",
    "    total_product = df['product'].sum() # общий объем сырья\n",
    "    profits = total_product * INCOME - BUDGET # прибыль для полученного объемы сырья\n",
    "    \n",
    "    return f'{profits:.2f}'"
   ]
  },
  {
   "cell_type": "code",
   "execution_count": 28,
   "metadata": {},
   "outputs": [
    {
     "name": "stdout",
     "output_type": "stream",
     "text": [
      "Прибыль при разработки в регионе№1: 3367800.71\n",
      "Прибыль при разработки в регионе№2: 2415086.70\n",
      "Прибыль при разработки в регионе№3: 2365339.72\n"
     ]
    }
   ],
   "source": [
    "# регион №1\n",
    "print('Прибыль при разработки в регионе№1:', profit(target_test_0, predictions_0))\n",
    "# регион №2\n",
    "print('Прибыль при разработки в регионе№2:', profit(target_test_1, predictions_1))\n",
    "# регион №3\n",
    "print('Прибыль при разработки в регионе№3:', profit(target_test_2, predictions_2))"
   ]
  },
  {
   "cell_type": "markdown",
   "metadata": {},
   "source": [
    "### Вывод\n",
    "- Все три региона являются прибыльными пр разработки выбранных скважин.\n",
    "- Наибольшую прибыль принесет первый регион равную 3 367 800 тысяч."
   ]
  },
  {
   "cell_type": "markdown",
   "metadata": {},
   "source": [
    "## Расчёт прибыли и рисков "
   ]
  },
  {
   "cell_type": "code",
   "execution_count": 29,
   "metadata": {},
   "outputs": [],
   "source": [
    "state = np.random.RandomState(12345)\n",
    "\n",
    "def bootstrap(target, predict):\n",
    "    \n",
    "    # подготовка данных\n",
    "    \n",
    "    df = target.to_frame()\n",
    "    df_2 = pd.Series(predict, index=target.index).to_frame()\n",
    "    df['predict'] = df_2\n",
    "    \n",
    "    values = []\n",
    "    \n",
    "    for i in range(1000):\n",
    "        subsample = (\n",
    "            df.sample(500, replace=True, random_state=state)\n",
    "            .sort_values(by='predict', ascending=False)[:N]\n",
    "                    )\n",
    "        total_product = subsample['product'].sum() * INCOME - BUDGET\n",
    "        values.append(total_product)\n",
    "        \n",
    "    values = pd.Series(values)\n",
    "    lower = values.quantile(.025)\n",
    "    apper = values.quantile(.975)\n",
    "    \n",
    "    print(f'Средняя прибыль: {values.mean():.2f}')\n",
    "    print(f'Риск убытков: {(values<0).mean():.2%}')\n",
    "    print(f'95% доверительный интервал: {lower:.2f} - {apper:.2f} тысяч.')"
   ]
  },
  {
   "cell_type": "markdown",
   "metadata": {},
   "source": [
    "### Риски и прибыль для региона №1"
   ]
  },
  {
   "cell_type": "code",
   "execution_count": 30,
   "metadata": {},
   "outputs": [
    {
     "name": "stdout",
     "output_type": "stream",
     "text": [
      "Средняя прибыль: 414090.45\n",
      "Риск убытков: 5.60%\n",
      "95% доверительный интервал: -74255.10 - 936301.91 тысяч.\n"
     ]
    }
   ],
   "source": [
    "bootstrap(target_test_0, predictions_0)"
   ]
  },
  {
   "cell_type": "markdown",
   "metadata": {},
   "source": [
    "### Риски и прибыль для региона №2"
   ]
  },
  {
   "cell_type": "code",
   "execution_count": 31,
   "metadata": {},
   "outputs": [
    {
     "name": "stdout",
     "output_type": "stream",
     "text": [
      "Средняя прибыль: 452932.19\n",
      "Риск убытков: 1.10%\n",
      "95% доверительный интервал: 86013.94 - 874432.59 тысяч.\n"
     ]
    }
   ],
   "source": [
    "bootstrap(target_test_1, predictions_1)"
   ]
  },
  {
   "cell_type": "markdown",
   "metadata": {},
   "source": [
    "### Риски и прибыль для региона №3"
   ]
  },
  {
   "cell_type": "code",
   "execution_count": 32,
   "metadata": {},
   "outputs": [
    {
     "name": "stdout",
     "output_type": "stream",
     "text": [
      "Средняя прибыль: 375655.17\n",
      "Риск убытков: 6.60%\n",
      "95% доверительный интервал: -156905.23 - 895232.24 тысяч.\n"
     ]
    }
   ],
   "source": [
    "bootstrap(target_test_2, predictions_2)"
   ]
  },
  {
   "cell_type": "markdown",
   "metadata": {},
   "source": [
    "## Вывод"
   ]
  },
  {
   "cell_type": "markdown",
   "metadata": {},
   "source": [
    "- Второй регион наиболее предпочтительный для дальнейшей разработки скважин.\n",
    "- Модель во втором региони предсказывает значения целевого признака максимально близкие к реальным данным в то время как в первом и третьем регионах срезднее отклонение предсказания равняется 37 и 39 пр и средних значениях в 92 и 94 баррелей, что является погрешностью примерно в 40%.\n",
    "- При применении техники Bootstrap риск убытков во втором регионее равен 1% в то время как в первом и третьем регионах риск значительно выше 5.6% и 6.6% соответственно.\n",
    "- 95% доверительный интервал в первом и третьем регионах имеет отрицательные значения от 0.25 квартиля. Во втором регионе 95% доверительный интервал не имеет отрицательных значений прибыли.\n",
    "- Во втором регионе средняя прибыль при применении техники Bootstrap равна 452932.19, что выше в двух других регионах."
   ]
  }
 ],
 "metadata": {
  "ExecuteTimeLog": [
   {
    "duration": 1221,
    "start_time": "2023-06-30T19:08:01.715Z"
   },
   {
    "duration": 134,
    "start_time": "2023-06-30T19:09:05.722Z"
   },
   {
    "duration": 3,
    "start_time": "2023-06-30T19:09:24.051Z"
   },
   {
    "duration": 3,
    "start_time": "2023-06-30T19:09:27.463Z"
   },
   {
    "duration": 15,
    "start_time": "2023-06-30T19:10:24.455Z"
   },
   {
    "duration": 12,
    "start_time": "2023-06-30T19:10:32.486Z"
   },
   {
    "duration": 11,
    "start_time": "2023-06-30T19:10:44.162Z"
   },
   {
    "duration": 21,
    "start_time": "2023-06-30T19:11:10.922Z"
   },
   {
    "duration": 15,
    "start_time": "2023-06-30T19:11:17.457Z"
   },
   {
    "duration": 12,
    "start_time": "2023-06-30T19:12:34.405Z"
   },
   {
    "duration": 12,
    "start_time": "2023-06-30T19:13:15.026Z"
   },
   {
    "duration": 3,
    "start_time": "2023-06-30T19:13:55.118Z"
   },
   {
    "duration": 12,
    "start_time": "2023-06-30T19:15:17.028Z"
   },
   {
    "duration": 13,
    "start_time": "2023-06-30T19:15:30.631Z"
   },
   {
    "duration": 12,
    "start_time": "2023-06-30T19:15:45.256Z"
   },
   {
    "duration": 14,
    "start_time": "2023-06-30T19:15:50.995Z"
   },
   {
    "duration": 10,
    "start_time": "2023-06-30T19:16:09.830Z"
   },
   {
    "duration": 11,
    "start_time": "2023-06-30T19:16:38.477Z"
   },
   {
    "duration": 13,
    "start_time": "2023-06-30T19:17:04.372Z"
   },
   {
    "duration": 3,
    "start_time": "2023-06-30T19:18:09.534Z"
   },
   {
    "duration": 481,
    "start_time": "2023-06-30T19:19:50.049Z"
   },
   {
    "duration": 378,
    "start_time": "2023-06-30T19:20:56.983Z"
   },
   {
    "duration": 510,
    "start_time": "2023-06-30T19:21:56.225Z"
   },
   {
    "duration": 401,
    "start_time": "2023-06-30T19:22:14.161Z"
   },
   {
    "duration": 407,
    "start_time": "2023-06-30T19:23:16.290Z"
   },
   {
    "duration": 395,
    "start_time": "2023-06-30T19:23:46.373Z"
   },
   {
    "duration": 396,
    "start_time": "2023-06-30T19:24:06.315Z"
   },
   {
    "duration": 87,
    "start_time": "2023-06-30T19:24:29.259Z"
   },
   {
    "duration": 85,
    "start_time": "2023-06-30T19:24:37.377Z"
   },
   {
    "duration": 405,
    "start_time": "2023-06-30T19:25:14.814Z"
   },
   {
    "duration": 144,
    "start_time": "2023-06-30T19:25:29.619Z"
   },
   {
    "duration": 150,
    "start_time": "2023-06-30T19:25:38.423Z"
   },
   {
    "duration": 154,
    "start_time": "2023-06-30T19:26:05.281Z"
   },
   {
    "duration": 143,
    "start_time": "2023-06-30T19:26:16.141Z"
   },
   {
    "duration": 13,
    "start_time": "2023-06-30T19:27:17.296Z"
   },
   {
    "duration": 10,
    "start_time": "2023-06-30T19:27:23.776Z"
   },
   {
    "duration": 10,
    "start_time": "2023-06-30T19:27:54.127Z"
   },
   {
    "duration": 12,
    "start_time": "2023-06-30T19:28:10.524Z"
   },
   {
    "duration": 11,
    "start_time": "2023-06-30T19:28:19.579Z"
   },
   {
    "duration": 53,
    "start_time": "2023-06-30T19:28:58.380Z"
   },
   {
    "duration": 46,
    "start_time": "2023-06-30T19:29:06.629Z"
   },
   {
    "duration": 50,
    "start_time": "2023-06-30T19:29:22.770Z"
   },
   {
    "duration": 50,
    "start_time": "2023-06-30T19:29:31.798Z"
   },
   {
    "duration": 12,
    "start_time": "2023-06-30T19:30:09.116Z"
   },
   {
    "duration": 10,
    "start_time": "2023-06-30T19:30:14.389Z"
   },
   {
    "duration": 16,
    "start_time": "2023-06-30T19:31:01.624Z"
   },
   {
    "duration": 17,
    "start_time": "2023-06-30T19:31:47.990Z"
   },
   {
    "duration": 11,
    "start_time": "2023-06-30T19:34:01.584Z"
   },
   {
    "duration": 11,
    "start_time": "2023-06-30T19:34:56.912Z"
   },
   {
    "duration": 11,
    "start_time": "2023-06-30T19:35:24.910Z"
   },
   {
    "duration": 159,
    "start_time": "2023-06-30T19:37:13.371Z"
   },
   {
    "duration": 157,
    "start_time": "2023-06-30T19:37:32.336Z"
   },
   {
    "duration": 153,
    "start_time": "2023-06-30T19:37:35.756Z"
   },
   {
    "duration": 17,
    "start_time": "2023-06-30T19:37:40.982Z"
   },
   {
    "duration": 15,
    "start_time": "2023-06-30T19:37:44.047Z"
   },
   {
    "duration": 151,
    "start_time": "2023-06-30T19:37:59.390Z"
   },
   {
    "duration": 24,
    "start_time": "2023-06-30T19:38:05.892Z"
   },
   {
    "duration": 1146,
    "start_time": "2023-07-02T14:38:02.543Z"
   },
   {
    "duration": 3,
    "start_time": "2023-07-02T14:41:32.011Z"
   },
   {
    "duration": 1795,
    "start_time": "2023-07-02T14:41:38.415Z"
   },
   {
    "duration": 396,
    "start_time": "2023-07-02T14:44:11.213Z"
   },
   {
    "duration": 12,
    "start_time": "2023-07-02T14:44:15.452Z"
   },
   {
    "duration": 15,
    "start_time": "2023-07-02T14:46:49.443Z"
   },
   {
    "duration": 117,
    "start_time": "2023-07-02T14:49:15.025Z"
   },
   {
    "duration": 5155,
    "start_time": "2023-07-02T14:49:25.035Z"
   },
   {
    "duration": 4653,
    "start_time": "2023-07-02T14:49:38.157Z"
   },
   {
    "duration": 4838,
    "start_time": "2023-07-02T14:50:02.484Z"
   },
   {
    "duration": 4637,
    "start_time": "2023-07-02T14:50:29.129Z"
   },
   {
    "duration": 4934,
    "start_time": "2023-07-02T14:51:07.245Z"
   },
   {
    "duration": 5125,
    "start_time": "2023-07-02T14:52:03.315Z"
   },
   {
    "duration": 5020,
    "start_time": "2023-07-02T14:52:52.395Z"
   },
   {
    "duration": 18,
    "start_time": "2023-07-02T14:54:55.223Z"
   },
   {
    "duration": 41,
    "start_time": "2023-07-02T14:54:58.954Z"
   },
   {
    "duration": 8,
    "start_time": "2023-07-02T14:56:19.451Z"
   },
   {
    "duration": 49,
    "start_time": "2023-07-02T14:57:11.654Z"
   },
   {
    "duration": 31,
    "start_time": "2023-07-02T14:57:20.232Z"
   },
   {
    "duration": 31,
    "start_time": "2023-07-02T14:57:24.927Z"
   },
   {
    "duration": 31,
    "start_time": "2023-07-02T14:57:34.404Z"
   },
   {
    "duration": 9,
    "start_time": "2023-07-02T14:58:37.403Z"
   },
   {
    "duration": 11,
    "start_time": "2023-07-02T14:58:40.028Z"
   },
   {
    "duration": 59,
    "start_time": "2023-07-02T14:58:43.142Z"
   },
   {
    "duration": 8,
    "start_time": "2023-07-02T14:59:06.110Z"
   },
   {
    "duration": 12,
    "start_time": "2023-07-02T17:45:12.882Z"
   },
   {
    "duration": 43,
    "start_time": "2023-07-02T17:45:14.737Z"
   },
   {
    "duration": 9,
    "start_time": "2023-07-02T17:45:49.282Z"
   },
   {
    "duration": 11,
    "start_time": "2023-07-02T17:46:28.087Z"
   },
   {
    "duration": 50,
    "start_time": "2023-07-02T17:47:00.682Z"
   },
   {
    "duration": 28,
    "start_time": "2023-07-02T17:48:58.458Z"
   },
   {
    "duration": 19,
    "start_time": "2023-07-02T17:49:07.792Z"
   },
   {
    "duration": 21,
    "start_time": "2023-07-02T17:49:41.038Z"
   },
   {
    "duration": 115,
    "start_time": "2023-07-02T17:51:42.482Z"
   },
   {
    "duration": 13,
    "start_time": "2023-07-02T17:52:04.448Z"
   },
   {
    "duration": 28,
    "start_time": "2023-07-02T17:52:22.352Z"
   },
   {
    "duration": 6,
    "start_time": "2023-07-02T17:54:45.396Z"
   },
   {
    "duration": 3,
    "start_time": "2023-07-02T17:54:57.852Z"
   },
   {
    "duration": 203,
    "start_time": "2023-07-02T17:55:17.595Z"
   },
   {
    "duration": 30,
    "start_time": "2023-07-02T17:55:31.822Z"
   },
   {
    "duration": 26,
    "start_time": "2023-07-02T17:55:45.479Z"
   },
   {
    "duration": 32,
    "start_time": "2023-07-02T17:55:59.078Z"
   },
   {
    "duration": 29,
    "start_time": "2023-07-02T17:56:10.394Z"
   },
   {
    "duration": 4,
    "start_time": "2023-07-02T17:57:03.558Z"
   },
   {
    "duration": 27,
    "start_time": "2023-07-02T17:57:14.542Z"
   },
   {
    "duration": 25,
    "start_time": "2023-07-02T17:57:44.916Z"
   },
   {
    "duration": 29,
    "start_time": "2023-07-02T17:58:09.285Z"
   },
   {
    "duration": 25,
    "start_time": "2023-07-02T17:59:05.993Z"
   },
   {
    "duration": 41,
    "start_time": "2023-07-02T17:59:34.244Z"
   },
   {
    "duration": 4,
    "start_time": "2023-07-02T18:15:36.833Z"
   },
   {
    "duration": 119,
    "start_time": "2023-07-03T08:51:18.027Z"
   },
   {
    "duration": 0,
    "start_time": "2023-07-03T08:51:18.149Z"
   },
   {
    "duration": 0,
    "start_time": "2023-07-03T08:51:18.151Z"
   },
   {
    "duration": 0,
    "start_time": "2023-07-03T08:51:18.153Z"
   },
   {
    "duration": 0,
    "start_time": "2023-07-03T08:51:18.155Z"
   },
   {
    "duration": 0,
    "start_time": "2023-07-03T08:51:18.156Z"
   },
   {
    "duration": 0,
    "start_time": "2023-07-03T08:51:18.158Z"
   },
   {
    "duration": 0,
    "start_time": "2023-07-03T08:51:18.159Z"
   },
   {
    "duration": 0,
    "start_time": "2023-07-03T08:51:18.160Z"
   },
   {
    "duration": 0,
    "start_time": "2023-07-03T08:51:18.162Z"
   },
   {
    "duration": 0,
    "start_time": "2023-07-03T08:51:18.163Z"
   },
   {
    "duration": 0,
    "start_time": "2023-07-03T08:51:18.164Z"
   },
   {
    "duration": 0,
    "start_time": "2023-07-03T08:51:18.166Z"
   },
   {
    "duration": 0,
    "start_time": "2023-07-03T08:51:18.168Z"
   },
   {
    "duration": 0,
    "start_time": "2023-07-03T08:51:18.169Z"
   },
   {
    "duration": 0,
    "start_time": "2023-07-03T08:51:18.170Z"
   },
   {
    "duration": 0,
    "start_time": "2023-07-03T08:51:18.172Z"
   },
   {
    "duration": 0,
    "start_time": "2023-07-03T08:51:18.173Z"
   },
   {
    "duration": 0,
    "start_time": "2023-07-03T08:51:18.174Z"
   },
   {
    "duration": 0,
    "start_time": "2023-07-03T08:51:18.176Z"
   },
   {
    "duration": 0,
    "start_time": "2023-07-03T08:51:18.177Z"
   },
   {
    "duration": 0,
    "start_time": "2023-07-03T08:51:18.178Z"
   },
   {
    "duration": 0,
    "start_time": "2023-07-03T08:51:18.180Z"
   },
   {
    "duration": 0,
    "start_time": "2023-07-03T08:51:18.181Z"
   },
   {
    "duration": 115,
    "start_time": "2023-07-03T08:51:33.464Z"
   },
   {
    "duration": 0,
    "start_time": "2023-07-03T08:51:33.581Z"
   },
   {
    "duration": 0,
    "start_time": "2023-07-03T08:51:33.582Z"
   },
   {
    "duration": 0,
    "start_time": "2023-07-03T08:51:33.588Z"
   },
   {
    "duration": 0,
    "start_time": "2023-07-03T08:51:33.589Z"
   },
   {
    "duration": 0,
    "start_time": "2023-07-03T08:51:33.591Z"
   },
   {
    "duration": 0,
    "start_time": "2023-07-03T08:51:33.592Z"
   },
   {
    "duration": 0,
    "start_time": "2023-07-03T08:51:33.593Z"
   },
   {
    "duration": 0,
    "start_time": "2023-07-03T08:51:33.594Z"
   },
   {
    "duration": 0,
    "start_time": "2023-07-03T08:51:33.595Z"
   },
   {
    "duration": 0,
    "start_time": "2023-07-03T08:51:33.598Z"
   },
   {
    "duration": 0,
    "start_time": "2023-07-03T08:51:33.599Z"
   },
   {
    "duration": 0,
    "start_time": "2023-07-03T08:51:33.600Z"
   },
   {
    "duration": 0,
    "start_time": "2023-07-03T08:51:33.601Z"
   },
   {
    "duration": 0,
    "start_time": "2023-07-03T08:51:33.602Z"
   },
   {
    "duration": 0,
    "start_time": "2023-07-03T08:51:33.603Z"
   },
   {
    "duration": 0,
    "start_time": "2023-07-03T08:51:33.604Z"
   },
   {
    "duration": 1,
    "start_time": "2023-07-03T08:51:33.604Z"
   },
   {
    "duration": 0,
    "start_time": "2023-07-03T08:51:33.605Z"
   },
   {
    "duration": 0,
    "start_time": "2023-07-03T08:51:33.607Z"
   },
   {
    "duration": 0,
    "start_time": "2023-07-03T08:51:33.610Z"
   },
   {
    "duration": 0,
    "start_time": "2023-07-03T08:51:33.610Z"
   },
   {
    "duration": 0,
    "start_time": "2023-07-03T08:51:33.612Z"
   },
   {
    "duration": 0,
    "start_time": "2023-07-03T08:51:33.613Z"
   },
   {
    "duration": 1166,
    "start_time": "2023-07-03T08:52:08.123Z"
   },
   {
    "duration": 4,
    "start_time": "2023-07-03T08:52:09.291Z"
   },
   {
    "duration": 1662,
    "start_time": "2023-07-03T08:52:09.296Z"
   },
   {
    "duration": 20,
    "start_time": "2023-07-03T08:52:10.959Z"
   },
   {
    "duration": 17,
    "start_time": "2023-07-03T08:52:10.982Z"
   },
   {
    "duration": 77,
    "start_time": "2023-07-03T08:52:11.001Z"
   },
   {
    "duration": 33,
    "start_time": "2023-07-03T08:52:11.080Z"
   },
   {
    "duration": 55,
    "start_time": "2023-07-03T08:52:11.115Z"
   },
   {
    "duration": 16,
    "start_time": "2023-07-03T08:52:11.171Z"
   },
   {
    "duration": 5175,
    "start_time": "2023-07-03T08:52:11.188Z"
   },
   {
    "duration": 10,
    "start_time": "2023-07-03T08:52:16.364Z"
   },
   {
    "duration": 14,
    "start_time": "2023-07-03T08:52:16.375Z"
   },
   {
    "duration": 42,
    "start_time": "2023-07-03T08:52:16.390Z"
   },
   {
    "duration": 53,
    "start_time": "2023-07-03T08:52:16.435Z"
   },
   {
    "duration": 36,
    "start_time": "2023-07-03T08:52:16.489Z"
   },
   {
    "duration": 14,
    "start_time": "2023-07-03T08:52:16.526Z"
   },
   {
    "duration": 4471,
    "start_time": "2023-07-03T08:52:16.541Z"
   },
   {
    "duration": 9,
    "start_time": "2023-07-03T08:52:21.013Z"
   },
   {
    "duration": 18,
    "start_time": "2023-07-03T08:52:21.023Z"
   },
   {
    "duration": 75,
    "start_time": "2023-07-03T08:52:21.043Z"
   },
   {
    "duration": 31,
    "start_time": "2023-07-03T08:52:21.119Z"
   },
   {
    "duration": 38,
    "start_time": "2023-07-03T08:52:21.168Z"
   },
   {
    "duration": 14,
    "start_time": "2023-07-03T08:52:21.207Z"
   },
   {
    "duration": 4509,
    "start_time": "2023-07-03T08:52:21.223Z"
   },
   {
    "duration": 28,
    "start_time": "2023-07-03T08:53:59.463Z"
   },
   {
    "duration": 26,
    "start_time": "2023-07-03T08:54:25.636Z"
   },
   {
    "duration": 36,
    "start_time": "2023-07-03T08:54:59.311Z"
   },
   {
    "duration": 28,
    "start_time": "2023-07-03T08:55:06.025Z"
   },
   {
    "duration": 32,
    "start_time": "2023-07-03T08:55:25.328Z"
   },
   {
    "duration": 26,
    "start_time": "2023-07-03T08:55:31.673Z"
   },
   {
    "duration": 101,
    "start_time": "2023-07-03T08:56:02.695Z"
   },
   {
    "duration": 9,
    "start_time": "2023-07-03T08:56:06.894Z"
   },
   {
    "duration": 4,
    "start_time": "2023-07-03T08:56:10.143Z"
   },
   {
    "duration": 31,
    "start_time": "2023-07-03T08:56:45.583Z"
   },
   {
    "duration": 8,
    "start_time": "2023-07-03T08:57:12.681Z"
   },
   {
    "duration": 5,
    "start_time": "2023-07-03T08:58:02.652Z"
   },
   {
    "duration": 22,
    "start_time": "2023-07-03T08:58:08.318Z"
   },
   {
    "duration": 5,
    "start_time": "2023-07-03T08:58:17.281Z"
   },
   {
    "duration": 18,
    "start_time": "2023-07-03T08:58:29.060Z"
   },
   {
    "duration": 1094,
    "start_time": "2023-07-03T08:58:35.802Z"
   },
   {
    "duration": 4,
    "start_time": "2023-07-03T08:58:36.898Z"
   },
   {
    "duration": 399,
    "start_time": "2023-07-03T08:58:36.903Z"
   },
   {
    "duration": 16,
    "start_time": "2023-07-03T08:58:37.303Z"
   },
   {
    "duration": 16,
    "start_time": "2023-07-03T08:58:37.321Z"
   },
   {
    "duration": 90,
    "start_time": "2023-07-03T08:58:37.339Z"
   },
   {
    "duration": 37,
    "start_time": "2023-07-03T08:58:37.431Z"
   },
   {
    "duration": 27,
    "start_time": "2023-07-03T08:58:37.470Z"
   },
   {
    "duration": 36,
    "start_time": "2023-07-03T08:58:37.498Z"
   },
   {
    "duration": 35,
    "start_time": "2023-07-03T08:58:37.536Z"
   },
   {
    "duration": 4603,
    "start_time": "2023-07-03T08:58:37.573Z"
   },
   {
    "duration": 9,
    "start_time": "2023-07-03T08:58:42.177Z"
   },
   {
    "duration": 16,
    "start_time": "2023-07-03T08:58:42.188Z"
   },
   {
    "duration": 63,
    "start_time": "2023-07-03T08:58:42.207Z"
   },
   {
    "duration": 29,
    "start_time": "2023-07-03T08:58:42.272Z"
   },
   {
    "duration": 24,
    "start_time": "2023-07-03T08:58:42.302Z"
   },
   {
    "duration": 48,
    "start_time": "2023-07-03T08:58:42.328Z"
   },
   {
    "duration": 8,
    "start_time": "2023-07-03T08:58:42.377Z"
   },
   {
    "duration": 698,
    "start_time": "2023-07-03T08:58:42.386Z"
   },
   {
    "duration": 9,
    "start_time": "2023-07-03T08:58:43.086Z"
   },
   {
    "duration": 24,
    "start_time": "2023-07-03T08:58:43.096Z"
   },
   {
    "duration": 91,
    "start_time": "2023-07-03T08:58:43.122Z"
   },
   {
    "duration": 31,
    "start_time": "2023-07-03T08:58:43.215Z"
   },
   {
    "duration": 322,
    "start_time": "2023-07-03T08:58:43.248Z"
   },
   {
    "duration": 0,
    "start_time": "2023-07-03T08:58:43.571Z"
   },
   {
    "duration": 0,
    "start_time": "2023-07-03T08:58:43.573Z"
   },
   {
    "duration": 0,
    "start_time": "2023-07-03T08:58:43.575Z"
   },
   {
    "duration": 0,
    "start_time": "2023-07-03T08:58:43.576Z"
   },
   {
    "duration": 114,
    "start_time": "2023-07-03T09:00:02.837Z"
   },
   {
    "duration": 5,
    "start_time": "2023-07-03T09:00:06.594Z"
   },
   {
    "duration": 47,
    "start_time": "2023-07-03T09:00:28.413Z"
   },
   {
    "duration": 8,
    "start_time": "2023-07-03T09:01:00.913Z"
   },
   {
    "duration": 23,
    "start_time": "2023-07-03T09:01:41.250Z"
   },
   {
    "duration": 1145,
    "start_time": "2023-07-03T09:01:58.262Z"
   },
   {
    "duration": 4,
    "start_time": "2023-07-03T09:01:59.408Z"
   },
   {
    "duration": 386,
    "start_time": "2023-07-03T09:01:59.413Z"
   },
   {
    "duration": 15,
    "start_time": "2023-07-03T09:01:59.801Z"
   },
   {
    "duration": 10,
    "start_time": "2023-07-03T09:01:59.819Z"
   },
   {
    "duration": 74,
    "start_time": "2023-07-03T09:01:59.831Z"
   },
   {
    "duration": 31,
    "start_time": "2023-07-03T09:01:59.906Z"
   },
   {
    "duration": 44,
    "start_time": "2023-07-03T09:01:59.939Z"
   },
   {
    "duration": 121,
    "start_time": "2023-07-03T09:01:59.985Z"
   },
   {
    "duration": 0,
    "start_time": "2023-07-03T09:02:00.108Z"
   },
   {
    "duration": 0,
    "start_time": "2023-07-03T09:02:00.109Z"
   },
   {
    "duration": 0,
    "start_time": "2023-07-03T09:02:00.110Z"
   },
   {
    "duration": 0,
    "start_time": "2023-07-03T09:02:00.111Z"
   },
   {
    "duration": 0,
    "start_time": "2023-07-03T09:02:00.112Z"
   },
   {
    "duration": 0,
    "start_time": "2023-07-03T09:02:00.113Z"
   },
   {
    "duration": 0,
    "start_time": "2023-07-03T09:02:00.115Z"
   },
   {
    "duration": 0,
    "start_time": "2023-07-03T09:02:00.115Z"
   },
   {
    "duration": 0,
    "start_time": "2023-07-03T09:02:00.117Z"
   },
   {
    "duration": 0,
    "start_time": "2023-07-03T09:02:00.118Z"
   },
   {
    "duration": 0,
    "start_time": "2023-07-03T09:02:00.119Z"
   },
   {
    "duration": 0,
    "start_time": "2023-07-03T09:02:00.120Z"
   },
   {
    "duration": 0,
    "start_time": "2023-07-03T09:02:00.120Z"
   },
   {
    "duration": 0,
    "start_time": "2023-07-03T09:02:00.122Z"
   },
   {
    "duration": 0,
    "start_time": "2023-07-03T09:02:00.123Z"
   },
   {
    "duration": 0,
    "start_time": "2023-07-03T09:02:00.124Z"
   },
   {
    "duration": 0,
    "start_time": "2023-07-03T09:02:00.126Z"
   },
   {
    "duration": 0,
    "start_time": "2023-07-03T09:02:00.127Z"
   },
   {
    "duration": 0,
    "start_time": "2023-07-03T09:02:00.129Z"
   },
   {
    "duration": 0,
    "start_time": "2023-07-03T09:02:00.130Z"
   },
   {
    "duration": 33,
    "start_time": "2023-07-03T09:02:51.796Z"
   },
   {
    "duration": 10,
    "start_time": "2023-07-03T09:03:34.443Z"
   },
   {
    "duration": 1193,
    "start_time": "2023-07-03T09:03:41.028Z"
   },
   {
    "duration": 4,
    "start_time": "2023-07-03T09:03:42.223Z"
   },
   {
    "duration": 367,
    "start_time": "2023-07-03T09:03:42.230Z"
   },
   {
    "duration": 16,
    "start_time": "2023-07-03T09:03:42.599Z"
   },
   {
    "duration": 10,
    "start_time": "2023-07-03T09:03:42.618Z"
   },
   {
    "duration": 67,
    "start_time": "2023-07-03T09:03:42.630Z"
   },
   {
    "duration": 41,
    "start_time": "2023-07-03T09:03:42.699Z"
   },
   {
    "duration": 46,
    "start_time": "2023-07-03T09:03:42.742Z"
   },
   {
    "duration": 145,
    "start_time": "2023-07-03T09:03:42.789Z"
   },
   {
    "duration": 41,
    "start_time": "2023-07-03T09:03:42.936Z"
   },
   {
    "duration": 19,
    "start_time": "2023-07-03T09:03:42.978Z"
   },
   {
    "duration": 4897,
    "start_time": "2023-07-03T09:03:42.998Z"
   },
   {
    "duration": 11,
    "start_time": "2023-07-03T09:03:47.897Z"
   },
   {
    "duration": 21,
    "start_time": "2023-07-03T09:03:47.912Z"
   },
   {
    "duration": 74,
    "start_time": "2023-07-03T09:03:47.936Z"
   },
   {
    "duration": 30,
    "start_time": "2023-07-03T09:03:48.012Z"
   },
   {
    "duration": 162,
    "start_time": "2023-07-03T09:03:48.044Z"
   },
   {
    "duration": 40,
    "start_time": "2023-07-03T09:03:48.208Z"
   },
   {
    "duration": 14,
    "start_time": "2023-07-03T09:03:48.268Z"
   },
   {
    "duration": 4424,
    "start_time": "2023-07-03T09:03:48.284Z"
   },
   {
    "duration": 8,
    "start_time": "2023-07-03T09:03:52.710Z"
   },
   {
    "duration": 199,
    "start_time": "2023-07-03T09:03:52.719Z"
   },
   {
    "duration": 51,
    "start_time": "2023-07-03T09:03:52.920Z"
   },
   {
    "duration": 28,
    "start_time": "2023-07-03T09:03:52.972Z"
   },
   {
    "duration": 153,
    "start_time": "2023-07-03T09:03:53.002Z"
   },
   {
    "duration": 5,
    "start_time": "2023-07-03T09:03:53.157Z"
   },
   {
    "duration": 40,
    "start_time": "2023-07-03T09:03:53.168Z"
   },
   {
    "duration": 15,
    "start_time": "2023-07-03T09:03:53.210Z"
   },
   {
    "duration": 4460,
    "start_time": "2023-07-03T09:03:53.227Z"
   },
   {
    "duration": 37,
    "start_time": "2023-07-03T09:05:25.245Z"
   },
   {
    "duration": 1174,
    "start_time": "2023-07-03T09:05:31.269Z"
   },
   {
    "duration": 4,
    "start_time": "2023-07-03T09:05:32.445Z"
   },
   {
    "duration": 380,
    "start_time": "2023-07-03T09:05:32.450Z"
   },
   {
    "duration": 15,
    "start_time": "2023-07-03T09:05:32.832Z"
   },
   {
    "duration": 24,
    "start_time": "2023-07-03T09:05:32.849Z"
   },
   {
    "duration": 55,
    "start_time": "2023-07-03T09:05:32.874Z"
   },
   {
    "duration": 30,
    "start_time": "2023-07-03T09:05:32.930Z"
   },
   {
    "duration": 57,
    "start_time": "2023-07-03T09:05:32.962Z"
   },
   {
    "duration": 27,
    "start_time": "2023-07-03T09:05:33.020Z"
   },
   {
    "duration": 127,
    "start_time": "2023-07-03T09:05:33.049Z"
   },
   {
    "duration": 33,
    "start_time": "2023-07-03T09:05:33.178Z"
   },
   {
    "duration": 12,
    "start_time": "2023-07-03T09:05:33.212Z"
   },
   {
    "duration": 4596,
    "start_time": "2023-07-03T09:05:33.225Z"
   },
   {
    "duration": 9,
    "start_time": "2023-07-03T09:05:37.824Z"
   },
   {
    "duration": 16,
    "start_time": "2023-07-03T09:05:37.834Z"
   },
   {
    "duration": 56,
    "start_time": "2023-07-03T09:05:37.851Z"
   },
   {
    "duration": 25,
    "start_time": "2023-07-03T09:05:37.908Z"
   },
   {
    "duration": 125,
    "start_time": "2023-07-03T09:05:37.935Z"
   },
   {
    "duration": 34,
    "start_time": "2023-07-03T09:05:38.061Z"
   },
   {
    "duration": 12,
    "start_time": "2023-07-03T09:05:38.096Z"
   },
   {
    "duration": 3973,
    "start_time": "2023-07-03T09:05:38.109Z"
   },
   {
    "duration": 8,
    "start_time": "2023-07-03T09:05:42.084Z"
   },
   {
    "duration": 11,
    "start_time": "2023-07-03T09:05:42.093Z"
   },
   {
    "duration": 40,
    "start_time": "2023-07-03T09:05:42.106Z"
   },
   {
    "duration": 26,
    "start_time": "2023-07-03T09:05:42.167Z"
   },
   {
    "duration": 110,
    "start_time": "2023-07-03T09:05:42.195Z"
   },
   {
    "duration": 4,
    "start_time": "2023-07-03T09:05:42.307Z"
   },
   {
    "duration": 42,
    "start_time": "2023-07-03T09:05:42.313Z"
   },
   {
    "duration": 18,
    "start_time": "2023-07-03T09:05:42.357Z"
   },
   {
    "duration": 4389,
    "start_time": "2023-07-03T09:05:42.377Z"
   },
   {
    "duration": 8,
    "start_time": "2023-07-03T09:33:12.763Z"
   },
   {
    "duration": 115,
    "start_time": "2023-07-03T09:34:27.947Z"
   },
   {
    "duration": 17,
    "start_time": "2023-07-03T09:34:40.719Z"
   },
   {
    "duration": 23,
    "start_time": "2023-07-03T09:34:55.121Z"
   },
   {
    "duration": 36,
    "start_time": "2023-07-03T09:38:25.484Z"
   },
   {
    "duration": 22,
    "start_time": "2023-07-03T09:39:12.299Z"
   },
   {
    "duration": 20,
    "start_time": "2023-07-03T09:40:45.719Z"
   },
   {
    "duration": 19,
    "start_time": "2023-07-03T09:44:02.472Z"
   },
   {
    "duration": 11,
    "start_time": "2023-07-03T09:44:23.645Z"
   },
   {
    "duration": 3,
    "start_time": "2023-07-03T09:58:44.193Z"
   },
   {
    "duration": 23,
    "start_time": "2023-07-03T10:02:22.667Z"
   },
   {
    "duration": 38,
    "start_time": "2023-07-03T10:04:15.305Z"
   },
   {
    "duration": 18,
    "start_time": "2023-07-03T10:04:44.710Z"
   },
   {
    "duration": 28,
    "start_time": "2023-07-03T10:19:05.303Z"
   },
   {
    "duration": 28,
    "start_time": "2023-07-03T10:21:47.292Z"
   },
   {
    "duration": 24,
    "start_time": "2023-07-03T10:22:52.669Z"
   },
   {
    "duration": 27,
    "start_time": "2023-07-03T10:25:40.123Z"
   },
   {
    "duration": 24,
    "start_time": "2023-07-03T10:26:06.906Z"
   },
   {
    "duration": 26,
    "start_time": "2023-07-03T10:26:25.571Z"
   },
   {
    "duration": 28,
    "start_time": "2023-07-03T10:29:28.364Z"
   },
   {
    "duration": 42,
    "start_time": "2023-07-03T10:30:17.726Z"
   },
   {
    "duration": 30,
    "start_time": "2023-07-03T10:31:37.726Z"
   },
   {
    "duration": 98,
    "start_time": "2023-07-03T10:36:03.073Z"
   },
   {
    "duration": 106,
    "start_time": "2023-07-03T10:48:47.861Z"
   },
   {
    "duration": 83,
    "start_time": "2023-07-03T10:49:36.688Z"
   },
   {
    "duration": 36,
    "start_time": "2023-07-03T10:51:04.868Z"
   },
   {
    "duration": 64,
    "start_time": "2023-07-03T10:51:41.006Z"
   },
   {
    "duration": 27,
    "start_time": "2023-07-03T10:51:55.936Z"
   },
   {
    "duration": 32,
    "start_time": "2023-07-03T10:52:12.897Z"
   },
   {
    "duration": 67,
    "start_time": "2023-07-03T10:52:13.803Z"
   },
   {
    "duration": 30,
    "start_time": "2023-07-03T10:52:14.598Z"
   },
   {
    "duration": 35,
    "start_time": "2023-07-03T10:52:15.560Z"
   },
   {
    "duration": 36,
    "start_time": "2023-07-03T10:52:16.361Z"
   },
   {
    "duration": 3,
    "start_time": "2023-07-03T11:17:53.756Z"
   },
   {
    "duration": 66,
    "start_time": "2023-07-03T11:27:44.406Z"
   },
   {
    "duration": 31,
    "start_time": "2023-07-03T11:28:22.292Z"
   },
   {
    "duration": 31,
    "start_time": "2023-07-03T11:28:45.337Z"
   },
   {
    "duration": 5,
    "start_time": "2023-07-03T12:43:24.092Z"
   },
   {
    "duration": 4,
    "start_time": "2023-07-03T12:46:14.892Z"
   },
   {
    "duration": 3,
    "start_time": "2023-07-03T13:00:04.995Z"
   },
   {
    "duration": 101,
    "start_time": "2023-07-03T13:14:25.368Z"
   },
   {
    "duration": 43,
    "start_time": "2023-07-03T13:14:41.933Z"
   },
   {
    "duration": 30,
    "start_time": "2023-07-03T13:14:56.888Z"
   },
   {
    "duration": 102,
    "start_time": "2023-07-03T13:15:00.270Z"
   },
   {
    "duration": 59,
    "start_time": "2023-07-03T13:15:03.410Z"
   },
   {
    "duration": 78,
    "start_time": "2023-07-03T13:15:12.695Z"
   },
   {
    "duration": 35,
    "start_time": "2023-07-03T13:15:15.413Z"
   },
   {
    "duration": 30,
    "start_time": "2023-07-03T13:15:44.226Z"
   },
   {
    "duration": 71,
    "start_time": "2023-07-03T13:15:50.999Z"
   },
   {
    "duration": 1141,
    "start_time": "2023-07-03T13:16:08.348Z"
   },
   {
    "duration": 3,
    "start_time": "2023-07-03T13:16:09.491Z"
   },
   {
    "duration": 413,
    "start_time": "2023-07-03T13:16:09.495Z"
   },
   {
    "duration": 16,
    "start_time": "2023-07-03T13:16:09.910Z"
   },
   {
    "duration": 10,
    "start_time": "2023-07-03T13:16:09.929Z"
   },
   {
    "duration": 64,
    "start_time": "2023-07-03T13:16:09.941Z"
   },
   {
    "duration": 29,
    "start_time": "2023-07-03T13:16:10.007Z"
   },
   {
    "duration": 49,
    "start_time": "2023-07-03T13:16:10.038Z"
   },
   {
    "duration": 25,
    "start_time": "2023-07-03T13:16:10.088Z"
   },
   {
    "duration": 147,
    "start_time": "2023-07-03T13:16:10.115Z"
   },
   {
    "duration": 38,
    "start_time": "2023-07-03T13:16:10.264Z"
   },
   {
    "duration": 16,
    "start_time": "2023-07-03T13:16:10.304Z"
   },
   {
    "duration": 4899,
    "start_time": "2023-07-03T13:16:10.321Z"
   },
   {
    "duration": 9,
    "start_time": "2023-07-03T13:16:15.224Z"
   },
   {
    "duration": 13,
    "start_time": "2023-07-03T13:16:15.235Z"
   },
   {
    "duration": 57,
    "start_time": "2023-07-03T13:16:15.250Z"
   },
   {
    "duration": 30,
    "start_time": "2023-07-03T13:16:15.309Z"
   },
   {
    "duration": 147,
    "start_time": "2023-07-03T13:16:15.341Z"
   },
   {
    "duration": 34,
    "start_time": "2023-07-03T13:16:15.490Z"
   },
   {
    "duration": 15,
    "start_time": "2023-07-03T13:16:15.525Z"
   },
   {
    "duration": 4436,
    "start_time": "2023-07-03T13:16:15.542Z"
   },
   {
    "duration": 9,
    "start_time": "2023-07-03T13:16:19.979Z"
   },
   {
    "duration": 10,
    "start_time": "2023-07-03T13:16:19.991Z"
   },
   {
    "duration": 46,
    "start_time": "2023-07-03T13:16:20.002Z"
   },
   {
    "duration": 44,
    "start_time": "2023-07-03T13:16:20.049Z"
   },
   {
    "duration": 128,
    "start_time": "2023-07-03T13:16:20.095Z"
   },
   {
    "duration": 5,
    "start_time": "2023-07-03T13:16:20.225Z"
   },
   {
    "duration": 42,
    "start_time": "2023-07-03T13:16:20.231Z"
   },
   {
    "duration": 12,
    "start_time": "2023-07-03T13:16:20.274Z"
   },
   {
    "duration": 4406,
    "start_time": "2023-07-03T13:16:20.288Z"
   },
   {
    "duration": 246,
    "start_time": "2023-07-03T13:16:24.695Z"
   },
   {
    "duration": 0,
    "start_time": "2023-07-03T13:16:24.943Z"
   },
   {
    "duration": 0,
    "start_time": "2023-07-03T13:16:24.945Z"
   },
   {
    "duration": 0,
    "start_time": "2023-07-03T13:16:24.946Z"
   },
   {
    "duration": 32,
    "start_time": "2023-07-03T13:16:54.501Z"
   },
   {
    "duration": 35,
    "start_time": "2023-07-03T13:17:05.837Z"
   },
   {
    "duration": 43,
    "start_time": "2023-07-03T13:17:14.431Z"
   },
   {
    "duration": 1155,
    "start_time": "2023-07-03T13:17:23.131Z"
   },
   {
    "duration": 4,
    "start_time": "2023-07-03T13:17:24.288Z"
   },
   {
    "duration": 379,
    "start_time": "2023-07-03T13:17:24.294Z"
   },
   {
    "duration": 15,
    "start_time": "2023-07-03T13:17:24.675Z"
   },
   {
    "duration": 20,
    "start_time": "2023-07-03T13:17:24.692Z"
   },
   {
    "duration": 58,
    "start_time": "2023-07-03T13:17:24.713Z"
   },
   {
    "duration": 30,
    "start_time": "2023-07-03T13:17:24.773Z"
   },
   {
    "duration": 23,
    "start_time": "2023-07-03T13:17:24.805Z"
   },
   {
    "duration": 51,
    "start_time": "2023-07-03T13:17:24.830Z"
   },
   {
    "duration": 125,
    "start_time": "2023-07-03T13:17:24.882Z"
   },
   {
    "duration": 34,
    "start_time": "2023-07-03T13:17:25.009Z"
   },
   {
    "duration": 31,
    "start_time": "2023-07-03T13:17:25.044Z"
   },
   {
    "duration": 4536,
    "start_time": "2023-07-03T13:17:25.077Z"
   },
   {
    "duration": 8,
    "start_time": "2023-07-03T13:17:29.616Z"
   },
   {
    "duration": 19,
    "start_time": "2023-07-03T13:17:29.626Z"
   },
   {
    "duration": 49,
    "start_time": "2023-07-03T13:17:29.646Z"
   },
   {
    "duration": 25,
    "start_time": "2023-07-03T13:17:29.697Z"
   },
   {
    "duration": 126,
    "start_time": "2023-07-03T13:17:29.723Z"
   },
   {
    "duration": 37,
    "start_time": "2023-07-03T13:17:29.850Z"
   },
   {
    "duration": 12,
    "start_time": "2023-07-03T13:17:29.889Z"
   },
   {
    "duration": 4278,
    "start_time": "2023-07-03T13:17:29.902Z"
   },
   {
    "duration": 11,
    "start_time": "2023-07-03T13:17:34.182Z"
   },
   {
    "duration": 21,
    "start_time": "2023-07-03T13:17:34.195Z"
   },
   {
    "duration": 78,
    "start_time": "2023-07-03T13:17:34.218Z"
   },
   {
    "duration": 37,
    "start_time": "2023-07-03T13:17:34.298Z"
   },
   {
    "duration": 132,
    "start_time": "2023-07-03T13:17:34.337Z"
   },
   {
    "duration": 4,
    "start_time": "2023-07-03T13:17:34.471Z"
   },
   {
    "duration": 32,
    "start_time": "2023-07-03T13:17:34.477Z"
   },
   {
    "duration": 13,
    "start_time": "2023-07-03T13:17:34.511Z"
   },
   {
    "duration": 4307,
    "start_time": "2023-07-03T13:17:34.525Z"
   },
   {
    "duration": 42,
    "start_time": "2023-07-03T13:17:38.833Z"
   },
   {
    "duration": 199,
    "start_time": "2023-07-03T13:17:38.876Z"
   },
   {
    "duration": 109,
    "start_time": "2023-07-03T13:17:39.077Z"
   },
   {
    "duration": 82,
    "start_time": "2023-07-03T13:17:39.188Z"
   },
   {
    "duration": 109,
    "start_time": "2023-07-03T13:44:05.291Z"
   },
   {
    "duration": 3,
    "start_time": "2023-07-03T13:44:16.809Z"
   },
   {
    "duration": 110,
    "start_time": "2023-07-03T13:45:59.091Z"
   },
   {
    "duration": 4,
    "start_time": "2023-07-03T13:47:31.266Z"
   },
   {
    "duration": 4,
    "start_time": "2023-07-03T13:48:03.156Z"
   },
   {
    "duration": 117,
    "start_time": "2023-07-03T13:49:05.359Z"
   },
   {
    "duration": 13,
    "start_time": "2023-07-03T13:59:27.527Z"
   },
   {
    "duration": 11,
    "start_time": "2023-07-03T14:00:31.946Z"
   },
   {
    "duration": 10,
    "start_time": "2023-07-03T14:01:13.056Z"
   },
   {
    "duration": 9,
    "start_time": "2023-07-03T14:01:26.654Z"
   },
   {
    "duration": 9,
    "start_time": "2023-07-03T14:01:42.538Z"
   },
   {
    "duration": 5,
    "start_time": "2023-07-03T14:01:58.638Z"
   },
   {
    "duration": 13,
    "start_time": "2023-07-03T14:02:46.872Z"
   },
   {
    "duration": 18,
    "start_time": "2023-07-03T14:03:51.768Z"
   },
   {
    "duration": 4,
    "start_time": "2023-07-03T14:10:21.905Z"
   },
   {
    "duration": 151,
    "start_time": "2023-07-03T14:10:38.051Z"
   },
   {
    "duration": 9,
    "start_time": "2023-07-03T14:10:43.145Z"
   },
   {
    "duration": 17,
    "start_time": "2023-07-03T14:11:21.228Z"
   },
   {
    "duration": 116,
    "start_time": "2023-07-03T14:12:00.563Z"
   },
   {
    "duration": 105,
    "start_time": "2023-07-03T14:13:06.813Z"
   },
   {
    "duration": 16,
    "start_time": "2023-07-03T14:13:12.654Z"
   },
   {
    "duration": 107,
    "start_time": "2023-07-03T14:13:42.583Z"
   },
   {
    "duration": 4,
    "start_time": "2023-07-03T14:13:55.301Z"
   },
   {
    "duration": 14,
    "start_time": "2023-07-03T14:13:59.130Z"
   },
   {
    "duration": 3,
    "start_time": "2023-07-03T14:15:09.378Z"
   },
   {
    "duration": 2014,
    "start_time": "2023-07-03T14:15:11.397Z"
   },
   {
    "duration": 4,
    "start_time": "2023-07-03T14:16:17.288Z"
   },
   {
    "duration": 18,
    "start_time": "2023-07-03T14:17:31.040Z"
   },
   {
    "duration": 3,
    "start_time": "2023-07-03T14:20:34.576Z"
   },
   {
    "duration": 18,
    "start_time": "2023-07-03T14:20:36.500Z"
   },
   {
    "duration": 3,
    "start_time": "2023-07-03T14:21:29.381Z"
   },
   {
    "duration": 14,
    "start_time": "2023-07-03T14:21:32.173Z"
   },
   {
    "duration": 3,
    "start_time": "2023-07-03T14:21:52.605Z"
   },
   {
    "duration": 1801,
    "start_time": "2023-07-03T14:21:54.269Z"
   },
   {
    "duration": 4,
    "start_time": "2023-07-03T14:22:11.205Z"
   },
   {
    "duration": 1712,
    "start_time": "2023-07-03T14:22:12.832Z"
   },
   {
    "duration": 115,
    "start_time": "2023-07-03T14:22:44.274Z"
   },
   {
    "duration": 3,
    "start_time": "2023-07-03T14:22:51.661Z"
   },
   {
    "duration": 14,
    "start_time": "2023-07-03T14:22:53.742Z"
   },
   {
    "duration": 8,
    "start_time": "2023-07-03T14:27:32.648Z"
   },
   {
    "duration": 9,
    "start_time": "2023-07-03T14:27:40.303Z"
   },
   {
    "duration": 8,
    "start_time": "2023-07-03T14:29:14.675Z"
   },
   {
    "duration": 8,
    "start_time": "2023-07-03T14:33:55.737Z"
   },
   {
    "duration": 4,
    "start_time": "2023-07-03T14:34:35.743Z"
   },
   {
    "duration": 9,
    "start_time": "2023-07-03T17:10:42.963Z"
   },
   {
    "duration": 16,
    "start_time": "2023-07-03T17:13:23.377Z"
   },
   {
    "duration": 14,
    "start_time": "2023-07-03T17:13:55.227Z"
   },
   {
    "duration": 3,
    "start_time": "2023-07-03T17:14:26.495Z"
   },
   {
    "duration": 6,
    "start_time": "2023-07-03T17:14:30.894Z"
   },
   {
    "duration": 5,
    "start_time": "2023-07-03T17:15:22.980Z"
   },
   {
    "duration": 9,
    "start_time": "2023-07-03T17:15:42.024Z"
   },
   {
    "duration": 13,
    "start_time": "2023-07-03T17:16:53.630Z"
   },
   {
    "duration": 9,
    "start_time": "2023-07-03T17:17:10.420Z"
   },
   {
    "duration": 10,
    "start_time": "2023-07-03T17:17:31.703Z"
   },
   {
    "duration": 5,
    "start_time": "2023-07-03T17:17:55.363Z"
   },
   {
    "duration": 9,
    "start_time": "2023-07-03T17:18:07.268Z"
   },
   {
    "duration": 7,
    "start_time": "2023-07-03T17:20:03.324Z"
   },
   {
    "duration": 13,
    "start_time": "2023-07-03T17:20:09.344Z"
   },
   {
    "duration": 11,
    "start_time": "2023-07-03T17:20:25.905Z"
   },
   {
    "duration": 12,
    "start_time": "2023-07-03T17:20:45.200Z"
   },
   {
    "duration": 1107,
    "start_time": "2023-07-03T17:20:52.469Z"
   },
   {
    "duration": 3,
    "start_time": "2023-07-03T17:20:53.578Z"
   },
   {
    "duration": 363,
    "start_time": "2023-07-03T17:20:53.582Z"
   },
   {
    "duration": 16,
    "start_time": "2023-07-03T17:20:53.946Z"
   },
   {
    "duration": 12,
    "start_time": "2023-07-03T17:20:53.967Z"
   },
   {
    "duration": 56,
    "start_time": "2023-07-03T17:20:53.981Z"
   },
   {
    "duration": 52,
    "start_time": "2023-07-03T17:20:54.039Z"
   },
   {
    "duration": 33,
    "start_time": "2023-07-03T17:20:54.093Z"
   },
   {
    "duration": 53,
    "start_time": "2023-07-03T17:20:54.127Z"
   },
   {
    "duration": 124,
    "start_time": "2023-07-03T17:20:54.182Z"
   },
   {
    "duration": 32,
    "start_time": "2023-07-03T17:20:54.307Z"
   },
   {
    "duration": 30,
    "start_time": "2023-07-03T17:20:54.341Z"
   },
   {
    "duration": 4449,
    "start_time": "2023-07-03T17:20:54.373Z"
   },
   {
    "duration": 8,
    "start_time": "2023-07-03T17:20:58.825Z"
   },
   {
    "duration": 69,
    "start_time": "2023-07-03T17:20:58.835Z"
   },
   {
    "duration": 54,
    "start_time": "2023-07-03T17:20:58.906Z"
   },
   {
    "duration": 26,
    "start_time": "2023-07-03T17:20:58.962Z"
   },
   {
    "duration": 140,
    "start_time": "2023-07-03T17:20:58.989Z"
   },
   {
    "duration": 37,
    "start_time": "2023-07-03T17:20:59.131Z"
   },
   {
    "duration": 13,
    "start_time": "2023-07-03T17:20:59.170Z"
   },
   {
    "duration": 4062,
    "start_time": "2023-07-03T17:20:59.184Z"
   },
   {
    "duration": 9,
    "start_time": "2023-07-03T17:21:03.247Z"
   },
   {
    "duration": 46,
    "start_time": "2023-07-03T17:21:03.257Z"
   },
   {
    "duration": 66,
    "start_time": "2023-07-03T17:21:03.305Z"
   },
   {
    "duration": 26,
    "start_time": "2023-07-03T17:21:03.373Z"
   },
   {
    "duration": 120,
    "start_time": "2023-07-03T17:21:03.401Z"
   },
   {
    "duration": 4,
    "start_time": "2023-07-03T17:21:03.523Z"
   },
   {
    "duration": 47,
    "start_time": "2023-07-03T17:21:03.528Z"
   },
   {
    "duration": 13,
    "start_time": "2023-07-03T17:21:03.576Z"
   },
   {
    "duration": 4333,
    "start_time": "2023-07-03T17:21:03.591Z"
   },
   {
    "duration": 50,
    "start_time": "2023-07-03T17:21:07.926Z"
   },
   {
    "duration": 201,
    "start_time": "2023-07-03T17:21:08.068Z"
   },
   {
    "duration": 195,
    "start_time": "2023-07-03T17:21:08.273Z"
   },
   {
    "duration": 93,
    "start_time": "2023-07-03T17:21:08.476Z"
   },
   {
    "duration": 108,
    "start_time": "2023-07-03T17:21:08.571Z"
   },
   {
    "duration": 0,
    "start_time": "2023-07-03T17:21:08.681Z"
   },
   {
    "duration": 0,
    "start_time": "2023-07-03T17:21:08.682Z"
   },
   {
    "duration": 0,
    "start_time": "2023-07-03T17:21:08.683Z"
   },
   {
    "duration": 13,
    "start_time": "2023-07-03T17:21:37.640Z"
   },
   {
    "duration": 12,
    "start_time": "2023-07-03T17:22:35.251Z"
   },
   {
    "duration": 12,
    "start_time": "2023-07-03T17:22:52.712Z"
   },
   {
    "duration": 7,
    "start_time": "2023-07-03T17:23:08.370Z"
   },
   {
    "duration": 11,
    "start_time": "2023-07-03T17:23:24.816Z"
   },
   {
    "duration": 9,
    "start_time": "2023-07-03T17:24:08.917Z"
   },
   {
    "duration": 11,
    "start_time": "2023-07-03T17:24:22.931Z"
   },
   {
    "duration": 143,
    "start_time": "2023-07-03T17:26:57.611Z"
   },
   {
    "duration": 4,
    "start_time": "2023-07-03T17:27:20.948Z"
   },
   {
    "duration": 8,
    "start_time": "2023-07-03T17:27:35.656Z"
   },
   {
    "duration": 4,
    "start_time": "2023-07-03T17:28:46.959Z"
   },
   {
    "duration": 12,
    "start_time": "2023-07-03T17:28:48.676Z"
   },
   {
    "duration": 3,
    "start_time": "2023-07-03T17:29:13.278Z"
   },
   {
    "duration": 10,
    "start_time": "2023-07-03T17:29:15.163Z"
   },
   {
    "duration": 101,
    "start_time": "2023-07-03T17:29:37.791Z"
   },
   {
    "duration": 11,
    "start_time": "2023-07-03T17:29:47.649Z"
   },
   {
    "duration": 110,
    "start_time": "2023-07-03T17:29:57.307Z"
   },
   {
    "duration": 122,
    "start_time": "2023-07-03T17:30:06.411Z"
   },
   {
    "duration": 8,
    "start_time": "2023-07-03T17:31:18.325Z"
   },
   {
    "duration": 9,
    "start_time": "2023-07-03T17:33:33.611Z"
   },
   {
    "duration": 10,
    "start_time": "2023-07-03T17:35:34.647Z"
   },
   {
    "duration": 106,
    "start_time": "2023-07-03T17:35:57.227Z"
   },
   {
    "duration": 9,
    "start_time": "2023-07-03T17:36:11.261Z"
   },
   {
    "duration": 164,
    "start_time": "2023-07-03T17:37:39.073Z"
   },
   {
    "duration": 107,
    "start_time": "2023-07-03T17:37:54.313Z"
   },
   {
    "duration": 4,
    "start_time": "2023-07-03T17:38:02.553Z"
   },
   {
    "duration": 9,
    "start_time": "2023-07-03T17:38:05.307Z"
   },
   {
    "duration": 135,
    "start_time": "2023-07-03T17:39:36.811Z"
   },
   {
    "duration": 130,
    "start_time": "2023-07-03T17:43:48.111Z"
   },
   {
    "duration": 109,
    "start_time": "2023-07-03T17:47:40.340Z"
   },
   {
    "duration": 3,
    "start_time": "2023-07-03T17:47:45.548Z"
   },
   {
    "duration": 10,
    "start_time": "2023-07-03T17:47:47.651Z"
   },
   {
    "duration": 4,
    "start_time": "2023-07-03T17:48:04.397Z"
   },
   {
    "duration": 11,
    "start_time": "2023-07-03T17:48:06.185Z"
   },
   {
    "duration": 3,
    "start_time": "2023-07-03T17:49:18.039Z"
   },
   {
    "duration": 103,
    "start_time": "2023-07-03T17:49:24.674Z"
   },
   {
    "duration": 8,
    "start_time": "2023-07-03T17:49:40.145Z"
   },
   {
    "duration": 108,
    "start_time": "2023-07-03T17:49:55.828Z"
   },
   {
    "duration": 110,
    "start_time": "2023-07-03T17:50:06.628Z"
   },
   {
    "duration": 113,
    "start_time": "2023-07-03T17:50:19.168Z"
   },
   {
    "duration": 10,
    "start_time": "2023-07-03T17:51:27.548Z"
   },
   {
    "duration": 130,
    "start_time": "2023-07-03T17:51:40.243Z"
   },
   {
    "duration": 109,
    "start_time": "2023-07-03T17:51:44.605Z"
   },
   {
    "duration": 113,
    "start_time": "2023-07-03T17:51:58.370Z"
   },
   {
    "duration": 11,
    "start_time": "2023-07-03T17:52:05.117Z"
   },
   {
    "duration": 3,
    "start_time": "2023-07-03T17:52:27.736Z"
   },
   {
    "duration": 11,
    "start_time": "2023-07-03T17:52:29.703Z"
   },
   {
    "duration": 4,
    "start_time": "2023-07-03T17:54:51.913Z"
   },
   {
    "duration": 13,
    "start_time": "2023-07-03T17:54:53.641Z"
   },
   {
    "duration": 3,
    "start_time": "2023-07-03T17:55:06.658Z"
   },
   {
    "duration": 9,
    "start_time": "2023-07-03T17:55:08.501Z"
   },
   {
    "duration": 3,
    "start_time": "2023-07-03T17:59:36.644Z"
   },
   {
    "duration": 103,
    "start_time": "2023-07-03T17:59:38.437Z"
   },
   {
    "duration": 11,
    "start_time": "2023-07-03T18:00:08.773Z"
   },
   {
    "duration": 14,
    "start_time": "2023-07-03T18:01:05.823Z"
   },
   {
    "duration": 18,
    "start_time": "2023-07-03T18:01:32.592Z"
   },
   {
    "duration": 14,
    "start_time": "2023-07-03T18:04:27.307Z"
   },
   {
    "duration": 5,
    "start_time": "2023-07-03T18:06:32.504Z"
   },
   {
    "duration": 17,
    "start_time": "2023-07-03T18:06:40.728Z"
   },
   {
    "duration": 4,
    "start_time": "2023-07-03T18:15:50.522Z"
   },
   {
    "duration": 20,
    "start_time": "2023-07-03T18:15:53.505Z"
   },
   {
    "duration": 1136,
    "start_time": "2023-07-04T18:59:09.776Z"
   },
   {
    "duration": 3,
    "start_time": "2023-07-04T18:59:10.914Z"
   },
   {
    "duration": 1899,
    "start_time": "2023-07-04T18:59:10.919Z"
   },
   {
    "duration": 16,
    "start_time": "2023-07-04T18:59:12.819Z"
   },
   {
    "duration": 10,
    "start_time": "2023-07-04T18:59:12.837Z"
   },
   {
    "duration": 51,
    "start_time": "2023-07-04T18:59:12.848Z"
   },
   {
    "duration": 31,
    "start_time": "2023-07-04T18:59:12.900Z"
   },
   {
    "duration": 44,
    "start_time": "2023-07-04T18:59:12.933Z"
   },
   {
    "duration": 28,
    "start_time": "2023-07-04T18:59:12.979Z"
   },
   {
    "duration": 145,
    "start_time": "2023-07-04T18:59:13.009Z"
   },
   {
    "duration": 35,
    "start_time": "2023-07-04T18:59:13.158Z"
   },
   {
    "duration": 14,
    "start_time": "2023-07-04T18:59:13.194Z"
   },
   {
    "duration": 5319,
    "start_time": "2023-07-04T18:59:13.209Z"
   },
   {
    "duration": 10,
    "start_time": "2023-07-04T18:59:18.531Z"
   },
   {
    "duration": 26,
    "start_time": "2023-07-04T18:59:18.543Z"
   },
   {
    "duration": 99,
    "start_time": "2023-07-04T18:59:18.571Z"
   },
   {
    "duration": 32,
    "start_time": "2023-07-04T18:59:18.672Z"
   },
   {
    "duration": 123,
    "start_time": "2023-07-04T18:59:18.706Z"
   },
   {
    "duration": 41,
    "start_time": "2023-07-04T18:59:18.831Z"
   },
   {
    "duration": 13,
    "start_time": "2023-07-04T18:59:18.874Z"
   },
   {
    "duration": 4361,
    "start_time": "2023-07-04T18:59:18.888Z"
   },
   {
    "duration": 14,
    "start_time": "2023-07-04T18:59:23.251Z"
   },
   {
    "duration": 27,
    "start_time": "2023-07-04T18:59:23.267Z"
   },
   {
    "duration": 52,
    "start_time": "2023-07-04T18:59:23.296Z"
   },
   {
    "duration": 26,
    "start_time": "2023-07-04T18:59:23.350Z"
   },
   {
    "duration": 117,
    "start_time": "2023-07-04T18:59:23.378Z"
   },
   {
    "duration": 5,
    "start_time": "2023-07-04T18:59:23.496Z"
   },
   {
    "duration": 47,
    "start_time": "2023-07-04T18:59:23.503Z"
   },
   {
    "duration": 16,
    "start_time": "2023-07-04T18:59:23.551Z"
   },
   {
    "duration": 4584,
    "start_time": "2023-07-04T18:59:23.569Z"
   },
   {
    "duration": 109,
    "start_time": "2023-07-04T18:59:28.155Z"
   },
   {
    "duration": 201,
    "start_time": "2023-07-04T18:59:28.266Z"
   },
   {
    "duration": 119,
    "start_time": "2023-07-04T18:59:28.469Z"
   },
   {
    "duration": 72,
    "start_time": "2023-07-04T18:59:28.590Z"
   },
   {
    "duration": 97,
    "start_time": "2023-07-04T18:59:28.664Z"
   },
   {
    "duration": 26,
    "start_time": "2023-07-04T18:59:28.762Z"
   },
   {
    "duration": 119,
    "start_time": "2023-07-04T18:59:28.789Z"
   },
   {
    "duration": 4,
    "start_time": "2023-07-04T19:07:16.453Z"
   },
   {
    "duration": 5,
    "start_time": "2023-07-04T19:31:22.841Z"
   },
   {
    "duration": 111,
    "start_time": "2023-07-04T19:40:24.874Z"
   },
   {
    "duration": 7,
    "start_time": "2023-07-04T19:41:00.191Z"
   },
   {
    "duration": 6,
    "start_time": "2023-07-04T19:46:10.103Z"
   },
   {
    "duration": 680,
    "start_time": "2023-07-04T19:46:39.701Z"
   },
   {
    "duration": 5,
    "start_time": "2023-07-04T19:50:34.606Z"
   },
   {
    "duration": 806,
    "start_time": "2023-07-04T19:50:38.676Z"
   },
   {
    "duration": 6,
    "start_time": "2023-07-04T19:51:21.764Z"
   },
   {
    "duration": 662,
    "start_time": "2023-07-04T19:51:29.830Z"
   },
   {
    "duration": 6,
    "start_time": "2023-07-04T19:52:09.630Z"
   },
   {
    "duration": 686,
    "start_time": "2023-07-04T19:52:12.433Z"
   },
   {
    "duration": 6,
    "start_time": "2023-07-04T19:52:45.910Z"
   },
   {
    "duration": 665,
    "start_time": "2023-07-04T19:52:48.504Z"
   },
   {
    "duration": 6,
    "start_time": "2023-07-04T19:53:00.606Z"
   },
   {
    "duration": 716,
    "start_time": "2023-07-04T19:53:03.516Z"
   },
   {
    "duration": 651,
    "start_time": "2023-07-04T19:55:21.567Z"
   },
   {
    "duration": 654,
    "start_time": "2023-07-04T19:56:11.222Z"
   },
   {
    "duration": 5,
    "start_time": "2023-07-04T19:59:07.150Z"
   },
   {
    "duration": 664,
    "start_time": "2023-07-04T19:59:09.701Z"
   },
   {
    "duration": 6,
    "start_time": "2023-07-04T19:59:56.967Z"
   },
   {
    "duration": 678,
    "start_time": "2023-07-04T19:59:59.749Z"
   },
   {
    "duration": 686,
    "start_time": "2023-07-04T20:00:04.977Z"
   },
   {
    "duration": 718,
    "start_time": "2023-07-04T20:00:09.120Z"
   },
   {
    "duration": 113,
    "start_time": "2023-07-04T20:14:45.250Z"
   },
   {
    "duration": 117,
    "start_time": "2023-07-04T20:14:56.215Z"
   },
   {
    "duration": 131,
    "start_time": "2023-07-04T20:15:30.712Z"
   },
   {
    "duration": 6,
    "start_time": "2023-07-04T20:15:48.105Z"
   },
   {
    "duration": 5,
    "start_time": "2023-07-04T20:16:09.549Z"
   },
   {
    "duration": 650,
    "start_time": "2023-07-04T20:16:11.715Z"
   },
   {
    "duration": 648,
    "start_time": "2023-07-04T20:16:16.043Z"
   },
   {
    "duration": 662,
    "start_time": "2023-07-04T20:16:19.130Z"
   },
   {
    "duration": 1183,
    "start_time": "2023-07-04T20:16:30.142Z"
   },
   {
    "duration": 4,
    "start_time": "2023-07-04T20:16:31.326Z"
   },
   {
    "duration": 1096,
    "start_time": "2023-07-04T20:16:31.332Z"
   },
   {
    "duration": 17,
    "start_time": "2023-07-04T20:16:32.431Z"
   },
   {
    "duration": 18,
    "start_time": "2023-07-04T20:16:32.450Z"
   },
   {
    "duration": 49,
    "start_time": "2023-07-04T20:16:32.470Z"
   },
   {
    "duration": 46,
    "start_time": "2023-07-04T20:16:32.521Z"
   },
   {
    "duration": 25,
    "start_time": "2023-07-04T20:16:32.569Z"
   },
   {
    "duration": 25,
    "start_time": "2023-07-04T20:16:32.595Z"
   },
   {
    "duration": 145,
    "start_time": "2023-07-04T20:16:32.622Z"
   },
   {
    "duration": 34,
    "start_time": "2023-07-04T20:16:32.768Z"
   },
   {
    "duration": 12,
    "start_time": "2023-07-04T20:16:32.804Z"
   },
   {
    "duration": 4869,
    "start_time": "2023-07-04T20:16:32.817Z"
   },
   {
    "duration": 9,
    "start_time": "2023-07-04T20:16:37.690Z"
   },
   {
    "duration": 14,
    "start_time": "2023-07-04T20:16:37.700Z"
   },
   {
    "duration": 65,
    "start_time": "2023-07-04T20:16:37.716Z"
   },
   {
    "duration": 29,
    "start_time": "2023-07-04T20:16:37.783Z"
   },
   {
    "duration": 129,
    "start_time": "2023-07-04T20:16:37.814Z"
   },
   {
    "duration": 44,
    "start_time": "2023-07-04T20:16:37.945Z"
   },
   {
    "duration": 13,
    "start_time": "2023-07-04T20:16:37.991Z"
   },
   {
    "duration": 4410,
    "start_time": "2023-07-04T20:16:38.006Z"
   },
   {
    "duration": 8,
    "start_time": "2023-07-04T20:16:42.418Z"
   },
   {
    "duration": 10,
    "start_time": "2023-07-04T20:16:42.428Z"
   },
   {
    "duration": 64,
    "start_time": "2023-07-04T20:16:42.439Z"
   },
   {
    "duration": 30,
    "start_time": "2023-07-04T20:16:42.505Z"
   },
   {
    "duration": 139,
    "start_time": "2023-07-04T20:16:42.536Z"
   },
   {
    "duration": 4,
    "start_time": "2023-07-04T20:16:42.676Z"
   },
   {
    "duration": 45,
    "start_time": "2023-07-04T20:16:42.682Z"
   },
   {
    "duration": 13,
    "start_time": "2023-07-04T20:16:42.729Z"
   },
   {
    "duration": 4602,
    "start_time": "2023-07-04T20:16:42.743Z"
   },
   {
    "duration": 42,
    "start_time": "2023-07-04T20:16:47.347Z"
   },
   {
    "duration": 194,
    "start_time": "2023-07-04T20:16:47.390Z"
   },
   {
    "duration": 120,
    "start_time": "2023-07-04T20:16:47.661Z"
   },
   {
    "duration": 78,
    "start_time": "2023-07-04T20:16:47.783Z"
   },
   {
    "duration": 5,
    "start_time": "2023-07-04T20:16:47.863Z"
   },
   {
    "duration": 20,
    "start_time": "2023-07-04T20:16:47.960Z"
   },
   {
    "duration": 6,
    "start_time": "2023-07-04T20:16:47.981Z"
   },
   {
    "duration": 705,
    "start_time": "2023-07-04T20:16:47.989Z"
   },
   {
    "duration": 708,
    "start_time": "2023-07-04T20:16:48.696Z"
   },
   {
    "duration": 686,
    "start_time": "2023-07-04T20:16:49.406Z"
   },
   {
    "duration": 1156,
    "start_time": "2023-07-05T18:57:34.696Z"
   },
   {
    "duration": 9,
    "start_time": "2023-07-05T18:57:35.854Z"
   },
   {
    "duration": 917,
    "start_time": "2023-07-05T18:57:35.865Z"
   },
   {
    "duration": 17,
    "start_time": "2023-07-05T18:57:36.784Z"
   },
   {
    "duration": 11,
    "start_time": "2023-07-05T18:57:36.803Z"
   },
   {
    "duration": 69,
    "start_time": "2023-07-05T18:57:36.815Z"
   },
   {
    "duration": 30,
    "start_time": "2023-07-05T18:57:36.885Z"
   },
   {
    "duration": 50,
    "start_time": "2023-07-05T18:57:36.917Z"
   },
   {
    "duration": 28,
    "start_time": "2023-07-05T18:57:36.970Z"
   },
   {
    "duration": 157,
    "start_time": "2023-07-05T18:57:37.001Z"
   },
   {
    "duration": 40,
    "start_time": "2023-07-05T18:57:37.161Z"
   },
   {
    "duration": 14,
    "start_time": "2023-07-05T18:57:37.203Z"
   },
   {
    "duration": 6009,
    "start_time": "2023-07-05T18:57:37.219Z"
   },
   {
    "duration": 11,
    "start_time": "2023-07-05T18:57:43.231Z"
   },
   {
    "duration": 24,
    "start_time": "2023-07-05T18:57:43.259Z"
   },
   {
    "duration": 57,
    "start_time": "2023-07-05T18:57:43.285Z"
   },
   {
    "duration": 50,
    "start_time": "2023-07-05T18:57:43.344Z"
   },
   {
    "duration": 177,
    "start_time": "2023-07-05T18:57:43.396Z"
   },
   {
    "duration": 40,
    "start_time": "2023-07-05T18:57:43.575Z"
   },
   {
    "duration": 37,
    "start_time": "2023-07-05T18:57:43.617Z"
   },
   {
    "duration": 5320,
    "start_time": "2023-07-05T18:57:43.657Z"
   },
   {
    "duration": 9,
    "start_time": "2023-07-05T18:57:48.980Z"
   },
   {
    "duration": 27,
    "start_time": "2023-07-05T18:57:48.991Z"
   },
   {
    "duration": 67,
    "start_time": "2023-07-05T18:57:49.020Z"
   },
   {
    "duration": 32,
    "start_time": "2023-07-05T18:57:49.090Z"
   },
   {
    "duration": 162,
    "start_time": "2023-07-05T18:57:49.124Z"
   },
   {
    "duration": 4,
    "start_time": "2023-07-05T18:57:49.288Z"
   },
   {
    "duration": 37,
    "start_time": "2023-07-05T18:57:49.296Z"
   },
   {
    "duration": 38,
    "start_time": "2023-07-05T18:57:49.335Z"
   },
   {
    "duration": 6923,
    "start_time": "2023-07-05T18:57:49.375Z"
   },
   {
    "duration": 78,
    "start_time": "2023-07-05T18:57:56.300Z"
   },
   {
    "duration": 279,
    "start_time": "2023-07-05T18:57:56.380Z"
   },
   {
    "duration": 191,
    "start_time": "2023-07-05T18:57:56.662Z"
   },
   {
    "duration": 340,
    "start_time": "2023-07-05T18:57:56.856Z"
   },
   {
    "duration": 0,
    "start_time": "2023-07-05T18:57:57.198Z"
   },
   {
    "duration": 0,
    "start_time": "2023-07-05T18:57:57.199Z"
   },
   {
    "duration": 0,
    "start_time": "2023-07-05T18:57:57.200Z"
   },
   {
    "duration": 0,
    "start_time": "2023-07-05T18:57:57.202Z"
   },
   {
    "duration": 1,
    "start_time": "2023-07-05T18:57:57.254Z"
   },
   {
    "duration": 0,
    "start_time": "2023-07-05T18:57:57.256Z"
   },
   {
    "duration": 4,
    "start_time": "2023-07-05T18:58:25.101Z"
   },
   {
    "duration": 1261,
    "start_time": "2023-07-05T18:58:32.542Z"
   },
   {
    "duration": 4,
    "start_time": "2023-07-05T18:58:33.806Z"
   },
   {
    "duration": 442,
    "start_time": "2023-07-05T18:58:33.812Z"
   },
   {
    "duration": 24,
    "start_time": "2023-07-05T18:58:34.257Z"
   },
   {
    "duration": 35,
    "start_time": "2023-07-05T18:58:34.284Z"
   },
   {
    "duration": 74,
    "start_time": "2023-07-05T18:58:34.322Z"
   },
   {
    "duration": 31,
    "start_time": "2023-07-05T18:58:34.398Z"
   },
   {
    "duration": 49,
    "start_time": "2023-07-05T18:58:34.430Z"
   },
   {
    "duration": 27,
    "start_time": "2023-07-05T18:58:34.481Z"
   },
   {
    "duration": 159,
    "start_time": "2023-07-05T18:58:34.509Z"
   },
   {
    "duration": 37,
    "start_time": "2023-07-05T18:58:34.670Z"
   },
   {
    "duration": 14,
    "start_time": "2023-07-05T18:58:34.709Z"
   },
   {
    "duration": 5592,
    "start_time": "2023-07-05T18:58:34.724Z"
   },
   {
    "duration": 10,
    "start_time": "2023-07-05T18:58:40.319Z"
   },
   {
    "duration": 43,
    "start_time": "2023-07-05T18:58:40.331Z"
   },
   {
    "duration": 73,
    "start_time": "2023-07-05T18:58:40.375Z"
   },
   {
    "duration": 40,
    "start_time": "2023-07-05T18:58:40.450Z"
   },
   {
    "duration": 159,
    "start_time": "2023-07-05T18:58:40.493Z"
   },
   {
    "duration": 44,
    "start_time": "2023-07-05T18:58:40.654Z"
   },
   {
    "duration": 15,
    "start_time": "2023-07-05T18:58:40.700Z"
   },
   {
    "duration": 5367,
    "start_time": "2023-07-05T18:58:40.717Z"
   },
   {
    "duration": 10,
    "start_time": "2023-07-05T18:58:46.086Z"
   },
   {
    "duration": 31,
    "start_time": "2023-07-05T18:58:46.098Z"
   },
   {
    "duration": 59,
    "start_time": "2023-07-05T18:58:46.131Z"
   },
   {
    "duration": 29,
    "start_time": "2023-07-05T18:58:46.192Z"
   },
   {
    "duration": 160,
    "start_time": "2023-07-05T18:58:46.223Z"
   },
   {
    "duration": 4,
    "start_time": "2023-07-05T18:58:46.385Z"
   },
   {
    "duration": 47,
    "start_time": "2023-07-05T18:58:46.391Z"
   },
   {
    "duration": 28,
    "start_time": "2023-07-05T18:58:46.440Z"
   },
   {
    "duration": 5312,
    "start_time": "2023-07-05T18:58:46.471Z"
   },
   {
    "duration": 168,
    "start_time": "2023-07-05T18:58:51.785Z"
   },
   {
    "duration": 124,
    "start_time": "2023-07-05T18:58:51.956Z"
   },
   {
    "duration": 187,
    "start_time": "2023-07-05T18:58:52.087Z"
   },
   {
    "duration": 76,
    "start_time": "2023-07-05T18:58:52.280Z"
   },
   {
    "duration": 87,
    "start_time": "2023-07-05T18:58:52.358Z"
   },
   {
    "duration": 62,
    "start_time": "2023-07-05T18:58:52.447Z"
   },
   {
    "duration": 8,
    "start_time": "2023-07-05T18:58:52.512Z"
   },
   {
    "duration": 912,
    "start_time": "2023-07-05T18:58:52.522Z"
   },
   {
    "duration": 794,
    "start_time": "2023-07-05T18:58:53.437Z"
   },
   {
    "duration": 782,
    "start_time": "2023-07-05T18:58:54.233Z"
   }
  ],
  "kernelspec": {
   "display_name": "Python 3 (ipykernel)",
   "language": "python",
   "name": "python3"
  },
  "language_info": {
   "codemirror_mode": {
    "name": "ipython",
    "version": 3
   },
   "file_extension": ".py",
   "mimetype": "text/x-python",
   "name": "python",
   "nbconvert_exporter": "python",
   "pygments_lexer": "ipython3",
   "version": "3.9.16"
  },
  "toc": {
   "base_numbering": 1,
   "nav_menu": {},
   "number_sections": true,
   "sideBar": true,
   "skip_h1_title": true,
   "title_cell": "Table of Contents",
   "title_sidebar": "Contents",
   "toc_cell": false,
   "toc_position": {},
   "toc_section_display": true,
   "toc_window_display": true
  }
 },
 "nbformat": 4,
 "nbformat_minor": 2
}
