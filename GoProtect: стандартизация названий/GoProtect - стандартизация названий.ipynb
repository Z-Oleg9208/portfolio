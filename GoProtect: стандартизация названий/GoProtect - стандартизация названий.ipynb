{
 "cells": [
  {
   "cell_type": "markdown",
   "id": "6b4c1298",
   "metadata": {},
   "source": [
    "## Общая Информация\n",
    "\n",
    "### Описание проекта:\n",
    "    Заказчик GoProtect. Компания занимается развитием сервиса \"Мой Чемпион\". Цель сервиса помочь спортивным школам фигурного катания и тренерам мониторить прогресс спортсменов с целью дальнейшего их развития.\n",
    "\n",
    "### Цель:\n",
    "    Создать решение матчинга названий спортивных школ с эталонными названиями этих школ.\n",
    "    Одна и та же школа может быть записана по-разному. Например:\n",
    "       - Республика Татарстан, СШОР Авиатор\n",
    "       - республика татарстан, \"Авиатор\"\n",
    "       - МБУ ДО СШОР \"Авиатор\", Республика Татарстан\n",
    "    "
   ]
  },
  {
   "cell_type": "markdown",
   "id": "ee8590bc",
   "metadata": {},
   "source": [
    "## Загрузка данных"
   ]
  },
  {
   "cell_type": "code",
   "execution_count": 1,
   "id": "25952d9e",
   "metadata": {
    "scrolled": true
   },
   "outputs": [],
   "source": [
    "#!pip install -U sentence-transformers\n",
    "#!pip freeze > requirements.txt\n",
    "\n",
    "#!pip install -r requirements.txt"
   ]
  },
  {
   "cell_type": "code",
   "execution_count": 2,
   "id": "17950fba",
   "metadata": {},
   "outputs": [],
   "source": [
    "import pandas as pd\n",
    "import numpy as np\n",
    "import re\n",
    "\n",
    "from sklearn.model_selection import train_test_split\n",
    "from sentence_transformers import (\n",
    "    SentenceTransformer,\n",
    "    InputExample,\n",
    "    util, losses\n",
    ")\n",
    "\n",
    "pd.set_option('display.max_row', None)\n",
    "pd.options.display.float_format = '{:.2f}'.format"
   ]
  },
  {
   "cell_type": "code",
   "execution_count": 3,
   "id": "1eb9df64",
   "metadata": {},
   "outputs": [
    {
     "data": {
      "text/html": [
       "<div>\n",
       "<style scoped>\n",
       "    .dataframe tbody tr th:only-of-type {\n",
       "        vertical-align: middle;\n",
       "    }\n",
       "\n",
       "    .dataframe tbody tr th {\n",
       "        vertical-align: top;\n",
       "    }\n",
       "\n",
       "    .dataframe thead th {\n",
       "        text-align: right;\n",
       "    }\n",
       "</style>\n",
       "<table border=\"1\" class=\"dataframe\">\n",
       "  <thead>\n",
       "    <tr style=\"text-align: right;\">\n",
       "      <th></th>\n",
       "      <th>school_id</th>\n",
       "      <th>name</th>\n",
       "    </tr>\n",
       "  </thead>\n",
       "  <tbody>\n",
       "    <tr>\n",
       "      <th>0</th>\n",
       "      <td>1836</td>\n",
       "      <td>ООО \"Триумф\"</td>\n",
       "    </tr>\n",
       "    <tr>\n",
       "      <th>1</th>\n",
       "      <td>1836</td>\n",
       "      <td>Москва, СК \"Триумф\"</td>\n",
       "    </tr>\n",
       "    <tr>\n",
       "      <th>2</th>\n",
       "      <td>610</td>\n",
       "      <td>СШОР \"Надежда Губернии</td>\n",
       "    </tr>\n",
       "    <tr>\n",
       "      <th>3</th>\n",
       "      <td>610</td>\n",
       "      <td>Саратовская область, ГБУСО \"СШОР \"Надежда Губе...</td>\n",
       "    </tr>\n",
       "    <tr>\n",
       "      <th>4</th>\n",
       "      <td>609</td>\n",
       "      <td>\"СШ \"Гвоздика\"</td>\n",
       "    </tr>\n",
       "  </tbody>\n",
       "</table>\n",
       "</div>"
      ],
      "text/plain": [
       "   school_id                                               name\n",
       "0       1836                                       ООО \"Триумф\"\n",
       "1       1836                                Москва, СК \"Триумф\"\n",
       "2        610                             СШОР \"Надежда Губернии\n",
       "3        610  Саратовская область, ГБУСО \"СШОР \"Надежда Губе...\n",
       "4        609                                     \"СШ \"Гвоздика\""
      ]
     },
     "execution_count": 3,
     "metadata": {},
     "output_type": "execute_result"
    }
   ],
   "source": [
    "user_imput_name = pd.read_csv('Примерное написание.csv')\n",
    "user_imput_name.head()"
   ]
  },
  {
   "cell_type": "code",
   "execution_count": 4,
   "id": "15650e9a",
   "metadata": {
    "scrolled": true
   },
   "outputs": [
    {
     "data": {
      "text/html": [
       "<div>\n",
       "<style scoped>\n",
       "    .dataframe tbody tr th:only-of-type {\n",
       "        vertical-align: middle;\n",
       "    }\n",
       "\n",
       "    .dataframe tbody tr th {\n",
       "        vertical-align: top;\n",
       "    }\n",
       "\n",
       "    .dataframe thead th {\n",
       "        text-align: right;\n",
       "    }\n",
       "</style>\n",
       "<table border=\"1\" class=\"dataframe\">\n",
       "  <thead>\n",
       "    <tr style=\"text-align: right;\">\n",
       "      <th></th>\n",
       "      <th>school_id</th>\n",
       "      <th>name</th>\n",
       "      <th>region</th>\n",
       "    </tr>\n",
       "  </thead>\n",
       "  <tbody>\n",
       "    <tr>\n",
       "      <th>0</th>\n",
       "      <td>1</td>\n",
       "      <td>Авангард</td>\n",
       "      <td>Московская область</td>\n",
       "    </tr>\n",
       "    <tr>\n",
       "      <th>1</th>\n",
       "      <td>2</td>\n",
       "      <td>Авангард</td>\n",
       "      <td>Ямало-Ненецкий АО</td>\n",
       "    </tr>\n",
       "    <tr>\n",
       "      <th>2</th>\n",
       "      <td>3</td>\n",
       "      <td>Авиатор</td>\n",
       "      <td>Республика Татарстан</td>\n",
       "    </tr>\n",
       "    <tr>\n",
       "      <th>3</th>\n",
       "      <td>4</td>\n",
       "      <td>Аврора</td>\n",
       "      <td>Санкт-Петербург</td>\n",
       "    </tr>\n",
       "    <tr>\n",
       "      <th>4</th>\n",
       "      <td>5</td>\n",
       "      <td>Ice Dream / Айс Дрим</td>\n",
       "      <td>Санкт-Петербург</td>\n",
       "    </tr>\n",
       "  </tbody>\n",
       "</table>\n",
       "</div>"
      ],
      "text/plain": [
       "   school_id                  name                region\n",
       "0          1              Авангард    Московская область\n",
       "1          2              Авангард     Ямало-Ненецкий АО\n",
       "2          3               Авиатор  Республика Татарстан\n",
       "3          4                Аврора       Санкт-Петербург\n",
       "4          5  Ice Dream / Айс Дрим       Санкт-Петербург"
      ]
     },
     "execution_count": 4,
     "metadata": {},
     "output_type": "execute_result"
    }
   ],
   "source": [
    "name_school = pd.read_csv('Школы.csv')\n",
    "name_school.head()"
   ]
  },
  {
   "cell_type": "markdown",
   "id": "ef752999",
   "metadata": {},
   "source": [
    "**Вывод:**\n",
    "- Подготовить данные. Очистить от знаков припинания\n",
    "- На основе эталонного датасета подготовить обучающий набор данных за счет аугментации."
   ]
  },
  {
   "cell_type": "markdown",
   "id": "bb4e351f",
   "metadata": {},
   "source": [
    "## Подготовка данных"
   ]
  },
  {
   "cell_type": "code",
   "execution_count": 5,
   "id": "ccede323",
   "metadata": {},
   "outputs": [],
   "source": [
    "def cleaning_txt(df:pd.DataFrame)->pd.DataFrame:\n",
    "    \"\"\" Функция на вход получает объект DataFrame с названием спортивных школ и удаляет все лишние знаки.\n",
    "    \"\"\"\n",
    "    \n",
    "    data = df.copy()\n",
    "    data['name'] = (\n",
    "        data['name']\n",
    "        .replace(r'[^А-Яа-яёЁA-Za-z\\s\\d]', ' ', regex=True)\n",
    "        .replace(r'(\\s\\w{1,2}\\s ^[им.\\sА-Я.А-Я.])|(\\bг\\s)', ' ', regex=True)\n",
    "        .replace(r'\\s+', ' ', regex=True)\n",
    "    )\n",
    "    \n",
    "    return data"
   ]
  },
  {
   "cell_type": "code",
   "execution_count": 6,
   "id": "dd92e4c0",
   "metadata": {
    "scrolled": true
   },
   "outputs": [
    {
     "data": {
      "text/html": [
       "<div>\n",
       "<style scoped>\n",
       "    .dataframe tbody tr th:only-of-type {\n",
       "        vertical-align: middle;\n",
       "    }\n",
       "\n",
       "    .dataframe tbody tr th {\n",
       "        vertical-align: top;\n",
       "    }\n",
       "\n",
       "    .dataframe thead th {\n",
       "        text-align: right;\n",
       "    }\n",
       "</style>\n",
       "<table border=\"1\" class=\"dataframe\">\n",
       "  <thead>\n",
       "    <tr style=\"text-align: right;\">\n",
       "      <th></th>\n",
       "      <th>school_id</th>\n",
       "      <th>name</th>\n",
       "    </tr>\n",
       "  </thead>\n",
       "  <tbody>\n",
       "    <tr>\n",
       "      <th>0</th>\n",
       "      <td>1836</td>\n",
       "      <td>ООО Триумф</td>\n",
       "    </tr>\n",
       "    <tr>\n",
       "      <th>1</th>\n",
       "      <td>1836</td>\n",
       "      <td>Москва СК Триумф</td>\n",
       "    </tr>\n",
       "    <tr>\n",
       "      <th>2</th>\n",
       "      <td>610</td>\n",
       "      <td>СШОР Надежда Губернии</td>\n",
       "    </tr>\n",
       "    <tr>\n",
       "      <th>3</th>\n",
       "      <td>610</td>\n",
       "      <td>Саратовская область ГБУСО СШОР Надежда Губернии</td>\n",
       "    </tr>\n",
       "    <tr>\n",
       "      <th>4</th>\n",
       "      <td>609</td>\n",
       "      <td>СШ Гвоздика</td>\n",
       "    </tr>\n",
       "  </tbody>\n",
       "</table>\n",
       "</div>"
      ],
      "text/plain": [
       "   school_id                                              name\n",
       "0       1836                                       ООО Триумф \n",
       "1       1836                                 Москва СК Триумф \n",
       "2        610                             СШОР Надежда Губернии\n",
       "3        610  Саратовская область ГБУСО СШОР Надежда Губернии \n",
       "4        609                                      СШ Гвоздика "
      ]
     },
     "execution_count": 6,
     "metadata": {},
     "output_type": "execute_result"
    }
   ],
   "source": [
    "df = cleaning_txt(user_imput_name)\n",
    "df.head()"
   ]
  },
  {
   "cell_type": "code",
   "execution_count": 7,
   "id": "9a3836ad",
   "metadata": {},
   "outputs": [],
   "source": [
    "def augmentation(data, N:int=5):\n",
    "    \"\"\"Функция получает на вход DataFrame и добавляет ошибки в столбце name\n",
    "    имитирующие опечатки с перестановкой соседних букв.\"\"\"\n",
    "    \n",
    "    df = data.copy()\n",
    "    one_list = []\n",
    "    for i in range(len(df)):\n",
    "        twu_list = []\n",
    "    \n",
    "        twu_list.append(df['name'][i] + ' ' + df['region'][i])\n",
    "        twu_list.append(df['region'][i] + ' ' + df['name'][i])\n",
    "    \n",
    "\n",
    "        for n in range(N):\n",
    "            tmp = list(twu_list[-1])\n",
    "            i = np.random.randint(len(twu_list[0])-1)\n",
    "            tmp[i], tmp[i+1] = tmp[i+1], tmp[i]\n",
    "            twu_list.append(''.join(tmp))\n",
    "        \n",
    "        one_list.append(twu_list)\n",
    "    \n",
    "    df['aug'] = one_list\n",
    "    df['name'] = df['name'] + ' ' + df['region']\n",
    "    \n",
    "    df, df_aug =df, df.explode('aug')[['school_id','name','aug']].reset_index(drop=True)\n",
    "    \n",
    "    return df, df_aug"
   ]
  },
  {
   "cell_type": "code",
   "execution_count": 8,
   "id": "f010a0e9",
   "metadata": {},
   "outputs": [
    {
     "data": {
      "text/html": [
       "<div>\n",
       "<style scoped>\n",
       "    .dataframe tbody tr th:only-of-type {\n",
       "        vertical-align: middle;\n",
       "    }\n",
       "\n",
       "    .dataframe tbody tr th {\n",
       "        vertical-align: top;\n",
       "    }\n",
       "\n",
       "    .dataframe thead th {\n",
       "        text-align: right;\n",
       "    }\n",
       "</style>\n",
       "<table border=\"1\" class=\"dataframe\">\n",
       "  <thead>\n",
       "    <tr style=\"text-align: right;\">\n",
       "      <th></th>\n",
       "      <th>school_id</th>\n",
       "      <th>name</th>\n",
       "      <th>region</th>\n",
       "      <th>aug</th>\n",
       "    </tr>\n",
       "  </thead>\n",
       "  <tbody>\n",
       "    <tr>\n",
       "      <th>0</th>\n",
       "      <td>1</td>\n",
       "      <td>Авангард Московская область</td>\n",
       "      <td>Московская область</td>\n",
       "      <td>[Авангард Московская область, Московская облас...</td>\n",
       "    </tr>\n",
       "    <tr>\n",
       "      <th>1</th>\n",
       "      <td>2</td>\n",
       "      <td>Авангард Ямало-Ненецкий АО</td>\n",
       "      <td>Ямало-Ненецкий АО</td>\n",
       "      <td>[Авангард Ямало-Ненецкий АО, Ямало-Ненецкий АО...</td>\n",
       "    </tr>\n",
       "    <tr>\n",
       "      <th>2</th>\n",
       "      <td>3</td>\n",
       "      <td>Авиатор Республика Татарстан</td>\n",
       "      <td>Республика Татарстан</td>\n",
       "      <td>[Авиатор Республика Татарстан, Республика Тата...</td>\n",
       "    </tr>\n",
       "    <tr>\n",
       "      <th>3</th>\n",
       "      <td>4</td>\n",
       "      <td>Аврора Санкт-Петербург</td>\n",
       "      <td>Санкт-Петербург</td>\n",
       "      <td>[Аврора Санкт-Петербург, Санкт-Петербург Аврор...</td>\n",
       "    </tr>\n",
       "    <tr>\n",
       "      <th>4</th>\n",
       "      <td>5</td>\n",
       "      <td>Ice Dream Айс Дрим Санкт-Петербург</td>\n",
       "      <td>Санкт-Петербург</td>\n",
       "      <td>[Ice Dream Айс Дрим Санкт-Петербург, Санкт-Пет...</td>\n",
       "    </tr>\n",
       "  </tbody>\n",
       "</table>\n",
       "</div>"
      ],
      "text/plain": [
       "   school_id                                name                region  \\\n",
       "0          1         Авангард Московская область    Московская область   \n",
       "1          2          Авангард Ямало-Ненецкий АО     Ямало-Ненецкий АО   \n",
       "2          3        Авиатор Республика Татарстан  Республика Татарстан   \n",
       "3          4              Аврора Санкт-Петербург       Санкт-Петербург   \n",
       "4          5  Ice Dream Айс Дрим Санкт-Петербург       Санкт-Петербург   \n",
       "\n",
       "                                                 aug  \n",
       "0  [Авангард Московская область, Московская облас...  \n",
       "1  [Авангард Ямало-Ненецкий АО, Ямало-Ненецкий АО...  \n",
       "2  [Авиатор Республика Татарстан, Республика Тата...  \n",
       "3  [Аврора Санкт-Петербург, Санкт-Петербург Аврор...  \n",
       "4  [Ice Dream Айс Дрим Санкт-Петербург, Санкт-Пет...  "
      ]
     },
     "execution_count": 8,
     "metadata": {},
     "output_type": "execute_result"
    }
   ],
   "source": [
    "school, school_aug = augmentation(cleaning_txt(name_school), N=10)\n",
    "school.head()"
   ]
  },
  {
   "cell_type": "markdown",
   "id": "d6b6b5c5",
   "metadata": {},
   "source": [
    "**Вывод:**\n",
    "За счет аугментации увеличили датасет в пять раз добавив в этолонные названия школ ошибки."
   ]
  },
  {
   "cell_type": "markdown",
   "id": "8f8a6db3",
   "metadata": {},
   "source": [
    "## Обучение модели"
   ]
  },
  {
   "cell_type": "code",
   "execution_count": 9,
   "id": "8c6890e4",
   "metadata": {},
   "outputs": [],
   "source": [
    "def model(train, test):\n",
    "    \"\"\"Функция получает на вход тренировочный и тестовый DataFrame.\n",
    "    Обучает модель и предсказывает school_id.\n",
    "    Возвращает два объекта: 1)Словарь с accuracy для лучшего результата и топ5 результатов.\n",
    "    2)Измененный тестовый DataFrame с предсказанными school_id\"\"\"\n",
    "    \n",
    "    train = train.copy()\n",
    "    test = test.copy()\n",
    "    \n",
    "    model = SentenceTransformer('sentence-transformers/LaBSE')\n",
    "    \n",
    "    corpus = model.encode(train.name.values)\n",
    "    query = model.encode(test.name.values)\n",
    "    \n",
    "    search_result = util.semantic_search(query, corpus, top_k=5)\n",
    "    \n",
    "    school_id = train.school_id.values\n",
    "    predict_ind = [row[0]['corpus_id'] for row in search_result]\n",
    "    test['predict_id'] = train.school_id.values[predict_ind]\n",
    "    top_5 = [[row[x]['corpus_id'] for x in range(5)] for row in search_result]\n",
    "    test['top_5_id'] = [[train.school_id[row[x]]for x in range(5)] for row in top_5]\n",
    "    \n",
    "    \n",
    "    score = {\n",
    "        'top':round((test.school_id == test.predict_id).mean(), 2),\n",
    "        'top_5':round((test.apply(lambda x: x['school_id'] in  x['top_5_id'], axis=1)).mean(), 2)\n",
    "    }\n",
    "    \n",
    "    return score, test"
   ]
  },
  {
   "cell_type": "code",
   "execution_count": 10,
   "id": "09d9722a",
   "metadata": {},
   "outputs": [
    {
     "name": "stdout",
     "output_type": "stream",
     "text": [
      "accuracy для top и top_5 результатов модели:  {'top': 0.67, 'top_5': 0.92}\n"
     ]
    },
    {
     "data": {
      "text/html": [
       "<div>\n",
       "<style scoped>\n",
       "    .dataframe tbody tr th:only-of-type {\n",
       "        vertical-align: middle;\n",
       "    }\n",
       "\n",
       "    .dataframe tbody tr th {\n",
       "        vertical-align: top;\n",
       "    }\n",
       "\n",
       "    .dataframe thead th {\n",
       "        text-align: right;\n",
       "    }\n",
       "</style>\n",
       "<table border=\"1\" class=\"dataframe\">\n",
       "  <thead>\n",
       "    <tr style=\"text-align: right;\">\n",
       "      <th></th>\n",
       "      <th>school_id</th>\n",
       "      <th>name</th>\n",
       "      <th>predict_id</th>\n",
       "      <th>top_5_id</th>\n",
       "    </tr>\n",
       "  </thead>\n",
       "  <tbody>\n",
       "    <tr>\n",
       "      <th>0</th>\n",
       "      <td>1836</td>\n",
       "      <td>ООО \"Триумф\"</td>\n",
       "      <td>1836</td>\n",
       "      <td>[1836, 303, 225, 221, 135]</td>\n",
       "    </tr>\n",
       "    <tr>\n",
       "      <th>1</th>\n",
       "      <td>1836</td>\n",
       "      <td>Москва, СК \"Триумф\"</td>\n",
       "      <td>1836</td>\n",
       "      <td>[1836, 96, 303, 251, 104]</td>\n",
       "    </tr>\n",
       "    <tr>\n",
       "      <th>2</th>\n",
       "      <td>610</td>\n",
       "      <td>СШОР \"Надежда Губернии</td>\n",
       "      <td>610</td>\n",
       "      <td>[610, 609, 183, 37, 24]</td>\n",
       "    </tr>\n",
       "    <tr>\n",
       "      <th>3</th>\n",
       "      <td>610</td>\n",
       "      <td>Саратовская область, ГБУСО \"СШОР \"Надежда Губе...</td>\n",
       "      <td>610</td>\n",
       "      <td>[610, 37, 72, 194, 216]</td>\n",
       "    </tr>\n",
       "    <tr>\n",
       "      <th>4</th>\n",
       "      <td>609</td>\n",
       "      <td>\"СШ \"Гвоздика\"</td>\n",
       "      <td>609</td>\n",
       "      <td>[609, 173, 181, 185, 610]</td>\n",
       "    </tr>\n",
       "  </tbody>\n",
       "</table>\n",
       "</div>"
      ],
      "text/plain": [
       "   school_id                                               name  predict_id  \\\n",
       "0       1836                                       ООО \"Триумф\"        1836   \n",
       "1       1836                                Москва, СК \"Триумф\"        1836   \n",
       "2        610                             СШОР \"Надежда Губернии         610   \n",
       "3        610  Саратовская область, ГБУСО \"СШОР \"Надежда Губе...         610   \n",
       "4        609                                     \"СШ \"Гвоздика\"         609   \n",
       "\n",
       "                     top_5_id  \n",
       "0  [1836, 303, 225, 221, 135]  \n",
       "1   [1836, 96, 303, 251, 104]  \n",
       "2     [610, 609, 183, 37, 24]  \n",
       "3     [610, 37, 72, 194, 216]  \n",
       "4   [609, 173, 181, 185, 610]  "
      ]
     },
     "execution_count": 10,
     "metadata": {},
     "output_type": "execute_result"
    }
   ],
   "source": [
    "score, test = model(school, user_imput_name)\n",
    "\n",
    "print('accuracy для top и top_5 результатов модели: ', score)\n",
    "test.head()"
   ]
  },
  {
   "cell_type": "markdown",
   "id": "525cd407",
   "metadata": {},
   "source": [
    "## Вывод:\n",
    "- Лучший результат модели показывает результат в 67% правильно предсказанных значений.\n",
    "- В топ 5 результатов модели попадают 92% верно предсказанных school_id.\n",
    "- Для улучшения результатов модели необходимо поработать с аугментацией обучающего датафрейма. Также до обучить модель на размеченном датафрейме на хорошие и плохие примеры."
   ]
  }
 ],
 "metadata": {
  "kernelspec": {
   "display_name": "Python 3 (ipykernel)",
   "language": "python",
   "name": "python3"
  },
  "language_info": {
   "codemirror_mode": {
    "name": "ipython",
    "version": 3
   },
   "file_extension": ".py",
   "mimetype": "text/x-python",
   "name": "python",
   "nbconvert_exporter": "python",
   "pygments_lexer": "ipython3",
   "version": "3.10.9"
  }
 },
 "nbformat": 4,
 "nbformat_minor": 5
}
