{
 "cells": [
  {
   "cell_type": "markdown",
   "metadata": {
    "toc": true
   },
   "source": [
    "<h1>Содержание<span class=\"tocSkip\"></span></h1>\n",
    "<div class=\"toc\"><ul class=\"toc-item\"><li><span><a href=\"#Подготовка-данных\" data-toc-modified-id=\"Подготовка-данных-1\"><span class=\"toc-item-num\">1&nbsp;&nbsp;</span>Подготовка данных</a></span></li><li><span><a href=\"#Исследование-задачи\" data-toc-modified-id=\"Исследование-задачи-2\"><span class=\"toc-item-num\">2&nbsp;&nbsp;</span>Исследование задачи</a></span></li><li><span><a href=\"#Борьба-с-дисбалансом\" data-toc-modified-id=\"Борьба-с-дисбалансом-3\"><span class=\"toc-item-num\">3&nbsp;&nbsp;</span>Борьба с дисбалансом</a></span><ul class=\"toc-item\"><li><span><a href=\"#Взвешивание-классов\" data-toc-modified-id=\"Взвешивание-классов-3.1\"><span class=\"toc-item-num\">3.1&nbsp;&nbsp;</span>Взвешивание классов</a></span><ul class=\"toc-item\"><li><span><a href=\"#Решающее-дерево\" data-toc-modified-id=\"Решающее-дерево-3.1.1\"><span class=\"toc-item-num\">3.1.1&nbsp;&nbsp;</span>Решающее дерево</a></span></li><li><span><a href=\"#Случайный-лес\" data-toc-modified-id=\"Случайный-лес-3.1.2\"><span class=\"toc-item-num\">3.1.2&nbsp;&nbsp;</span>Случайный лес</a></span></li><li><span><a href=\"#Логистическая-регрессия\" data-toc-modified-id=\"Логистическая-регрессия-3.1.3\"><span class=\"toc-item-num\">3.1.3&nbsp;&nbsp;</span>Логистическая регрессия</a></span></li></ul></li><li><span><a href=\"#Увеличение-выборки\" data-toc-modified-id=\"Увеличение-выборки-3.2\"><span class=\"toc-item-num\">3.2&nbsp;&nbsp;</span>Увеличение выборки</a></span><ul class=\"toc-item\"><li><span><a href=\"#Решающее-дерево\" data-toc-modified-id=\"Решающее-дерево-3.2.1\"><span class=\"toc-item-num\">3.2.1&nbsp;&nbsp;</span>Решающее дерево</a></span></li><li><span><a href=\"#Случайный-лес\" data-toc-modified-id=\"Случайный-лес-3.2.2\"><span class=\"toc-item-num\">3.2.2&nbsp;&nbsp;</span>Случайный лес</a></span></li></ul></li><li><span><a href=\"#Уменьшение-выборки\" data-toc-modified-id=\"Уменьшение-выборки-3.3\"><span class=\"toc-item-num\">3.3&nbsp;&nbsp;</span>Уменьшение выборки</a></span><ul class=\"toc-item\"><li><span><a href=\"#Решающее-дерево\" data-toc-modified-id=\"Решающее-дерево-3.3.1\"><span class=\"toc-item-num\">3.3.1&nbsp;&nbsp;</span>Решающее дерево</a></span></li><li><span><a href=\"#Случайный-лес\" data-toc-modified-id=\"Случайный-лес-3.3.2\"><span class=\"toc-item-num\">3.3.2&nbsp;&nbsp;</span>Случайный лес</a></span></li></ul></li></ul></li><li><span><a href=\"#Тестирование-модели\" data-toc-modified-id=\"Тестирование-модели-4\"><span class=\"toc-item-num\">4&nbsp;&nbsp;</span>Тестирование модели</a></span></li></ul></div>"
   ]
  },
  {
   "cell_type": "markdown",
   "metadata": {},
   "source": [
    "# Отток клиентов"
   ]
  },
  {
   "cell_type": "markdown",
   "metadata": {},
   "source": [
    "Из «Бета-Банка» стали уходить клиенты. Каждый месяц. Немного, но заметно. Банковские маркетологи посчитали: сохранять текущих клиентов дешевле, чем привлекать новых. Нужно спрогнозировать, уйдёт клиент из банка в ближайшее время или нет. Предоставлены исторические данные о поведении клиентов и расторжении договоров с банком."
   ]
  },
  {
   "cell_type": "markdown",
   "metadata": {},
   "source": [
    "## Подготовка данных"
   ]
  },
  {
   "cell_type": "code",
   "execution_count": 1,
   "metadata": {},
   "outputs": [],
   "source": [
    "import pandas as pd\n",
    "import matplotlib.pyplot as plt\n",
    "from sklearn.model_selection import train_test_split\n",
    "from sklearn.preprocessing import StandardScaler\n",
    "from sklearn.preprocessing import OrdinalEncoder\n",
    "from sklearn.tree import DecisionTreeClassifier\n",
    "from sklearn.ensemble import RandomForestClassifier\n",
    "from sklearn.linear_model import LogisticRegression\n",
    "from sklearn.metrics import f1_score, roc_auc_score, roc_curve, precision_recall_curve, recall_score\n",
    "from sklearn.utils import shuffle\n",
    "from sklearn.dummy import DummyClassifier\n",
    "from tqdm import tqdm"
   ]
  },
  {
   "cell_type": "code",
   "execution_count": 2,
   "metadata": {
    "scrolled": true
   },
   "outputs": [],
   "source": [
    "pd.options.display.float_format = \"{:,.2f}\".format\n",
    "pd.options.mode.chained_assignment = None\n",
    "\n",
    "# загружаем данные\n",
    "df = pd.read_csv('Churn.csv')"
   ]
  },
  {
   "cell_type": "code",
   "execution_count": 3,
   "metadata": {},
   "outputs": [],
   "source": [
    "df.columns = df.columns.str.lower()"
   ]
  },
  {
   "cell_type": "code",
   "execution_count": 4,
   "metadata": {
    "scrolled": true
   },
   "outputs": [
    {
     "name": "stdout",
     "output_type": "stream",
     "text": [
      "<class 'pandas.core.frame.DataFrame'>\n",
      "RangeIndex: 10000 entries, 0 to 9999\n",
      "Data columns (total 14 columns):\n",
      " #   Column           Non-Null Count  Dtype  \n",
      "---  ------           --------------  -----  \n",
      " 0   rownumber        10000 non-null  int64  \n",
      " 1   customerid       10000 non-null  int64  \n",
      " 2   surname          10000 non-null  object \n",
      " 3   creditscore      10000 non-null  int64  \n",
      " 4   geography        10000 non-null  object \n",
      " 5   gender           10000 non-null  object \n",
      " 6   age              10000 non-null  int64  \n",
      " 7   tenure           9091 non-null   float64\n",
      " 8   balance          10000 non-null  float64\n",
      " 9   numofproducts    10000 non-null  int64  \n",
      " 10  hascrcard        10000 non-null  int64  \n",
      " 11  isactivemember   10000 non-null  int64  \n",
      " 12  estimatedsalary  10000 non-null  float64\n",
      " 13  exited           10000 non-null  int64  \n",
      "dtypes: float64(3), int64(8), object(3)\n",
      "memory usage: 1.1+ MB\n"
     ]
    }
   ],
   "source": [
    "df.info()"
   ]
  },
  {
   "cell_type": "code",
   "execution_count": 5,
   "metadata": {},
   "outputs": [
    {
     "data": {
      "text/plain": [
       "rownumber          0\n",
       "customerid         0\n",
       "surname            0\n",
       "creditscore        0\n",
       "geography          0\n",
       "gender             0\n",
       "age                0\n",
       "tenure             0\n",
       "balance            0\n",
       "numofproducts      0\n",
       "hascrcard          0\n",
       "isactivemember     0\n",
       "estimatedsalary    0\n",
       "exited             0\n",
       "dtype: int64"
      ]
     },
     "execution_count": 5,
     "metadata": {},
     "output_type": "execute_result"
    }
   ],
   "source": [
    "df = df.dropna()\n",
    "df.isna().sum()"
   ]
  },
  {
   "cell_type": "code",
   "execution_count": 6,
   "metadata": {
    "scrolled": false
   },
   "outputs": [
    {
     "data": {
      "text/html": [
       "<div>\n",
       "<style scoped>\n",
       "    .dataframe tbody tr th:only-of-type {\n",
       "        vertical-align: middle;\n",
       "    }\n",
       "\n",
       "    .dataframe tbody tr th {\n",
       "        vertical-align: top;\n",
       "    }\n",
       "\n",
       "    .dataframe thead th {\n",
       "        text-align: right;\n",
       "    }\n",
       "</style>\n",
       "<table border=\"1\" class=\"dataframe\">\n",
       "  <thead>\n",
       "    <tr style=\"text-align: right;\">\n",
       "      <th></th>\n",
       "      <th>count</th>\n",
       "      <th>unique</th>\n",
       "      <th>top</th>\n",
       "      <th>freq</th>\n",
       "      <th>mean</th>\n",
       "      <th>std</th>\n",
       "      <th>min</th>\n",
       "      <th>25%</th>\n",
       "      <th>50%</th>\n",
       "      <th>75%</th>\n",
       "      <th>max</th>\n",
       "    </tr>\n",
       "  </thead>\n",
       "  <tbody>\n",
       "    <tr>\n",
       "      <th>rownumber</th>\n",
       "      <td>9,091.00</td>\n",
       "      <td>NaN</td>\n",
       "      <td>NaN</td>\n",
       "      <td>NaN</td>\n",
       "      <td>5,013.91</td>\n",
       "      <td>2,884.43</td>\n",
       "      <td>1.00</td>\n",
       "      <td>2,521.50</td>\n",
       "      <td>5,019.00</td>\n",
       "      <td>7,511.50</td>\n",
       "      <td>9,999.00</td>\n",
       "    </tr>\n",
       "    <tr>\n",
       "      <th>customerid</th>\n",
       "      <td>9,091.00</td>\n",
       "      <td>NaN</td>\n",
       "      <td>NaN</td>\n",
       "      <td>NaN</td>\n",
       "      <td>15,691,053.16</td>\n",
       "      <td>71,614.19</td>\n",
       "      <td>15,565,701.00</td>\n",
       "      <td>15,628,985.50</td>\n",
       "      <td>15,691,061.00</td>\n",
       "      <td>15,752,851.50</td>\n",
       "      <td>15,815,660.00</td>\n",
       "    </tr>\n",
       "    <tr>\n",
       "      <th>surname</th>\n",
       "      <td>9091</td>\n",
       "      <td>2787</td>\n",
       "      <td>Smith</td>\n",
       "      <td>30</td>\n",
       "      <td>NaN</td>\n",
       "      <td>NaN</td>\n",
       "      <td>NaN</td>\n",
       "      <td>NaN</td>\n",
       "      <td>NaN</td>\n",
       "      <td>NaN</td>\n",
       "      <td>NaN</td>\n",
       "    </tr>\n",
       "    <tr>\n",
       "      <th>creditscore</th>\n",
       "      <td>9,091.00</td>\n",
       "      <td>NaN</td>\n",
       "      <td>NaN</td>\n",
       "      <td>NaN</td>\n",
       "      <td>650.74</td>\n",
       "      <td>96.41</td>\n",
       "      <td>350.00</td>\n",
       "      <td>584.00</td>\n",
       "      <td>652.00</td>\n",
       "      <td>717.00</td>\n",
       "      <td>850.00</td>\n",
       "    </tr>\n",
       "    <tr>\n",
       "      <th>geography</th>\n",
       "      <td>9091</td>\n",
       "      <td>3</td>\n",
       "      <td>France</td>\n",
       "      <td>4550</td>\n",
       "      <td>NaN</td>\n",
       "      <td>NaN</td>\n",
       "      <td>NaN</td>\n",
       "      <td>NaN</td>\n",
       "      <td>NaN</td>\n",
       "      <td>NaN</td>\n",
       "      <td>NaN</td>\n",
       "    </tr>\n",
       "    <tr>\n",
       "      <th>gender</th>\n",
       "      <td>9091</td>\n",
       "      <td>2</td>\n",
       "      <td>Male</td>\n",
       "      <td>4974</td>\n",
       "      <td>NaN</td>\n",
       "      <td>NaN</td>\n",
       "      <td>NaN</td>\n",
       "      <td>NaN</td>\n",
       "      <td>NaN</td>\n",
       "      <td>NaN</td>\n",
       "      <td>NaN</td>\n",
       "    </tr>\n",
       "    <tr>\n",
       "      <th>age</th>\n",
       "      <td>9,091.00</td>\n",
       "      <td>NaN</td>\n",
       "      <td>NaN</td>\n",
       "      <td>NaN</td>\n",
       "      <td>38.95</td>\n",
       "      <td>10.56</td>\n",
       "      <td>18.00</td>\n",
       "      <td>32.00</td>\n",
       "      <td>37.00</td>\n",
       "      <td>44.00</td>\n",
       "      <td>92.00</td>\n",
       "    </tr>\n",
       "    <tr>\n",
       "      <th>tenure</th>\n",
       "      <td>9,091.00</td>\n",
       "      <td>NaN</td>\n",
       "      <td>NaN</td>\n",
       "      <td>NaN</td>\n",
       "      <td>5.00</td>\n",
       "      <td>2.89</td>\n",
       "      <td>0.00</td>\n",
       "      <td>2.00</td>\n",
       "      <td>5.00</td>\n",
       "      <td>7.00</td>\n",
       "      <td>10.00</td>\n",
       "    </tr>\n",
       "    <tr>\n",
       "      <th>balance</th>\n",
       "      <td>9,091.00</td>\n",
       "      <td>NaN</td>\n",
       "      <td>NaN</td>\n",
       "      <td>NaN</td>\n",
       "      <td>76,522.74</td>\n",
       "      <td>62,329.53</td>\n",
       "      <td>0.00</td>\n",
       "      <td>0.00</td>\n",
       "      <td>97,318.25</td>\n",
       "      <td>127,561.89</td>\n",
       "      <td>250,898.09</td>\n",
       "    </tr>\n",
       "    <tr>\n",
       "      <th>numofproducts</th>\n",
       "      <td>9,091.00</td>\n",
       "      <td>NaN</td>\n",
       "      <td>NaN</td>\n",
       "      <td>NaN</td>\n",
       "      <td>1.53</td>\n",
       "      <td>0.58</td>\n",
       "      <td>1.00</td>\n",
       "      <td>1.00</td>\n",
       "      <td>1.00</td>\n",
       "      <td>2.00</td>\n",
       "      <td>4.00</td>\n",
       "    </tr>\n",
       "    <tr>\n",
       "      <th>hascrcard</th>\n",
       "      <td>9,091.00</td>\n",
       "      <td>NaN</td>\n",
       "      <td>NaN</td>\n",
       "      <td>NaN</td>\n",
       "      <td>0.70</td>\n",
       "      <td>0.46</td>\n",
       "      <td>0.00</td>\n",
       "      <td>0.00</td>\n",
       "      <td>1.00</td>\n",
       "      <td>1.00</td>\n",
       "      <td>1.00</td>\n",
       "    </tr>\n",
       "    <tr>\n",
       "      <th>isactivemember</th>\n",
       "      <td>9,091.00</td>\n",
       "      <td>NaN</td>\n",
       "      <td>NaN</td>\n",
       "      <td>NaN</td>\n",
       "      <td>0.52</td>\n",
       "      <td>0.50</td>\n",
       "      <td>0.00</td>\n",
       "      <td>0.00</td>\n",
       "      <td>1.00</td>\n",
       "      <td>1.00</td>\n",
       "      <td>1.00</td>\n",
       "    </tr>\n",
       "    <tr>\n",
       "      <th>estimatedsalary</th>\n",
       "      <td>9,091.00</td>\n",
       "      <td>NaN</td>\n",
       "      <td>NaN</td>\n",
       "      <td>NaN</td>\n",
       "      <td>100,181.21</td>\n",
       "      <td>57,624.76</td>\n",
       "      <td>11.58</td>\n",
       "      <td>51,227.74</td>\n",
       "      <td>100,240.20</td>\n",
       "      <td>149,567.21</td>\n",
       "      <td>199,992.48</td>\n",
       "    </tr>\n",
       "    <tr>\n",
       "      <th>exited</th>\n",
       "      <td>9,091.00</td>\n",
       "      <td>NaN</td>\n",
       "      <td>NaN</td>\n",
       "      <td>NaN</td>\n",
       "      <td>0.20</td>\n",
       "      <td>0.40</td>\n",
       "      <td>0.00</td>\n",
       "      <td>0.00</td>\n",
       "      <td>0.00</td>\n",
       "      <td>0.00</td>\n",
       "      <td>1.00</td>\n",
       "    </tr>\n",
       "  </tbody>\n",
       "</table>\n",
       "</div>"
      ],
      "text/plain": [
       "                   count unique     top  freq          mean       std  \\\n",
       "rownumber       9,091.00    NaN     NaN   NaN      5,013.91  2,884.43   \n",
       "customerid      9,091.00    NaN     NaN   NaN 15,691,053.16 71,614.19   \n",
       "surname             9091   2787   Smith    30           NaN       NaN   \n",
       "creditscore     9,091.00    NaN     NaN   NaN        650.74     96.41   \n",
       "geography           9091      3  France  4550           NaN       NaN   \n",
       "gender              9091      2    Male  4974           NaN       NaN   \n",
       "age             9,091.00    NaN     NaN   NaN         38.95     10.56   \n",
       "tenure          9,091.00    NaN     NaN   NaN          5.00      2.89   \n",
       "balance         9,091.00    NaN     NaN   NaN     76,522.74 62,329.53   \n",
       "numofproducts   9,091.00    NaN     NaN   NaN          1.53      0.58   \n",
       "hascrcard       9,091.00    NaN     NaN   NaN          0.70      0.46   \n",
       "isactivemember  9,091.00    NaN     NaN   NaN          0.52      0.50   \n",
       "estimatedsalary 9,091.00    NaN     NaN   NaN    100,181.21 57,624.76   \n",
       "exited          9,091.00    NaN     NaN   NaN          0.20      0.40   \n",
       "\n",
       "                          min           25%           50%           75%  \\\n",
       "rownumber                1.00      2,521.50      5,019.00      7,511.50   \n",
       "customerid      15,565,701.00 15,628,985.50 15,691,061.00 15,752,851.50   \n",
       "surname                   NaN           NaN           NaN           NaN   \n",
       "creditscore            350.00        584.00        652.00        717.00   \n",
       "geography                 NaN           NaN           NaN           NaN   \n",
       "gender                    NaN           NaN           NaN           NaN   \n",
       "age                     18.00         32.00         37.00         44.00   \n",
       "tenure                   0.00          2.00          5.00          7.00   \n",
       "balance                  0.00          0.00     97,318.25    127,561.89   \n",
       "numofproducts            1.00          1.00          1.00          2.00   \n",
       "hascrcard                0.00          0.00          1.00          1.00   \n",
       "isactivemember           0.00          0.00          1.00          1.00   \n",
       "estimatedsalary         11.58     51,227.74    100,240.20    149,567.21   \n",
       "exited                   0.00          0.00          0.00          0.00   \n",
       "\n",
       "                          max  \n",
       "rownumber            9,999.00  \n",
       "customerid      15,815,660.00  \n",
       "surname                   NaN  \n",
       "creditscore            850.00  \n",
       "geography                 NaN  \n",
       "gender                    NaN  \n",
       "age                     92.00  \n",
       "tenure                  10.00  \n",
       "balance            250,898.09  \n",
       "numofproducts            4.00  \n",
       "hascrcard                1.00  \n",
       "isactivemember           1.00  \n",
       "estimatedsalary    199,992.48  \n",
       "exited                   1.00  "
      ]
     },
     "execution_count": 6,
     "metadata": {},
     "output_type": "execute_result"
    }
   ],
   "source": [
    "df.describe(include='all').T"
   ]
  },
  {
   "cell_type": "code",
   "execution_count": 7,
   "metadata": {},
   "outputs": [
    {
     "name": "stderr",
     "output_type": "stream",
     "text": [
      "/var/folders/1x/1w_zvycx51vgmxmwtzcxw7zr0000gn/T/ipykernel_79820/1134722465.py:1: FutureWarning: The default value of numeric_only in DataFrame.corr is deprecated. In a future version, it will default to False. Select only valid columns or specify the value of numeric_only to silence this warning.\n",
      "  df.corr()\n"
     ]
    },
    {
     "data": {
      "text/html": [
       "<div>\n",
       "<style scoped>\n",
       "    .dataframe tbody tr th:only-of-type {\n",
       "        vertical-align: middle;\n",
       "    }\n",
       "\n",
       "    .dataframe tbody tr th {\n",
       "        vertical-align: top;\n",
       "    }\n",
       "\n",
       "    .dataframe thead th {\n",
       "        text-align: right;\n",
       "    }\n",
       "</style>\n",
       "<table border=\"1\" class=\"dataframe\">\n",
       "  <thead>\n",
       "    <tr style=\"text-align: right;\">\n",
       "      <th></th>\n",
       "      <th>rownumber</th>\n",
       "      <th>customerid</th>\n",
       "      <th>creditscore</th>\n",
       "      <th>age</th>\n",
       "      <th>tenure</th>\n",
       "      <th>balance</th>\n",
       "      <th>numofproducts</th>\n",
       "      <th>hascrcard</th>\n",
       "      <th>isactivemember</th>\n",
       "      <th>estimatedsalary</th>\n",
       "      <th>exited</th>\n",
       "    </tr>\n",
       "  </thead>\n",
       "  <tbody>\n",
       "    <tr>\n",
       "      <th>rownumber</th>\n",
       "      <td>1.00</td>\n",
       "      <td>0.00</td>\n",
       "      <td>0.00</td>\n",
       "      <td>0.00</td>\n",
       "      <td>-0.01</td>\n",
       "      <td>-0.01</td>\n",
       "      <td>0.01</td>\n",
       "      <td>0.00</td>\n",
       "      <td>0.01</td>\n",
       "      <td>-0.00</td>\n",
       "      <td>-0.01</td>\n",
       "    </tr>\n",
       "    <tr>\n",
       "      <th>customerid</th>\n",
       "      <td>0.00</td>\n",
       "      <td>1.00</td>\n",
       "      <td>-0.00</td>\n",
       "      <td>0.01</td>\n",
       "      <td>-0.02</td>\n",
       "      <td>-0.01</td>\n",
       "      <td>0.01</td>\n",
       "      <td>-0.02</td>\n",
       "      <td>0.00</td>\n",
       "      <td>0.01</td>\n",
       "      <td>-0.01</td>\n",
       "    </tr>\n",
       "    <tr>\n",
       "      <th>creditscore</th>\n",
       "      <td>0.00</td>\n",
       "      <td>-0.00</td>\n",
       "      <td>1.00</td>\n",
       "      <td>-0.00</td>\n",
       "      <td>-0.00</td>\n",
       "      <td>0.00</td>\n",
       "      <td>0.01</td>\n",
       "      <td>-0.00</td>\n",
       "      <td>0.03</td>\n",
       "      <td>0.01</td>\n",
       "      <td>-0.02</td>\n",
       "    </tr>\n",
       "    <tr>\n",
       "      <th>age</th>\n",
       "      <td>0.00</td>\n",
       "      <td>0.01</td>\n",
       "      <td>-0.00</td>\n",
       "      <td>1.00</td>\n",
       "      <td>-0.01</td>\n",
       "      <td>0.03</td>\n",
       "      <td>-0.03</td>\n",
       "      <td>-0.01</td>\n",
       "      <td>0.08</td>\n",
       "      <td>-0.01</td>\n",
       "      <td>0.28</td>\n",
       "    </tr>\n",
       "    <tr>\n",
       "      <th>tenure</th>\n",
       "      <td>-0.01</td>\n",
       "      <td>-0.02</td>\n",
       "      <td>-0.00</td>\n",
       "      <td>-0.01</td>\n",
       "      <td>1.00</td>\n",
       "      <td>-0.01</td>\n",
       "      <td>0.01</td>\n",
       "      <td>0.03</td>\n",
       "      <td>-0.03</td>\n",
       "      <td>0.01</td>\n",
       "      <td>-0.02</td>\n",
       "    </tr>\n",
       "    <tr>\n",
       "      <th>balance</th>\n",
       "      <td>-0.01</td>\n",
       "      <td>-0.01</td>\n",
       "      <td>0.00</td>\n",
       "      <td>0.03</td>\n",
       "      <td>-0.01</td>\n",
       "      <td>1.00</td>\n",
       "      <td>-0.30</td>\n",
       "      <td>-0.02</td>\n",
       "      <td>-0.00</td>\n",
       "      <td>0.01</td>\n",
       "      <td>0.12</td>\n",
       "    </tr>\n",
       "    <tr>\n",
       "      <th>numofproducts</th>\n",
       "      <td>0.01</td>\n",
       "      <td>0.01</td>\n",
       "      <td>0.01</td>\n",
       "      <td>-0.03</td>\n",
       "      <td>0.01</td>\n",
       "      <td>-0.30</td>\n",
       "      <td>1.00</td>\n",
       "      <td>0.01</td>\n",
       "      <td>0.01</td>\n",
       "      <td>0.01</td>\n",
       "      <td>-0.05</td>\n",
       "    </tr>\n",
       "    <tr>\n",
       "      <th>hascrcard</th>\n",
       "      <td>0.00</td>\n",
       "      <td>-0.02</td>\n",
       "      <td>-0.00</td>\n",
       "      <td>-0.01</td>\n",
       "      <td>0.03</td>\n",
       "      <td>-0.02</td>\n",
       "      <td>0.01</td>\n",
       "      <td>1.00</td>\n",
       "      <td>-0.01</td>\n",
       "      <td>-0.01</td>\n",
       "      <td>-0.01</td>\n",
       "    </tr>\n",
       "    <tr>\n",
       "      <th>isactivemember</th>\n",
       "      <td>0.01</td>\n",
       "      <td>0.00</td>\n",
       "      <td>0.03</td>\n",
       "      <td>0.08</td>\n",
       "      <td>-0.03</td>\n",
       "      <td>-0.00</td>\n",
       "      <td>0.01</td>\n",
       "      <td>-0.01</td>\n",
       "      <td>1.00</td>\n",
       "      <td>-0.02</td>\n",
       "      <td>-0.16</td>\n",
       "    </tr>\n",
       "    <tr>\n",
       "      <th>estimatedsalary</th>\n",
       "      <td>-0.00</td>\n",
       "      <td>0.01</td>\n",
       "      <td>0.01</td>\n",
       "      <td>-0.01</td>\n",
       "      <td>0.01</td>\n",
       "      <td>0.01</td>\n",
       "      <td>0.01</td>\n",
       "      <td>-0.01</td>\n",
       "      <td>-0.02</td>\n",
       "      <td>1.00</td>\n",
       "      <td>0.02</td>\n",
       "    </tr>\n",
       "    <tr>\n",
       "      <th>exited</th>\n",
       "      <td>-0.01</td>\n",
       "      <td>-0.01</td>\n",
       "      <td>-0.02</td>\n",
       "      <td>0.28</td>\n",
       "      <td>-0.02</td>\n",
       "      <td>0.12</td>\n",
       "      <td>-0.05</td>\n",
       "      <td>-0.01</td>\n",
       "      <td>-0.16</td>\n",
       "      <td>0.02</td>\n",
       "      <td>1.00</td>\n",
       "    </tr>\n",
       "  </tbody>\n",
       "</table>\n",
       "</div>"
      ],
      "text/plain": [
       "                 rownumber  customerid  creditscore   age  tenure  balance  \\\n",
       "rownumber             1.00        0.00         0.00  0.00   -0.01    -0.01   \n",
       "customerid            0.00        1.00        -0.00  0.01   -0.02    -0.01   \n",
       "creditscore           0.00       -0.00         1.00 -0.00   -0.00     0.00   \n",
       "age                   0.00        0.01        -0.00  1.00   -0.01     0.03   \n",
       "tenure               -0.01       -0.02        -0.00 -0.01    1.00    -0.01   \n",
       "balance              -0.01       -0.01         0.00  0.03   -0.01     1.00   \n",
       "numofproducts         0.01        0.01         0.01 -0.03    0.01    -0.30   \n",
       "hascrcard             0.00       -0.02        -0.00 -0.01    0.03    -0.02   \n",
       "isactivemember        0.01        0.00         0.03  0.08   -0.03    -0.00   \n",
       "estimatedsalary      -0.00        0.01         0.01 -0.01    0.01     0.01   \n",
       "exited               -0.01       -0.01        -0.02  0.28   -0.02     0.12   \n",
       "\n",
       "                 numofproducts  hascrcard  isactivemember  estimatedsalary  \\\n",
       "rownumber                 0.01       0.00            0.01            -0.00   \n",
       "customerid                0.01      -0.02            0.00             0.01   \n",
       "creditscore               0.01      -0.00            0.03             0.01   \n",
       "age                      -0.03      -0.01            0.08            -0.01   \n",
       "tenure                    0.01       0.03           -0.03             0.01   \n",
       "balance                  -0.30      -0.02           -0.00             0.01   \n",
       "numofproducts             1.00       0.01            0.01             0.01   \n",
       "hascrcard                 0.01       1.00           -0.01            -0.01   \n",
       "isactivemember            0.01      -0.01            1.00            -0.02   \n",
       "estimatedsalary           0.01      -0.01           -0.02             1.00   \n",
       "exited                   -0.05      -0.01           -0.16             0.02   \n",
       "\n",
       "                 exited  \n",
       "rownumber         -0.01  \n",
       "customerid        -0.01  \n",
       "creditscore       -0.02  \n",
       "age                0.28  \n",
       "tenure            -0.02  \n",
       "balance            0.12  \n",
       "numofproducts     -0.05  \n",
       "hascrcard         -0.01  \n",
       "isactivemember    -0.16  \n",
       "estimatedsalary    0.02  \n",
       "exited             1.00  "
      ]
     },
     "execution_count": 7,
     "metadata": {},
     "output_type": "execute_result"
    }
   ],
   "source": [
    "df.corr()"
   ]
  },
  {
   "cell_type": "code",
   "execution_count": 8,
   "metadata": {},
   "outputs": [],
   "source": [
    "df_tree = df.drop('surname', axis=1)\n",
    "df_tree = pd.get_dummies(df_tree, drop_first=True)\n",
    "\n",
    "features = df_tree.drop('exited', axis=1)\n",
    "target = df_tree.exited\n",
    "\n",
    "features_train, f, target_train, t = train_test_split(features, target,\n",
    "                                                              test_size=.4,\n",
    "                                                              random_state=42,\n",
    "                                                              stratify=target)\n",
    "\n",
    "features_valid, features_test, target_valid, target_test = train_test_split(f, t,\n",
    "                                                                            test_size=.5,\n",
    "                                                                            random_state=42,\n",
    "                                                                            stratify=t)"
   ]
  },
  {
   "cell_type": "code",
   "execution_count": 9,
   "metadata": {},
   "outputs": [
    {
     "name": "stdout",
     "output_type": "stream",
     "text": [
      "(5454, 13) (5454,)\n",
      "(1818, 13) (1818,)\n",
      "(1819, 13) (1819,)\n"
     ]
    }
   ],
   "source": [
    "print(features_train.shape, target_train.shape)\n",
    "print(features_valid.shape, target_valid.shape)\n",
    "print(features_test.shape, target_test.shape)"
   ]
  },
  {
   "cell_type": "code",
   "execution_count": 10,
   "metadata": {},
   "outputs": [],
   "source": [
    "numeric =  ['customerid', 'creditscore', 'age', 'tenure', 'balance',\n",
    "            'numofproducts', 'hascrcard', 'isactivemember', 'estimatedsalary']\n",
    "\n",
    "scaler = StandardScaler()\n",
    "scaler.fit(features_train[numeric])\n",
    "features_train[numeric] = scaler.transform(features_train[numeric])\n",
    "features_valid[numeric] = scaler.transform(features_valid[numeric])\n",
    "features_test[numeric] = scaler.transform(features_test[numeric])"
   ]
  },
  {
   "cell_type": "markdown",
   "metadata": {},
   "source": [
    "**Вывод** \n",
    "- Объекты с пропущенными значениями в столбце `tenure` удалены.\n",
    "- Из описательной статистике виден явный дисбаланс классов. Среднее значение равное 0.2 в столбце `exited` говорит о превосходстве нулевого класса в выборке.\n",
    "- Мультиколлинеарность отсутствует."
   ]
  },
  {
   "cell_type": "markdown",
   "metadata": {},
   "source": [
    "## Исследование задачи"
   ]
  },
  {
   "cell_type": "markdown",
   "metadata": {},
   "source": [
    "**Исследуем выборки на сбалансированость**"
   ]
  },
  {
   "cell_type": "code",
   "execution_count": 11,
   "metadata": {},
   "outputs": [],
   "source": [
    "def balans(df, axes):\n",
    "    count = df.value_counts(normalize=True)\n",
    "    count.plot(kind='bar', ax=axes)"
   ]
  },
  {
   "cell_type": "code",
   "execution_count": 12,
   "metadata": {},
   "outputs": [
    {
     "data": {
      "image/png": "[encoded data removed]",
      "text/plain": [
       "<Figure size 1500x600 with 3 Axes>"
      ]
     },
     "metadata": {},
     "output_type": "display_data"
    }
   ],
   "source": [
    "fig, axes = plt.subplots(1,3, figsize=(15,6))\n",
    "fig.suptitle('Соотношение классов в тренировочной, вылидационной и тестовой выборках')\n",
    "\n",
    "balans(target_train, axes[0])\n",
    "balans(target_valid, axes[1])\n",
    "balans(target_test, axes[2])"
   ]
  },
  {
   "cell_type": "markdown",
   "metadata": {},
   "source": [
    "**Обучим модели и выберим лучшую по показателю F1-метрики**"
   ]
  },
  {
   "cell_type": "code",
   "execution_count": 13,
   "metadata": {},
   "outputs": [
    {
     "name": "stdout",
     "output_type": "stream",
     "text": [
      "F1-метрика лучшей модели: 0.5475040257648953 максимальная глубина дерева: 8\n"
     ]
    }
   ],
   "source": [
    "# решающее дерево класификаций\n",
    "\n",
    "model_dt = []\n",
    "max_depth = 1\n",
    "f1 = 0\n",
    "\n",
    "for depth in range (1, 20):\n",
    "    model = DecisionTreeClassifier(random_state=42, max_depth=depth)\n",
    "    model.fit(features_train, target_train)\n",
    "    predicted = model.predict(features_valid)\n",
    "    result = f1_score(target_valid, predicted)\n",
    "    if result> f1:\n",
    "        model_dt = model\n",
    "        max_depth = depth\n",
    "        f1 = result\n",
    "        \n",
    "print('F1-метрика лучшей модели:', f1, 'максимальная глубина дерева:', max_depth)"
   ]
  },
  {
   "cell_type": "code",
   "execution_count": 14,
   "metadata": {
    "scrolled": true
   },
   "outputs": [
    {
     "name": "stderr",
     "output_type": "stream",
     "text": [
      "100%|██████████| 29/29 [00:23<00:00,  1.26it/s]"
     ]
    },
    {
     "name": "stdout",
     "output_type": "stream",
     "text": [
      "F1-метрика лучшей модели: 0.5372050816696914 количество деревьев: 15 максимальная глубина дерева: 11\n"
     ]
    },
    {
     "name": "stderr",
     "output_type": "stream",
     "text": [
      "\n"
     ]
    }
   ],
   "source": [
    "# случайный лес\n",
    "\n",
    "model_rf = []\n",
    "n_estimators = 1\n",
    "max_depth = 1\n",
    "f1 = 0\n",
    "\n",
    "for n in tqdm(range(1, 30)):\n",
    "    for depth in range(1, 15):\n",
    "        model = RandomForestClassifier(random_state=42, n_estimators=n, max_depth=depth)\n",
    "        model.fit(features_train, target_train)\n",
    "        predicted = model.predict(features_valid)\n",
    "        result = f1_score(target_valid, predicted)\n",
    "        if result>f1:\n",
    "            model_rf = model\n",
    "            n_estimators = n\n",
    "            max_depth = depth\n",
    "            f1 = result\n",
    "            \n",
    "print('F1-метрика лучшей модели:', f1, 'количество деревьев:', n_estimators,\n",
    "      'максимальная глубина дерева:', max_depth)"
   ]
  },
  {
   "cell_type": "markdown",
   "metadata": {},
   "source": [
    "**Модель Логистическая регрессия**"
   ]
  },
  {
   "cell_type": "code",
   "execution_count": 15,
   "metadata": {},
   "outputs": [],
   "source": [
    "# подготовка данных\n",
    "\n",
    "scaler.fit(df[numeric])\n",
    "df[numeric] = scaler.transform(df[numeric])\n",
    "\n",
    "\n",
    "encoder = OrdinalEncoder()\n",
    "df_ordinal = pd.DataFrame(encoder.fit_transform(df), columns=df.columns)\n",
    "df_ordinal.describe()\n",
    "\n",
    "features_log = df_ordinal.drop('exited', axis=1)\n",
    "target_log = df_ordinal.exited\n",
    "\n",
    "features_log_train, df_1, target_log_train, df_2 = train_test_split(features_log, target_log,\n",
    "                                                            test_size=.4,\n",
    "                                                            random_state=42,\n",
    "                                                            stratify=target)\n",
    "\n",
    "features_log_valid, features_log_test, target_log_valid, target_log_test = train_test_split(df_1, df_2,\n",
    "                                                                            test_size=.5,\n",
    "                                                                            random_state=42,\n",
    "                                                                            stratify=df_2)"
   ]
  },
  {
   "cell_type": "code",
   "execution_count": 16,
   "metadata": {
    "scrolled": true
   },
   "outputs": [
    {
     "name": "stdout",
     "output_type": "stream",
     "text": [
      "F1-метрика: 0.2386117136659436\n"
     ]
    }
   ],
   "source": [
    "# обучим модель\n",
    "\n",
    "model = LogisticRegression(solver='liblinear', random_state=42, max_iter=1000)\n",
    "model.fit(features_log_train, target_log_train)\n",
    "predicted = model.predict(features_log_valid)\n",
    "print('F1-метрика:', f1_score(target_log_valid, predicted))"
   ]
  },
  {
   "cell_type": "markdown",
   "metadata": {},
   "source": [
    "**Вывод**\n",
    "- Данные имеют дисбаланс классов. С учетом этого данные были разделены на тренировочную, валидационную и тестовую выборки с сохранением долей классов.\n",
    "- Лучшие показатели f1-метрики показала модель решающего дерева с максимальной глубиной дерева 8.\n",
    "- Худший результат показывает модель логистической регрессии со значением F1-метрики равной 0.27"
   ]
  },
  {
   "cell_type": "markdown",
   "metadata": {},
   "source": [
    "## Борьба с дисбалансом"
   ]
  },
  {
   "cell_type": "markdown",
   "metadata": {},
   "source": [
    "**Рассмотрим как изменятся результаты метрик в зависимости от разных способов борьбы с дисбалансом:**\n",
    "- Увеличим выборки.\n",
    "- Уменьшим выборки.\n",
    "- Взвешивание классов."
   ]
  },
  {
   "cell_type": "markdown",
   "metadata": {},
   "source": [
    "### Взвешивание классов"
   ]
  },
  {
   "cell_type": "markdown",
   "metadata": {},
   "source": [
    "#### Решающее дерево"
   ]
  },
  {
   "cell_type": "code",
   "execution_count": 17,
   "metadata": {},
   "outputs": [
    {
     "name": "stdout",
     "output_type": "stream",
     "text": [
      "F1-метрика лучшей модели: 0.5997888067581838 максимальная глубина дерева: 7\n"
     ]
    },
    {
     "data": {
      "image/png": "[encoded data removed]",
      "text/plain": [
       "<Figure size 700x700 with 1 Axes>"
      ]
     },
     "metadata": {},
     "output_type": "display_data"
    }
   ],
   "source": [
    "model_dt = []\n",
    "max_depth = 1\n",
    "f1 = 0\n",
    "\n",
    "for depth in range (1, 20):\n",
    "    model = DecisionTreeClassifier(random_state=42, max_depth=depth, class_weight='balanced')\n",
    "    model.fit(features_train, target_train)\n",
    "    predicted = model.predict(features_valid)\n",
    "    result = f1_score(target_valid, predicted)\n",
    "    if result> f1:\n",
    "        model_dt = model\n",
    "        max_depth = depth\n",
    "        f1 = result\n",
    "        \n",
    "print('F1-метрика лучшей модели:', f1, 'максимальная глубина дерева:', max_depth)\n",
    "\n",
    "probabiliti = model_dt.predict_proba(features_valid)\n",
    "precision, recall, thresholds = precision_recall_curve(target_valid, probabiliti[:,1])\n",
    "\n",
    "plt.figure(figsize=(7,7))\n",
    "plt.step(recall, precision, where='post')\n",
    "plt.ylim(0,1)\n",
    "plt.xlim(0,1)\n",
    "plt.grid()\n",
    "plt.ylabel('Точность')\n",
    "plt.xlabel('Полнота')\n",
    "plt.title('PR-кривая')\n",
    "plt.show()"
   ]
  },
  {
   "cell_type": "markdown",
   "metadata": {},
   "source": [
    "#### Случайный лес"
   ]
  },
  {
   "cell_type": "code",
   "execution_count": 18,
   "metadata": {},
   "outputs": [
    {
     "name": "stderr",
     "output_type": "stream",
     "text": [
      "100%|██████████| 29/29 [00:22<00:00,  1.26it/s]"
     ]
    },
    {
     "name": "stdout",
     "output_type": "stream",
     "text": [
      "F1-метрика лучшей модели: 0.6403269754768393 количество деревьев: 14 максимальная глубина дерева: 10\n"
     ]
    },
    {
     "name": "stderr",
     "output_type": "stream",
     "text": [
      "\n"
     ]
    },
    {
     "data": {
      "image/png": "[encoded data removed]",
      "text/plain": [
       "<Figure size 700x700 with 1 Axes>"
      ]
     },
     "metadata": {},
     "output_type": "display_data"
    }
   ],
   "source": [
    "model_rf_w = []\n",
    "n_estimators = 1\n",
    "max_depth = 1\n",
    "f1 = 0\n",
    "\n",
    "for n in tqdm(range(1, 30)):\n",
    "    for depth in range(1, 15):\n",
    "        model = RandomForestClassifier(random_state=42, n_estimators=n, max_depth=depth, class_weight='balanced')\n",
    "        model.fit(features_train, target_train)\n",
    "        predicted = model.predict(features_valid)\n",
    "        result = f1_score(target_valid, predicted)\n",
    "        if result>f1:\n",
    "            model_rf_w = model\n",
    "            n_estimators = n\n",
    "            max_depth = depth\n",
    "            f1 = result\n",
    "            \n",
    "print('F1-метрика лучшей модели:', f1, 'количество деревьев:', n_estimators,\n",
    "      'максимальная глубина дерева:', max_depth)\n",
    "\n",
    "probabiliti = model_rf_w.predict_proba(features_valid)\n",
    "precision, recall, thresholds = precision_recall_curve(target_valid, probabiliti[:,1])\n",
    "\n",
    "plt.figure(figsize=(7,7))\n",
    "plt.step(recall, precision, where='post')\n",
    "plt.ylim(0,1)\n",
    "plt.xlim(0,1)\n",
    "plt.grid()\n",
    "plt.ylabel('Точность')\n",
    "plt.xlabel('Полнота')\n",
    "plt.title('PR-кривая')\n",
    "plt.show()"
   ]
  },
  {
   "cell_type": "markdown",
   "metadata": {},
   "source": [
    "#### Логистическая регрессия"
   ]
  },
  {
   "cell_type": "code",
   "execution_count": 19,
   "metadata": {},
   "outputs": [
    {
     "name": "stdout",
     "output_type": "stream",
     "text": [
      "F1-метрика: 0.5518394648829431\n"
     ]
    }
   ],
   "source": [
    "model_log = LogisticRegression(solver='liblinear', random_state=42, max_iter=1000, class_weight='balanced')\n",
    "model.fit(features_log_train, target_log_train)\n",
    "predicted = model.predict(features_log_valid)\n",
    "print('F1-метрика:', f1_score(target_log_valid, predicted))"
   ]
  },
  {
   "cell_type": "markdown",
   "metadata": {},
   "source": [
    "### Увеличение выборки"
   ]
  },
  {
   "cell_type": "code",
   "execution_count": 20,
   "metadata": {},
   "outputs": [],
   "source": [
    "# подготовка данных\n",
    "\n",
    "def upsampled(features, target, repeat, fraction):\n",
    "    features_zeros = features[target == 0]\n",
    "    features_ones = features[target == 1]\n",
    "    target_zeros = target[target ==0]\n",
    "    target_ones = target[target == 1]\n",
    "    \n",
    "    features_upsampled = pd.concat([features_zeros.sample(random_state=42, frac=fraction)]+\n",
    "                                   [features_ones] * repeat)\n",
    "    \n",
    "    target_upsampled = pd.concat([target_zeros.sample(random_state=42, frac=fraction)]+\n",
    "                                 [target_ones] * repeat)\n",
    "    \n",
    "    features_upsampled, target_upsampled = shuffle(features_upsampled, target_upsampled, random_state=42)\n",
    "    \n",
    "    return features_upsampled, target_upsampled"
   ]
  },
  {
   "cell_type": "code",
   "execution_count": 21,
   "metadata": {},
   "outputs": [
    {
     "name": "stdout",
     "output_type": "stream",
     "text": [
      "(8790, 13)\n"
     ]
    },
    {
     "data": {
      "text/html": [
       "<div>\n",
       "<style scoped>\n",
       "    .dataframe tbody tr th:only-of-type {\n",
       "        vertical-align: middle;\n",
       "    }\n",
       "\n",
       "    .dataframe tbody tr th {\n",
       "        vertical-align: top;\n",
       "    }\n",
       "\n",
       "    .dataframe thead th {\n",
       "        text-align: right;\n",
       "    }\n",
       "</style>\n",
       "<table border=\"1\" class=\"dataframe\">\n",
       "  <thead>\n",
       "    <tr style=\"text-align: right;\">\n",
       "      <th></th>\n",
       "      <th>exited</th>\n",
       "    </tr>\n",
       "  </thead>\n",
       "  <tbody>\n",
       "    <tr>\n",
       "      <th>1</th>\n",
       "      <td>0.51</td>\n",
       "    </tr>\n",
       "    <tr>\n",
       "      <th>0</th>\n",
       "      <td>0.49</td>\n",
       "    </tr>\n",
       "  </tbody>\n",
       "</table>\n",
       "</div>"
      ],
      "text/plain": [
       "   exited\n",
       "1    0.51\n",
       "0    0.49"
      ]
     },
     "execution_count": 21,
     "metadata": {},
     "output_type": "execute_result"
    }
   ],
   "source": [
    "features_upsampled, target_upsampled = upsampled(features_train, target_train, 4, 1)\n",
    "\n",
    "print(features_upsampled.shape)\n",
    "target_upsampled.value_counts(normalize=True).to_frame()"
   ]
  },
  {
   "cell_type": "markdown",
   "metadata": {},
   "source": [
    "#### Решающее дерево"
   ]
  },
  {
   "cell_type": "code",
   "execution_count": 22,
   "metadata": {},
   "outputs": [
    {
     "name": "stdout",
     "output_type": "stream",
     "text": [
      "F1-метрика лучшей модели: 0.6033755274261603 максимальная глубина дерева: 7\n"
     ]
    },
    {
     "data": {
      "image/png": "[encoded data removed]",
      "text/plain": [
       "<Figure size 700x700 with 1 Axes>"
      ]
     },
     "metadata": {},
     "output_type": "display_data"
    }
   ],
   "source": [
    "model_dt = []\n",
    "max_depth = 1\n",
    "f1 = 0\n",
    "\n",
    "for depth in range (1, 20):\n",
    "    model = DecisionTreeClassifier(max_depth=depth, random_state=42)\n",
    "    model.fit(features_upsampled, target_upsampled)\n",
    "    predicted = model.predict(features_valid)\n",
    "    result = f1_score(target_valid, predicted)\n",
    "    if result> f1:\n",
    "        model_dt = model\n",
    "        max_depth = depth\n",
    "        f1 = result\n",
    "        \n",
    "print('F1-метрика лучшей модели:', f1, 'максимальная глубина дерева:', max_depth)\n",
    "\n",
    "probabiliti = model_dt.predict_proba(features_valid)\n",
    "precision, recall, thresholds = precision_recall_curve(target_valid, probabiliti[:,1])\n",
    "\n",
    "plt.figure(figsize=(7,7))\n",
    "plt.step(recall, precision, where='post')\n",
    "plt.ylim(0,1)\n",
    "plt.xlim(0,1)\n",
    "plt.grid()\n",
    "plt.ylabel('Точность')\n",
    "plt.xlabel('Полнота')\n",
    "plt.title('PR-кривая')\n",
    "plt.show()"
   ]
  },
  {
   "cell_type": "markdown",
   "metadata": {},
   "source": [
    "#### Случайный лес"
   ]
  },
  {
   "cell_type": "code",
   "execution_count": 23,
   "metadata": {},
   "outputs": [
    {
     "name": "stderr",
     "output_type": "stream",
     "text": [
      "100%|██████████| 29/29 [00:38<00:00,  1.32s/it]"
     ]
    },
    {
     "name": "stdout",
     "output_type": "stream",
     "text": [
      "F1-метрика лучшей модели: 0.6170212765957447 количество деревьев: 13 максимальная глубина дерева: 13\n"
     ]
    },
    {
     "name": "stderr",
     "output_type": "stream",
     "text": [
      "\n"
     ]
    },
    {
     "data": {
      "image/png": "[encoded data removed]",
      "text/plain": [
       "<Figure size 700x700 with 1 Axes>"
      ]
     },
     "metadata": {},
     "output_type": "display_data"
    }
   ],
   "source": [
    "model_rf = []\n",
    "n_estimators = 1\n",
    "max_depth = 1\n",
    "f1 = 0\n",
    "\n",
    "for n in tqdm(range(1, 30)):\n",
    "    for depth in range(1, 15):\n",
    "        model = RandomForestClassifier(random_state=42, n_estimators=n, max_depth=depth)\n",
    "        model.fit(features_upsampled, target_upsampled)\n",
    "        predicted = model.predict(features_valid)\n",
    "        result = f1_score(target_valid, predicted)\n",
    "        if result>f1:\n",
    "            model_rf = model\n",
    "            n_estimators = n\n",
    "            max_depth = depth\n",
    "            f1 = result\n",
    "            \n",
    "print('F1-метрика лучшей модели:', f1, 'количество деревьев:', n_estimators,\n",
    "      'максимальная глубина дерева:', max_depth)\n",
    "\n",
    "probabiliti = model_rf.predict_proba(features_valid)\n",
    "precision, recall, thresholds = precision_recall_curve(target_valid, probabiliti[:,1])\n",
    "\n",
    "plt.figure(figsize=(7,7))\n",
    "plt.step(recall, precision, where='post')\n",
    "plt.ylim(0,1)\n",
    "plt.xlim(0,1)\n",
    "plt.grid()\n",
    "plt.ylabel('Точность')\n",
    "plt.xlabel('Полнота')\n",
    "plt.title('PR-кривая')\n",
    "plt.show()"
   ]
  },
  {
   "cell_type": "markdown",
   "metadata": {},
   "source": [
    "### Уменьшение выборки"
   ]
  },
  {
   "cell_type": "code",
   "execution_count": 24,
   "metadata": {},
   "outputs": [
    {
     "name": "stdout",
     "output_type": "stream",
     "text": [
      "(2241, 13)\n"
     ]
    },
    {
     "data": {
      "text/html": [
       "<div>\n",
       "<style scoped>\n",
       "    .dataframe tbody tr th:only-of-type {\n",
       "        vertical-align: middle;\n",
       "    }\n",
       "\n",
       "    .dataframe tbody tr th {\n",
       "        vertical-align: top;\n",
       "    }\n",
       "\n",
       "    .dataframe thead th {\n",
       "        text-align: right;\n",
       "    }\n",
       "</style>\n",
       "<table border=\"1\" class=\"dataframe\">\n",
       "  <thead>\n",
       "    <tr style=\"text-align: right;\">\n",
       "      <th></th>\n",
       "      <th>exited</th>\n",
       "    </tr>\n",
       "  </thead>\n",
       "  <tbody>\n",
       "    <tr>\n",
       "      <th>0</th>\n",
       "      <td>0.50</td>\n",
       "    </tr>\n",
       "    <tr>\n",
       "      <th>1</th>\n",
       "      <td>0.50</td>\n",
       "    </tr>\n",
       "  </tbody>\n",
       "</table>\n",
       "</div>"
      ],
      "text/plain": [
       "   exited\n",
       "0    0.50\n",
       "1    0.50"
      ]
     },
     "execution_count": 24,
     "metadata": {},
     "output_type": "execute_result"
    }
   ],
   "source": [
    "features_upsampled, target_upsampled = upsampled(features_train, target_train,1, 0.26)\n",
    "\n",
    "print(features_upsampled.shape)\n",
    "target_upsampled.value_counts(normalize=True).to_frame()"
   ]
  },
  {
   "cell_type": "markdown",
   "metadata": {},
   "source": [
    "#### Решающее дерево"
   ]
  },
  {
   "cell_type": "code",
   "execution_count": 25,
   "metadata": {},
   "outputs": [
    {
     "name": "stdout",
     "output_type": "stream",
     "text": [
      "F1-метрика лучшей модели: 0.5874439461883408 максимальная глубина дерева: 5\n"
     ]
    },
    {
     "data": {
      "image/png": "[encoded data removed]",
      "text/plain": [
       "<Figure size 700x700 with 1 Axes>"
      ]
     },
     "metadata": {},
     "output_type": "display_data"
    }
   ],
   "source": [
    "model_dt = []\n",
    "max_depth = 1\n",
    "f1 = 0\n",
    "\n",
    "for depth in range (1, 20):\n",
    "    model = DecisionTreeClassifier(max_depth=depth, random_state=42)\n",
    "    model.fit(features_upsampled, target_upsampled)\n",
    "    predicted = model.predict(features_valid)\n",
    "    result = f1_score(target_valid, predicted)\n",
    "    if result> f1:\n",
    "        model_dt = model\n",
    "        max_depth = depth\n",
    "        f1 = result\n",
    "        \n",
    "print('F1-метрика лучшей модели:', f1, 'максимальная глубина дерева:', max_depth)\n",
    "\n",
    "probabiliti = model_dt.predict_proba(features_valid)\n",
    "precision, recall, thresholds = precision_recall_curve(target_valid, probabiliti[:,1])\n",
    "\n",
    "plt.figure(figsize=(7,7))\n",
    "plt.step(recall, precision, where='post')\n",
    "plt.ylim(0,1)\n",
    "plt.xlim(0,1)\n",
    "plt.grid()\n",
    "plt.ylabel('Точность')\n",
    "plt.xlabel('Полнота')\n",
    "plt.title('PR-кривая')\n",
    "plt.show()"
   ]
  },
  {
   "cell_type": "markdown",
   "metadata": {},
   "source": [
    "#### Случайный лес"
   ]
  },
  {
   "cell_type": "code",
   "execution_count": 26,
   "metadata": {},
   "outputs": [
    {
     "name": "stderr",
     "output_type": "stream",
     "text": [
      "100%|██████████| 29/29 [00:21<00:00,  1.37it/s]\n"
     ]
    },
    {
     "name": "stdout",
     "output_type": "stream",
     "text": [
      "F1-метрика лучшей модели: 0.6000000000000001 количество деревьев: 18 максимальная глубина дерева: 7\n"
     ]
    },
    {
     "data": {
      "image/png": "[encoded data removed]",
      "text/plain": [
       "<Figure size 700x700 with 1 Axes>"
      ]
     },
     "metadata": {},
     "output_type": "display_data"
    }
   ],
   "source": [
    "model_rf = []\n",
    "n_estimators = 1\n",
    "max_depth = 1\n",
    "f1 = 0\n",
    "\n",
    "for n in tqdm(range(1, 30)):\n",
    "    for depth in range(1, 15):\n",
    "        model = RandomForestClassifier(random_state=42, n_estimators=n, max_depth=depth)\n",
    "        model.fit(features_upsampled, target_upsampled)\n",
    "        predicted = model.predict(features_valid)\n",
    "        result = f1_score(target_valid, predicted)\n",
    "        if result>f1:\n",
    "            model_rf = model\n",
    "            n_estimators = n\n",
    "            max_depth = depth\n",
    "            f1 = result\n",
    "            \n",
    "print('F1-метрика лучшей модели:', f1, 'количество деревьев:', n_estimators,\n",
    "      'максимальная глубина дерева:', max_depth)\n",
    "\n",
    "probabiliti = model_rf.predict_proba(features_valid)\n",
    "precision, recall, thresholds = precision_recall_curve(target_valid, probabiliti[:,1])\n",
    "\n",
    "plt.figure(figsize=(7,7))\n",
    "plt.step(recall, precision, where='post')\n",
    "plt.ylim(0,1)\n",
    "plt.xlim(0,1)\n",
    "plt.grid()\n",
    "plt.ylabel('Точность')\n",
    "plt.xlabel('Полнота')\n",
    "plt.title('PR-кривая')\n",
    "plt.show()"
   ]
  },
  {
   "cell_type": "markdown",
   "metadata": {},
   "source": [
    "**Вывод:**\n",
    "- За счет балансировки удалось повысить показатель метрики F1 на всех моделях.\n",
    "- Модель логистической регрессии показывает очень низкий результат F1-метрика равна 0.48 с параметром веса классов. В дальнейшем модель изучать нет смысла.\n",
    "- Модель решающего дерева показывает лучшие результаты F1-метрики на методах увеличения и уменьшения выборки.\n",
    "- **Лучший результат показывает модель случайного леса при использовании метода взвешивания классов. F1-метрика достигла результата равного 0.62.**"
   ]
  },
  {
   "cell_type": "markdown",
   "metadata": {},
   "source": [
    "## Тестирование модели"
   ]
  },
  {
   "cell_type": "code",
   "execution_count": 27,
   "metadata": {
    "scrolled": false
   },
   "outputs": [
    {
     "name": "stdout",
     "output_type": "stream",
     "text": [
      "F1-метрика модели: 0.5861601085481681\n",
      "AUC-ROC-метрика: 0.8466990439457341\n"
     ]
    },
    {
     "data": {
      "image/png": "[encoded data removed]",
      "text/plain": [
       "<Figure size 640x480 with 1 Axes>"
      ]
     },
     "metadata": {},
     "output_type": "display_data"
    }
   ],
   "source": [
    "predicted_test = model_rf_w.predict(features_test)\n",
    "\n",
    "probalilities_test = model_rf_w.predict_proba(features_test)\n",
    "probabilities_ones = probalilities_test[:, 1]\n",
    "\n",
    "print('F1-метрика модели:', f1_score(target_test, predicted_test))\n",
    "print('AUC-ROC-метрика:', roc_auc_score(target_test, probabilities_ones))\n",
    "\n",
    "fpr, tpr, thresholds = roc_curve(target_test, probabilities_ones)\n",
    "plt.figure()\n",
    "plt.plot(fpr, tpr)\n",
    "plt.plot([0, 1], [0, 1], linestyle='--')\n",
    "plt.xlim(0.0, 1.0)\n",
    "plt.ylim(0.0, 1.0)\n",
    "plt.xlabel('False Positive Rate')\n",
    "plt.ylabel('True Positive Rate')\n",
    "plt.title('ROC-кривая')\n",
    "plt.grid()\n",
    "plt.show()"
   ]
  },
  {
   "cell_type": "code",
   "execution_count": 28,
   "metadata": {},
   "outputs": [
    {
     "name": "stdout",
     "output_type": "stream",
     "text": [
      "F1-метрика константной модели: 0.33881278538812787\n",
      "Recall: 0.5822102425876011\n"
     ]
    }
   ],
   "source": [
    "dummy_model = DummyClassifier(strategy='constant', constant=1)\n",
    "dummy_model.fit(features_train, target_train)\n",
    "print('F1-метрика константной модели:', f1_score(dummy_model.predict(features_test), target_test))\n",
    "print('Recall:', recall_score(target_test, predicted_test))"
   ]
  },
  {
   "cell_type": "markdown",
   "metadata": {},
   "source": [
    "- Точность модели при предсказании только первого класса 33%.\n",
    "- Полнота говорит о том, что модель верно определила 64% истино положительных ответов."
   ]
  },
  {
   "cell_type": "markdown",
   "metadata": {},
   "source": [
    "**Вывод**\n",
    "- Данные имеют выраженный дисбаланс. Интересующий нас класс (факт ухода клиента) это 20% от всего набора данных.\n",
    "- Без учета дисбаланса модели показывают результат метрики F1 ниже требуемого 0.59.\n",
    "- При учете дисбаланса и борьбы с ним путем увеличения редкого класса, уменьшения частого класса и взвешивания классов удалось добиться F1-метрики выше 0.59 на моделях случайного леса и решающего дерева.\n",
    "- PR-кривая на обеих моделях показывает то, что точность моделей при низкой полноте высокая, но с увеличением полноты точность уменьшается. Это говорит о том, что модели хорошо предсказывают редкий класс, особенно модель случайного леса.\n",
    "- **Лучший результат метрики F1(0.64) у модели случайного леса с использованием параметра взвешивания классов, глудины дерева равным 10 и количеством деревьев 14.**\n",
    "- AUC-ROC-метрика показывает площадь под ROC-кривой и чем больше этот показатель тем точней модель предсказывает редкий класс. При этом на графике видно, что у выбранной модели показатель истиноположительных ответов равный 0.8 достигается при показателе ложноположительных ответах равном примерно 0.3"
   ]
  }
 ],
 "metadata": {
  "ExecuteTimeLog": [
   {
    "duration": 1502,
    "start_time": "2023-06-17T08:33:05.033Z"
   },
   {
    "duration": 10,
    "start_time": "2023-06-17T08:33:27.602Z"
   },
   {
    "duration": 11,
    "start_time": "2023-06-17T08:33:45.669Z"
   },
   {
    "duration": 44,
    "start_time": "2023-06-17T08:33:57.878Z"
   },
   {
    "duration": 64,
    "start_time": "2023-06-17T08:34:14.612Z"
   },
   {
    "duration": 14,
    "start_time": "2023-06-17T08:34:24.279Z"
   },
   {
    "duration": 9,
    "start_time": "2023-06-17T08:34:40.831Z"
   },
   {
    "duration": 8,
    "start_time": "2023-06-17T08:35:08.832Z"
   },
   {
    "duration": 17,
    "start_time": "2023-06-17T08:44:56.704Z"
   },
   {
    "duration": 4,
    "start_time": "2023-06-17T08:45:14.378Z"
   },
   {
    "duration": 4,
    "start_time": "2023-06-17T08:46:24.920Z"
   },
   {
    "duration": 13,
    "start_time": "2023-06-17T08:51:07.263Z"
   },
   {
    "duration": 4,
    "start_time": "2023-06-17T08:51:20.492Z"
   },
   {
    "duration": 8,
    "start_time": "2023-06-17T08:52:05.921Z"
   },
   {
    "duration": 86,
    "start_time": "2023-06-17T08:53:48.947Z"
   },
   {
    "duration": 244,
    "start_time": "2023-06-17T08:54:01.376Z"
   },
   {
    "duration": 21,
    "start_time": "2023-06-17T08:56:28.401Z"
   },
   {
    "duration": 85,
    "start_time": "2023-06-17T08:58:44.326Z"
   },
   {
    "duration": 12,
    "start_time": "2023-06-17T09:15:31.028Z"
   },
   {
    "duration": 26,
    "start_time": "2023-06-17T09:15:59.578Z"
   },
   {
    "duration": 9,
    "start_time": "2023-06-17T09:17:10.427Z"
   },
   {
    "duration": 25,
    "start_time": "2023-06-17T09:17:43.141Z"
   },
   {
    "duration": 54,
    "start_time": "2023-06-17T09:17:52.172Z"
   },
   {
    "duration": 47,
    "start_time": "2023-06-17T09:17:55.125Z"
   },
   {
    "duration": 93,
    "start_time": "2023-06-17T09:18:26.816Z"
   },
   {
    "duration": 49,
    "start_time": "2023-06-17T09:19:15.674Z"
   },
   {
    "duration": 53,
    "start_time": "2023-06-17T09:19:19.867Z"
   },
   {
    "duration": 38,
    "start_time": "2023-06-17T09:19:37.098Z"
   },
   {
    "duration": 41,
    "start_time": "2023-06-17T09:19:43.096Z"
   },
   {
    "duration": 94,
    "start_time": "2023-06-17T09:19:57.178Z"
   },
   {
    "duration": 11,
    "start_time": "2023-06-17T09:23:40.731Z"
   },
   {
    "duration": 11,
    "start_time": "2023-06-17T09:24:02.311Z"
   },
   {
    "duration": 9,
    "start_time": "2023-06-17T09:24:08.344Z"
   },
   {
    "duration": 17,
    "start_time": "2023-06-17T09:24:13.196Z"
   },
   {
    "duration": 12,
    "start_time": "2023-06-17T09:24:30.294Z"
   },
   {
    "duration": 18,
    "start_time": "2023-06-17T09:24:34.394Z"
   },
   {
    "duration": 30,
    "start_time": "2023-06-17T09:26:58.470Z"
   },
   {
    "duration": 12,
    "start_time": "2023-06-17T09:27:04.602Z"
   },
   {
    "duration": 14,
    "start_time": "2023-06-17T09:27:10.936Z"
   },
   {
    "duration": 24,
    "start_time": "2023-06-17T09:27:52.384Z"
   },
   {
    "duration": 13,
    "start_time": "2023-06-17T09:27:57.923Z"
   },
   {
    "duration": 19,
    "start_time": "2023-06-17T09:28:01.586Z"
   },
   {
    "duration": 14,
    "start_time": "2023-06-17T09:28:26.346Z"
   },
   {
    "duration": 19,
    "start_time": "2023-06-17T09:28:33.578Z"
   },
   {
    "duration": 4,
    "start_time": "2023-06-17T09:29:17.314Z"
   },
   {
    "duration": 15,
    "start_time": "2023-06-17T09:29:23.445Z"
   },
   {
    "duration": 19,
    "start_time": "2023-06-17T09:29:28.300Z"
   },
   {
    "duration": 70,
    "start_time": "2023-06-17T09:29:31.477Z"
   },
   {
    "duration": 131,
    "start_time": "2023-06-17T09:29:34.215Z"
   },
   {
    "duration": 5,
    "start_time": "2023-06-17T09:30:03.770Z"
   },
   {
    "duration": 10,
    "start_time": "2023-06-17T09:30:34.278Z"
   },
   {
    "duration": 105,
    "start_time": "2023-06-17T09:53:05.931Z"
   },
   {
    "duration": 17,
    "start_time": "2023-06-17T09:53:15.277Z"
   },
   {
    "duration": 15,
    "start_time": "2023-06-17T09:53:41.556Z"
   },
   {
    "duration": 15,
    "start_time": "2023-06-17T10:01:32.825Z"
   },
   {
    "duration": 12,
    "start_time": "2023-06-17T10:01:45.029Z"
   },
   {
    "duration": 29,
    "start_time": "2023-06-17T10:06:11.979Z"
   },
   {
    "duration": 35,
    "start_time": "2023-06-17T10:06:54.226Z"
   },
   {
    "duration": 1226,
    "start_time": "2023-06-17T10:09:22.675Z"
   },
   {
    "duration": 151,
    "start_time": "2023-06-17T10:09:23.903Z"
   },
   {
    "duration": 3,
    "start_time": "2023-06-17T10:09:24.060Z"
   },
   {
    "duration": 33,
    "start_time": "2023-06-17T10:09:24.065Z"
   },
   {
    "duration": 17,
    "start_time": "2023-06-17T10:09:24.102Z"
   },
   {
    "duration": 60,
    "start_time": "2023-06-17T10:09:24.121Z"
   },
   {
    "duration": 129,
    "start_time": "2023-06-17T10:09:24.183Z"
   },
   {
    "duration": 0,
    "start_time": "2023-06-17T10:09:24.314Z"
   },
   {
    "duration": 0,
    "start_time": "2023-06-17T10:09:24.316Z"
   },
   {
    "duration": 30,
    "start_time": "2023-06-17T10:09:36.530Z"
   },
   {
    "duration": 1387,
    "start_time": "2023-06-17T10:10:09.943Z"
   },
   {
    "duration": 91,
    "start_time": "2023-06-17T10:10:11.333Z"
   },
   {
    "duration": 3,
    "start_time": "2023-06-17T10:10:11.426Z"
   },
   {
    "duration": 44,
    "start_time": "2023-06-17T10:10:11.431Z"
   },
   {
    "duration": 37,
    "start_time": "2023-06-17T10:10:11.477Z"
   },
   {
    "duration": 82,
    "start_time": "2023-06-17T10:10:11.516Z"
   },
   {
    "duration": 21,
    "start_time": "2023-06-17T10:10:11.600Z"
   },
   {
    "duration": 110,
    "start_time": "2023-06-17T10:10:11.623Z"
   },
   {
    "duration": 12,
    "start_time": "2023-06-17T10:10:11.735Z"
   },
   {
    "duration": 27,
    "start_time": "2023-06-17T10:19:21.550Z"
   },
   {
    "duration": 1278,
    "start_time": "2023-06-17T13:53:22.815Z"
   },
   {
    "duration": 116,
    "start_time": "2023-06-17T13:53:24.096Z"
   },
   {
    "duration": 4,
    "start_time": "2023-06-17T13:53:24.214Z"
   },
   {
    "duration": 26,
    "start_time": "2023-06-17T13:53:24.220Z"
   },
   {
    "duration": 18,
    "start_time": "2023-06-17T13:53:24.248Z"
   },
   {
    "duration": 63,
    "start_time": "2023-06-17T13:53:24.275Z"
   },
   {
    "duration": 36,
    "start_time": "2023-06-17T13:53:24.340Z"
   },
   {
    "duration": 119,
    "start_time": "2023-06-17T13:53:24.378Z"
   },
   {
    "duration": 20,
    "start_time": "2023-06-17T13:53:24.499Z"
   },
   {
    "duration": 530,
    "start_time": "2023-06-17T13:59:04.706Z"
   },
   {
    "duration": 126,
    "start_time": "2023-06-17T14:01:08.844Z"
   },
   {
    "duration": 10,
    "start_time": "2023-06-17T14:01:19.008Z"
   },
   {
    "duration": 11,
    "start_time": "2023-06-17T14:01:24.349Z"
   },
   {
    "duration": 14,
    "start_time": "2023-06-17T14:01:57.443Z"
   },
   {
    "duration": 16,
    "start_time": "2023-06-17T14:02:08.920Z"
   },
   {
    "duration": 13,
    "start_time": "2023-06-17T14:02:14.631Z"
   },
   {
    "duration": 13,
    "start_time": "2023-06-17T14:02:17.673Z"
   },
   {
    "duration": 102,
    "start_time": "2023-06-17T14:02:43.743Z"
   },
   {
    "duration": 3,
    "start_time": "2023-06-17T14:02:49.115Z"
   },
   {
    "duration": 4,
    "start_time": "2023-06-17T14:03:20.487Z"
   },
   {
    "duration": 15,
    "start_time": "2023-06-17T14:05:00.101Z"
   },
   {
    "duration": 5,
    "start_time": "2023-06-17T14:05:12.675Z"
   },
   {
    "duration": 5,
    "start_time": "2023-06-17T14:05:53.162Z"
   },
   {
    "duration": 5,
    "start_time": "2023-06-17T14:11:27.593Z"
   },
   {
    "duration": 18,
    "start_time": "2023-06-17T14:11:55.532Z"
   },
   {
    "duration": 5,
    "start_time": "2023-06-17T14:12:09.392Z"
   },
   {
    "duration": 17,
    "start_time": "2023-06-17T14:12:11.353Z"
   },
   {
    "duration": 3,
    "start_time": "2023-06-17T14:12:35.936Z"
   },
   {
    "duration": 15,
    "start_time": "2023-06-17T14:12:38.292Z"
   },
   {
    "duration": 4,
    "start_time": "2023-06-17T14:13:00.627Z"
   },
   {
    "duration": 6,
    "start_time": "2023-06-17T14:13:02.763Z"
   },
   {
    "duration": 4,
    "start_time": "2023-06-17T14:13:34.460Z"
   },
   {
    "duration": 194,
    "start_time": "2023-06-17T14:13:36.799Z"
   },
   {
    "duration": 3,
    "start_time": "2023-06-17T14:15:27.062Z"
   },
   {
    "duration": 135,
    "start_time": "2023-06-17T14:15:29.139Z"
   },
   {
    "duration": 163,
    "start_time": "2023-06-17T14:17:46.638Z"
   },
   {
    "duration": 84,
    "start_time": "2023-06-17T14:19:36.222Z"
   },
   {
    "duration": 4,
    "start_time": "2023-06-17T14:19:42.391Z"
   },
   {
    "duration": 148,
    "start_time": "2023-06-17T14:19:45.093Z"
   },
   {
    "duration": 143,
    "start_time": "2023-06-17T14:21:30.858Z"
   },
   {
    "duration": 4,
    "start_time": "2023-06-17T14:21:43.877Z"
   },
   {
    "duration": 268,
    "start_time": "2023-06-17T14:21:45.962Z"
   },
   {
    "duration": 297,
    "start_time": "2023-06-17T14:21:56.197Z"
   },
   {
    "duration": 17,
    "start_time": "2023-06-17T14:22:49.903Z"
   },
   {
    "duration": 169,
    "start_time": "2023-06-17T14:23:08.431Z"
   },
   {
    "duration": 191,
    "start_time": "2023-06-17T14:23:16.970Z"
   },
   {
    "duration": 9,
    "start_time": "2023-06-17T14:24:13.290Z"
   },
   {
    "duration": 16,
    "start_time": "2023-06-17T14:26:35.789Z"
   },
   {
    "duration": 57,
    "start_time": "2023-06-17T14:28:25.794Z"
   },
   {
    "duration": 79,
    "start_time": "2023-06-17T14:28:44.789Z"
   },
   {
    "duration": 18,
    "start_time": "2023-06-17T14:28:53.663Z"
   },
   {
    "duration": 9,
    "start_time": "2023-06-17T14:32:04.058Z"
   },
   {
    "duration": 3,
    "start_time": "2023-06-17T14:34:58.730Z"
   },
   {
    "duration": 3,
    "start_time": "2023-06-17T14:40:09.326Z"
   },
   {
    "duration": 9,
    "start_time": "2023-06-17T14:40:40.697Z"
   },
   {
    "duration": 283,
    "start_time": "2023-06-17T14:42:17.565Z"
   },
   {
    "duration": 282,
    "start_time": "2023-06-17T14:42:54.245Z"
   },
   {
    "duration": 3,
    "start_time": "2023-06-17T14:44:04.629Z"
   },
   {
    "duration": 291,
    "start_time": "2023-06-17T14:44:06.638Z"
   },
   {
    "duration": 5,
    "start_time": "2023-06-17T14:45:34.907Z"
   },
   {
    "duration": 380,
    "start_time": "2023-06-17T14:45:51.901Z"
   },
   {
    "duration": 330,
    "start_time": "2023-06-17T14:48:11.291Z"
   },
   {
    "duration": 311,
    "start_time": "2023-06-17T14:49:30.182Z"
   },
   {
    "duration": 3,
    "start_time": "2023-06-17T15:09:35.717Z"
   },
   {
    "duration": 29,
    "start_time": "2023-06-17T15:14:52.723Z"
   },
   {
    "duration": 18,
    "start_time": "2023-06-17T15:16:35.342Z"
   },
   {
    "duration": 17,
    "start_time": "2023-06-17T15:16:38.679Z"
   },
   {
    "duration": 16,
    "start_time": "2023-06-17T15:16:41.088Z"
   },
   {
    "duration": 17,
    "start_time": "2023-06-17T15:16:43.852Z"
   },
   {
    "duration": 66,
    "start_time": "2023-06-17T15:17:08.310Z"
   },
   {
    "duration": 25,
    "start_time": "2023-06-17T15:17:35.798Z"
   },
   {
    "duration": 4,
    "start_time": "2023-06-17T15:17:45.889Z"
   },
   {
    "duration": 83,
    "start_time": "2023-06-17T15:17:45.896Z"
   },
   {
    "duration": 3,
    "start_time": "2023-06-17T15:17:45.981Z"
   },
   {
    "duration": 26,
    "start_time": "2023-06-17T15:17:45.986Z"
   },
   {
    "duration": 17,
    "start_time": "2023-06-17T15:17:46.014Z"
   },
   {
    "duration": 53,
    "start_time": "2023-06-17T15:17:46.032Z"
   },
   {
    "duration": 19,
    "start_time": "2023-06-17T15:17:46.086Z"
   },
   {
    "duration": 110,
    "start_time": "2023-06-17T15:17:46.106Z"
   },
   {
    "duration": 14,
    "start_time": "2023-06-17T15:17:46.218Z"
   },
   {
    "duration": 17,
    "start_time": "2023-06-17T15:17:46.233Z"
   },
   {
    "duration": 17,
    "start_time": "2023-06-17T15:17:46.252Z"
   },
   {
    "duration": 5,
    "start_time": "2023-06-17T15:17:46.271Z"
   },
   {
    "duration": 354,
    "start_time": "2023-06-17T15:17:46.277Z"
   },
   {
    "duration": 4,
    "start_time": "2023-06-17T15:30:06.491Z"
   },
   {
    "duration": 96,
    "start_time": "2023-06-17T15:49:09.822Z"
   },
   {
    "duration": 136,
    "start_time": "2023-06-17T15:49:23.117Z"
   },
   {
    "duration": 104,
    "start_time": "2023-06-17T15:49:59.517Z"
   },
   {
    "duration": 678,
    "start_time": "2023-06-17T15:50:19.751Z"
   },
   {
    "duration": 650,
    "start_time": "2023-06-17T15:54:49.084Z"
   },
   {
    "duration": 1450,
    "start_time": "2023-06-17T16:13:57.366Z"
   },
   {
    "duration": 65,
    "start_time": "2023-06-17T16:13:58.818Z"
   },
   {
    "duration": 4,
    "start_time": "2023-06-17T16:13:58.885Z"
   },
   {
    "duration": 17,
    "start_time": "2023-06-17T16:13:58.892Z"
   },
   {
    "duration": 17,
    "start_time": "2023-06-17T16:13:58.910Z"
   },
   {
    "duration": 77,
    "start_time": "2023-06-17T16:13:58.929Z"
   },
   {
    "duration": 32,
    "start_time": "2023-06-17T16:13:59.008Z"
   },
   {
    "duration": 111,
    "start_time": "2023-06-17T16:13:59.043Z"
   },
   {
    "duration": 23,
    "start_time": "2023-06-17T16:13:59.156Z"
   },
   {
    "duration": 14,
    "start_time": "2023-06-17T16:13:59.182Z"
   },
   {
    "duration": 33,
    "start_time": "2023-06-17T16:13:59.198Z"
   },
   {
    "duration": 6,
    "start_time": "2023-06-17T16:13:59.234Z"
   },
   {
    "duration": 375,
    "start_time": "2023-06-17T16:13:59.243Z"
   },
   {
    "duration": 650,
    "start_time": "2023-06-17T16:13:59.620Z"
   },
   {
    "duration": 396806,
    "start_time": "2023-06-17T16:14:00.275Z"
   },
   {
    "duration": 16,
    "start_time": "2023-06-17T16:21:14.293Z"
   },
   {
    "duration": 16,
    "start_time": "2023-06-17T16:21:18.485Z"
   },
   {
    "duration": 49,
    "start_time": "2023-06-17T16:27:13.191Z"
   },
   {
    "duration": 165,
    "start_time": "2023-06-17T16:31:44.034Z"
   },
   {
    "duration": 171,
    "start_time": "2023-06-17T16:32:01.754Z"
   },
   {
    "duration": 176,
    "start_time": "2023-06-17T16:32:13.896Z"
   },
   {
    "duration": 196,
    "start_time": "2023-06-17T16:37:24.030Z"
   },
   {
    "duration": 245,
    "start_time": "2023-06-17T16:44:05.320Z"
   },
   {
    "duration": 264,
    "start_time": "2023-06-17T16:47:40.500Z"
   },
   {
    "duration": 699,
    "start_time": "2023-06-17T16:53:53.690Z"
   },
   {
    "duration": 628,
    "start_time": "2023-06-17T16:54:10.263Z"
   },
   {
    "duration": 665,
    "start_time": "2023-06-17T16:55:34.410Z"
   },
   {
    "duration": 731,
    "start_time": "2023-06-17T16:59:53.047Z"
   },
   {
    "duration": 638,
    "start_time": "2023-06-17T17:04:04.544Z"
   },
   {
    "duration": 586,
    "start_time": "2023-06-17T17:07:10.451Z"
   },
   {
    "duration": 1741,
    "start_time": "2023-06-18T18:40:09.443Z"
   },
   {
    "duration": 215,
    "start_time": "2023-06-18T18:40:11.186Z"
   },
   {
    "duration": 3,
    "start_time": "2023-06-18T18:40:11.403Z"
   },
   {
    "duration": 19,
    "start_time": "2023-06-18T18:40:11.408Z"
   },
   {
    "duration": 13,
    "start_time": "2023-06-18T18:40:11.429Z"
   },
   {
    "duration": 53,
    "start_time": "2023-06-18T18:40:11.443Z"
   },
   {
    "duration": 34,
    "start_time": "2023-06-18T18:40:11.498Z"
   },
   {
    "duration": 146,
    "start_time": "2023-06-18T18:40:11.534Z"
   },
   {
    "duration": 13,
    "start_time": "2023-06-18T18:40:11.682Z"
   },
   {
    "duration": 54,
    "start_time": "2023-06-18T18:40:11.697Z"
   },
   {
    "duration": 45,
    "start_time": "2023-06-18T18:40:11.752Z"
   },
   {
    "duration": 4,
    "start_time": "2023-06-18T18:40:11.799Z"
   },
   {
    "duration": 339,
    "start_time": "2023-06-18T18:40:11.805Z"
   },
   {
    "duration": 696,
    "start_time": "2023-06-18T18:40:12.148Z"
   },
   {
    "duration": 111733,
    "start_time": "2023-06-18T18:40:12.845Z"
   },
   {
    "duration": 20,
    "start_time": "2023-06-18T18:53:41.707Z"
   },
   {
    "duration": 78,
    "start_time": "2023-06-18T18:57:54.840Z"
   },
   {
    "duration": 65,
    "start_time": "2023-06-18T18:58:14.894Z"
   },
   {
    "duration": 38,
    "start_time": "2023-06-18T18:58:23.093Z"
   },
   {
    "duration": 23,
    "start_time": "2023-06-18T18:58:53.308Z"
   },
   {
    "duration": 22,
    "start_time": "2023-06-18T19:05:20.795Z"
   },
   {
    "duration": 5,
    "start_time": "2023-06-18T19:07:42.530Z"
   },
   {
    "duration": 19,
    "start_time": "2023-06-18T19:08:05.815Z"
   },
   {
    "duration": 26,
    "start_time": "2023-06-18T19:08:41.107Z"
   },
   {
    "duration": 25,
    "start_time": "2023-06-18T19:08:47.416Z"
   },
   {
    "duration": 23,
    "start_time": "2023-06-18T19:09:15.287Z"
   },
   {
    "duration": 133,
    "start_time": "2023-06-18T19:09:39.786Z"
   },
   {
    "duration": 40,
    "start_time": "2023-06-18T19:28:56.456Z"
   },
   {
    "duration": 4,
    "start_time": "2023-06-18T19:29:16.107Z"
   },
   {
    "duration": 29,
    "start_time": "2023-06-18T19:44:44.223Z"
   },
   {
    "duration": 14,
    "start_time": "2023-06-18T19:44:55.099Z"
   },
   {
    "duration": 14,
    "start_time": "2023-06-18T19:45:08.789Z"
   },
   {
    "duration": 16,
    "start_time": "2023-06-18T19:45:17.919Z"
   },
   {
    "duration": 19,
    "start_time": "2023-06-18T19:45:24.024Z"
   },
   {
    "duration": 20,
    "start_time": "2023-06-18T19:45:35.155Z"
   },
   {
    "duration": 15,
    "start_time": "2023-06-18T19:45:50.734Z"
   },
   {
    "duration": 21,
    "start_time": "2023-06-18T20:00:30.747Z"
   },
   {
    "duration": 22,
    "start_time": "2023-06-18T20:04:08.608Z"
   },
   {
    "duration": 21,
    "start_time": "2023-06-18T20:04:18.326Z"
   },
   {
    "duration": 20,
    "start_time": "2023-06-18T20:05:03.908Z"
   },
   {
    "duration": 113,
    "start_time": "2023-06-18T20:10:25.915Z"
   },
   {
    "duration": 10,
    "start_time": "2023-06-18T20:10:32.422Z"
   },
   {
    "duration": 18,
    "start_time": "2023-06-18T20:11:07.731Z"
   },
   {
    "duration": 35,
    "start_time": "2023-06-18T20:12:24.010Z"
   },
   {
    "duration": 33,
    "start_time": "2023-06-18T20:15:34.482Z"
   },
   {
    "duration": 1342,
    "start_time": "2023-06-18T20:15:50.886Z"
   },
   {
    "duration": 124,
    "start_time": "2023-06-18T20:16:09.985Z"
   },
   {
    "duration": 34,
    "start_time": "2023-06-18T20:16:39.990Z"
   },
   {
    "duration": 20,
    "start_time": "2023-06-18T20:23:33.042Z"
   },
   {
    "duration": 243,
    "start_time": "2023-06-18T20:24:38.428Z"
   },
   {
    "duration": 14,
    "start_time": "2023-06-18T20:25:19.323Z"
   },
   {
    "duration": 32,
    "start_time": "2023-06-18T20:25:23.696Z"
   },
   {
    "duration": 236,
    "start_time": "2023-06-18T20:25:28.506Z"
   },
   {
    "duration": 14,
    "start_time": "2023-06-18T20:25:39.116Z"
   },
   {
    "duration": 54,
    "start_time": "2023-06-18T20:25:42.151Z"
   },
   {
    "duration": 287,
    "start_time": "2023-06-18T20:25:45.300Z"
   },
   {
    "duration": 30,
    "start_time": "2023-06-18T20:26:34.252Z"
   },
   {
    "duration": 18,
    "start_time": "2023-06-18T20:26:39.728Z"
   },
   {
    "duration": 20,
    "start_time": "2023-06-18T20:27:02.310Z"
   },
   {
    "duration": 17,
    "start_time": "2023-06-18T20:27:06.993Z"
   },
   {
    "duration": 18,
    "start_time": "2023-06-18T20:42:33.098Z"
   },
   {
    "duration": 4,
    "start_time": "2023-06-18T20:42:45.711Z"
   },
   {
    "duration": 23,
    "start_time": "2023-06-18T20:42:51.301Z"
   },
   {
    "duration": 48,
    "start_time": "2023-06-18T20:53:53.830Z"
   },
   {
    "duration": 40,
    "start_time": "2023-06-18T20:54:38.986Z"
   },
   {
    "duration": 38,
    "start_time": "2023-06-18T20:57:48.405Z"
   },
   {
    "duration": 4,
    "start_time": "2023-06-18T20:58:51.813Z"
   },
   {
    "duration": 162,
    "start_time": "2023-06-18T20:58:58.108Z"
   },
   {
    "duration": 4,
    "start_time": "2023-06-18T21:03:16.319Z"
   },
   {
    "duration": 67,
    "start_time": "2023-06-18T21:03:16.325Z"
   },
   {
    "duration": 3,
    "start_time": "2023-06-18T21:03:16.393Z"
   },
   {
    "duration": 27,
    "start_time": "2023-06-18T21:03:16.398Z"
   },
   {
    "duration": 14,
    "start_time": "2023-06-18T21:03:16.427Z"
   },
   {
    "duration": 51,
    "start_time": "2023-06-18T21:03:16.443Z"
   },
   {
    "duration": 16,
    "start_time": "2023-06-18T21:03:16.496Z"
   },
   {
    "duration": 99,
    "start_time": "2023-06-18T21:03:16.513Z"
   },
   {
    "duration": 11,
    "start_time": "2023-06-18T21:03:16.614Z"
   },
   {
    "duration": 5,
    "start_time": "2023-06-18T21:03:16.627Z"
   },
   {
    "duration": 41,
    "start_time": "2023-06-18T21:03:16.633Z"
   },
   {
    "duration": 3,
    "start_time": "2023-06-18T21:03:16.676Z"
   },
   {
    "duration": 323,
    "start_time": "2023-06-18T21:03:16.681Z"
   },
   {
    "duration": 722,
    "start_time": "2023-06-18T21:03:17.007Z"
   },
   {
    "duration": 4,
    "start_time": "2023-06-18T21:03:58.287Z"
   },
   {
    "duration": 61,
    "start_time": "2023-06-18T21:03:58.293Z"
   },
   {
    "duration": 17,
    "start_time": "2023-06-18T21:03:58.356Z"
   },
   {
    "duration": 15,
    "start_time": "2023-06-18T21:03:58.376Z"
   },
   {
    "duration": 13,
    "start_time": "2023-06-18T21:03:58.392Z"
   },
   {
    "duration": 68,
    "start_time": "2023-06-18T21:03:58.408Z"
   },
   {
    "duration": 26,
    "start_time": "2023-06-18T21:03:58.477Z"
   },
   {
    "duration": 108,
    "start_time": "2023-06-18T21:03:58.505Z"
   },
   {
    "duration": 13,
    "start_time": "2023-06-18T21:03:58.615Z"
   },
   {
    "duration": 13,
    "start_time": "2023-06-18T21:03:58.630Z"
   },
   {
    "duration": 39,
    "start_time": "2023-06-18T21:03:58.645Z"
   },
   {
    "duration": 17,
    "start_time": "2023-06-18T21:03:58.686Z"
   },
   {
    "duration": 382,
    "start_time": "2023-06-18T21:03:58.705Z"
   },
   {
    "duration": 708,
    "start_time": "2023-06-18T21:03:59.089Z"
   },
   {
    "duration": 38583,
    "start_time": "2023-06-18T21:03:59.799Z"
   },
   {
    "duration": 16,
    "start_time": "2023-06-18T21:04:38.385Z"
   },
   {
    "duration": 56,
    "start_time": "2023-06-18T21:04:38.403Z"
   },
   {
    "duration": 234,
    "start_time": "2023-06-18T21:04:38.461Z"
   },
   {
    "duration": 178,
    "start_time": "2023-06-18T21:04:38.697Z"
   },
   {
    "duration": 1438,
    "start_time": "2023-06-18T21:04:54.816Z"
   },
   {
    "duration": 71,
    "start_time": "2023-06-18T21:04:56.256Z"
   },
   {
    "duration": 4,
    "start_time": "2023-06-18T21:04:56.330Z"
   },
   {
    "duration": 14,
    "start_time": "2023-06-18T21:04:56.337Z"
   },
   {
    "duration": 25,
    "start_time": "2023-06-18T21:04:56.353Z"
   },
   {
    "duration": 41,
    "start_time": "2023-06-18T21:04:56.380Z"
   },
   {
    "duration": 41,
    "start_time": "2023-06-18T21:04:56.423Z"
   },
   {
    "duration": 82,
    "start_time": "2023-06-18T21:04:56.471Z"
   },
   {
    "duration": 17,
    "start_time": "2023-06-18T21:04:56.555Z"
   },
   {
    "duration": 6,
    "start_time": "2023-06-18T21:04:56.574Z"
   },
   {
    "duration": 31,
    "start_time": "2023-06-18T21:04:56.582Z"
   },
   {
    "duration": 3,
    "start_time": "2023-06-18T21:04:56.615Z"
   },
   {
    "duration": 342,
    "start_time": "2023-06-18T21:04:56.620Z"
   },
   {
    "duration": 684,
    "start_time": "2023-06-18T21:04:56.967Z"
   },
   {
    "duration": 39390,
    "start_time": "2023-06-18T21:04:57.654Z"
   },
   {
    "duration": 31,
    "start_time": "2023-06-18T21:05:37.045Z"
   },
   {
    "duration": 38,
    "start_time": "2023-06-18T21:05:37.078Z"
   },
   {
    "duration": 235,
    "start_time": "2023-06-18T21:05:37.118Z"
   },
   {
    "duration": 238,
    "start_time": "2023-06-18T21:05:37.360Z"
   },
   {
    "duration": 1685,
    "start_time": "2023-06-19T18:34:31.818Z"
   },
   {
    "duration": 216,
    "start_time": "2023-06-19T18:34:33.505Z"
   },
   {
    "duration": 4,
    "start_time": "2023-06-19T18:34:33.726Z"
   },
   {
    "duration": 43,
    "start_time": "2023-06-19T18:34:33.732Z"
   },
   {
    "duration": 13,
    "start_time": "2023-06-19T18:34:33.776Z"
   },
   {
    "duration": 46,
    "start_time": "2023-06-19T18:34:33.791Z"
   },
   {
    "duration": 18,
    "start_time": "2023-06-19T18:34:33.838Z"
   },
   {
    "duration": 105,
    "start_time": "2023-06-19T18:34:33.858Z"
   },
   {
    "duration": 14,
    "start_time": "2023-06-19T18:34:33.965Z"
   },
   {
    "duration": 36,
    "start_time": "2023-06-19T18:34:33.981Z"
   },
   {
    "duration": 56,
    "start_time": "2023-06-19T18:34:34.019Z"
   },
   {
    "duration": 10,
    "start_time": "2023-06-19T18:34:34.077Z"
   },
   {
    "duration": 335,
    "start_time": "2023-06-19T18:34:34.088Z"
   },
   {
    "duration": 678,
    "start_time": "2023-06-19T18:34:34.425Z"
   },
   {
    "duration": 38357,
    "start_time": "2023-06-19T18:34:35.105Z"
   },
   {
    "duration": 20,
    "start_time": "2023-06-19T18:35:13.464Z"
   },
   {
    "duration": 53,
    "start_time": "2023-06-19T18:35:13.486Z"
   },
   {
    "duration": 251,
    "start_time": "2023-06-19T18:35:13.541Z"
   },
   {
    "duration": 296,
    "start_time": "2023-06-19T18:35:13.794Z"
   },
   {
    "duration": 6,
    "start_time": "2023-06-19T18:37:32.898Z"
   },
   {
    "duration": 173,
    "start_time": "2023-06-19T18:49:09.904Z"
   },
   {
    "duration": 165,
    "start_time": "2023-06-19T18:51:17.230Z"
   },
   {
    "duration": 182,
    "start_time": "2023-06-19T18:51:35.611Z"
   },
   {
    "duration": 380,
    "start_time": "2023-06-19T18:55:10.015Z"
   },
   {
    "duration": 165,
    "start_time": "2023-06-19T19:15:58.024Z"
   },
   {
    "duration": 216,
    "start_time": "2023-06-19T19:18:19.424Z"
   },
   {
    "duration": 36,
    "start_time": "2023-06-19T19:30:14.538Z"
   },
   {
    "duration": 176,
    "start_time": "2023-06-19T19:31:28.432Z"
   },
   {
    "duration": 17,
    "start_time": "2023-06-19T19:31:34.883Z"
   },
   {
    "duration": 6,
    "start_time": "2023-06-19T19:31:59.213Z"
   },
   {
    "duration": 33,
    "start_time": "2023-06-19T19:32:03.968Z"
   },
   {
    "duration": 28,
    "start_time": "2023-06-19T19:32:18.304Z"
   },
   {
    "duration": 40,
    "start_time": "2023-06-19T19:33:43.133Z"
   },
   {
    "duration": 40,
    "start_time": "2023-06-19T19:34:25.924Z"
   },
   {
    "duration": 37,
    "start_time": "2023-06-19T19:34:59.149Z"
   },
   {
    "duration": 37,
    "start_time": "2023-06-19T19:35:36.653Z"
   },
   {
    "duration": 38,
    "start_time": "2023-06-19T19:37:40.020Z"
   },
   {
    "duration": 30,
    "start_time": "2023-06-19T19:44:00.881Z"
   },
   {
    "duration": 38,
    "start_time": "2023-06-19T19:50:01.522Z"
   },
   {
    "duration": 91,
    "start_time": "2023-06-19T19:57:11.723Z"
   },
   {
    "duration": 45,
    "start_time": "2023-06-19T19:57:34.673Z"
   },
   {
    "duration": 2724,
    "start_time": "2023-06-20T01:52:21.325Z"
   },
   {
    "duration": 169,
    "start_time": "2023-06-20T01:52:24.051Z"
   },
   {
    "duration": 4,
    "start_time": "2023-06-20T01:52:24.222Z"
   },
   {
    "duration": 72,
    "start_time": "2023-06-20T01:52:24.228Z"
   },
   {
    "duration": 31,
    "start_time": "2023-06-20T01:52:24.303Z"
   },
   {
    "duration": 76,
    "start_time": "2023-06-20T01:52:24.336Z"
   },
   {
    "duration": 24,
    "start_time": "2023-06-20T01:52:24.414Z"
   },
   {
    "duration": 110,
    "start_time": "2023-06-20T01:52:24.440Z"
   },
   {
    "duration": 24,
    "start_time": "2023-06-20T01:52:24.552Z"
   },
   {
    "duration": 37,
    "start_time": "2023-06-20T01:52:24.577Z"
   },
   {
    "duration": 27,
    "start_time": "2023-06-20T01:52:24.616Z"
   },
   {
    "duration": 51,
    "start_time": "2023-06-20T01:52:24.645Z"
   },
   {
    "duration": 374,
    "start_time": "2023-06-20T01:52:24.697Z"
   },
   {
    "duration": 819,
    "start_time": "2023-06-20T01:52:25.074Z"
   },
   {
    "duration": 40542,
    "start_time": "2023-06-20T01:52:25.906Z"
   },
   {
    "duration": 143,
    "start_time": "2023-06-20T01:53:06.452Z"
   },
   {
    "duration": 73,
    "start_time": "2023-06-20T01:53:06.600Z"
   },
   {
    "duration": 308,
    "start_time": "2023-06-20T01:53:06.680Z"
   },
   {
    "duration": 399,
    "start_time": "2023-06-20T01:53:06.991Z"
   },
   {
    "duration": 183,
    "start_time": "2023-06-20T01:53:07.395Z"
   },
   {
    "duration": 53,
    "start_time": "2023-06-20T10:57:26.093Z"
   },
   {
    "duration": 1644,
    "start_time": "2023-06-20T11:13:24.842Z"
   },
   {
    "duration": 216,
    "start_time": "2023-06-20T11:13:26.490Z"
   },
   {
    "duration": 4,
    "start_time": "2023-06-20T11:13:26.707Z"
   },
   {
    "duration": 25,
    "start_time": "2023-06-20T11:13:26.713Z"
   },
   {
    "duration": 14,
    "start_time": "2023-06-20T11:13:26.740Z"
   },
   {
    "duration": 51,
    "start_time": "2023-06-20T11:13:26.755Z"
   },
   {
    "duration": 13,
    "start_time": "2023-06-20T11:13:26.808Z"
   },
   {
    "duration": 140,
    "start_time": "2023-06-20T11:13:26.822Z"
   },
   {
    "duration": 0,
    "start_time": "2023-06-20T11:13:26.968Z"
   },
   {
    "duration": 0,
    "start_time": "2023-06-20T11:13:26.969Z"
   },
   {
    "duration": 0,
    "start_time": "2023-06-20T11:13:26.970Z"
   },
   {
    "duration": 0,
    "start_time": "2023-06-20T11:13:26.970Z"
   },
   {
    "duration": 0,
    "start_time": "2023-06-20T11:13:26.971Z"
   },
   {
    "duration": 0,
    "start_time": "2023-06-20T11:13:26.972Z"
   },
   {
    "duration": 0,
    "start_time": "2023-06-20T11:13:26.973Z"
   },
   {
    "duration": 1,
    "start_time": "2023-06-20T11:13:26.973Z"
   },
   {
    "duration": 0,
    "start_time": "2023-06-20T11:13:26.974Z"
   },
   {
    "duration": 0,
    "start_time": "2023-06-20T11:13:26.975Z"
   },
   {
    "duration": 0,
    "start_time": "2023-06-20T11:13:26.976Z"
   },
   {
    "duration": 0,
    "start_time": "2023-06-20T11:13:26.977Z"
   },
   {
    "duration": 0,
    "start_time": "2023-06-20T11:13:26.978Z"
   },
   {
    "duration": 1557,
    "start_time": "2023-06-20T11:28:44.263Z"
   },
   {
    "duration": 62,
    "start_time": "2023-06-20T11:28:45.822Z"
   },
   {
    "duration": 4,
    "start_time": "2023-06-20T11:28:45.886Z"
   },
   {
    "duration": 20,
    "start_time": "2023-06-20T11:28:45.892Z"
   },
   {
    "duration": 13,
    "start_time": "2023-06-20T11:28:45.915Z"
   },
   {
    "duration": 86,
    "start_time": "2023-06-20T11:28:45.929Z"
   },
   {
    "duration": 13,
    "start_time": "2023-06-20T11:28:46.017Z"
   },
   {
    "duration": 128,
    "start_time": "2023-06-20T11:28:46.031Z"
   },
   {
    "duration": 0,
    "start_time": "2023-06-20T11:28:46.161Z"
   },
   {
    "duration": 0,
    "start_time": "2023-06-20T11:28:46.162Z"
   },
   {
    "duration": 0,
    "start_time": "2023-06-20T11:28:46.163Z"
   },
   {
    "duration": 0,
    "start_time": "2023-06-20T11:28:46.164Z"
   },
   {
    "duration": 0,
    "start_time": "2023-06-20T11:28:46.165Z"
   },
   {
    "duration": 0,
    "start_time": "2023-06-20T11:28:46.169Z"
   },
   {
    "duration": 0,
    "start_time": "2023-06-20T11:28:46.170Z"
   },
   {
    "duration": 0,
    "start_time": "2023-06-20T11:28:46.171Z"
   },
   {
    "duration": 0,
    "start_time": "2023-06-20T11:28:46.172Z"
   },
   {
    "duration": 0,
    "start_time": "2023-06-20T11:28:46.173Z"
   },
   {
    "duration": 1,
    "start_time": "2023-06-20T11:28:46.174Z"
   },
   {
    "duration": 0,
    "start_time": "2023-06-20T11:28:46.176Z"
   },
   {
    "duration": 1,
    "start_time": "2023-06-20T11:28:46.177Z"
   },
   {
    "duration": 1588,
    "start_time": "2023-06-20T11:29:43.966Z"
   },
   {
    "duration": 98,
    "start_time": "2023-06-20T11:29:45.556Z"
   },
   {
    "duration": 3,
    "start_time": "2023-06-20T11:29:45.658Z"
   },
   {
    "duration": 24,
    "start_time": "2023-06-20T11:29:45.663Z"
   },
   {
    "duration": 20,
    "start_time": "2023-06-20T11:29:45.688Z"
   },
   {
    "duration": 51,
    "start_time": "2023-06-20T11:29:45.711Z"
   },
   {
    "duration": 30,
    "start_time": "2023-06-20T11:29:45.764Z"
   },
   {
    "duration": 146,
    "start_time": "2023-06-20T11:29:45.795Z"
   },
   {
    "duration": 0,
    "start_time": "2023-06-20T11:29:45.943Z"
   },
   {
    "duration": 0,
    "start_time": "2023-06-20T11:29:45.944Z"
   },
   {
    "duration": 0,
    "start_time": "2023-06-20T11:29:45.945Z"
   },
   {
    "duration": 0,
    "start_time": "2023-06-20T11:29:45.946Z"
   },
   {
    "duration": 0,
    "start_time": "2023-06-20T11:29:45.947Z"
   },
   {
    "duration": 0,
    "start_time": "2023-06-20T11:29:45.948Z"
   },
   {
    "duration": 0,
    "start_time": "2023-06-20T11:29:45.949Z"
   },
   {
    "duration": 0,
    "start_time": "2023-06-20T11:29:45.950Z"
   },
   {
    "duration": 0,
    "start_time": "2023-06-20T11:29:45.951Z"
   },
   {
    "duration": 0,
    "start_time": "2023-06-20T11:29:45.952Z"
   },
   {
    "duration": 0,
    "start_time": "2023-06-20T11:29:45.953Z"
   },
   {
    "duration": 0,
    "start_time": "2023-06-20T11:29:45.954Z"
   },
   {
    "duration": 1514,
    "start_time": "2023-06-20T11:30:58.838Z"
   },
   {
    "duration": 92,
    "start_time": "2023-06-20T11:31:00.354Z"
   },
   {
    "duration": 3,
    "start_time": "2023-06-20T11:31:00.448Z"
   },
   {
    "duration": 61,
    "start_time": "2023-06-20T11:31:00.453Z"
   },
   {
    "duration": 64,
    "start_time": "2023-06-20T11:31:00.516Z"
   },
   {
    "duration": 113,
    "start_time": "2023-06-20T11:31:00.581Z"
   },
   {
    "duration": 37,
    "start_time": "2023-06-20T11:31:00.696Z"
   },
   {
    "duration": 56,
    "start_time": "2023-06-20T11:31:00.735Z"
   },
   {
    "duration": 200,
    "start_time": "2023-06-20T11:31:00.793Z"
   },
   {
    "duration": 0,
    "start_time": "2023-06-20T11:31:00.995Z"
   },
   {
    "duration": 0,
    "start_time": "2023-06-20T11:31:00.998Z"
   },
   {
    "duration": 0,
    "start_time": "2023-06-20T11:31:01.000Z"
   },
   {
    "duration": 0,
    "start_time": "2023-06-20T11:31:01.001Z"
   },
   {
    "duration": 0,
    "start_time": "2023-06-20T11:31:01.004Z"
   },
   {
    "duration": 0,
    "start_time": "2023-06-20T11:31:01.008Z"
   },
   {
    "duration": 0,
    "start_time": "2023-06-20T11:31:01.009Z"
   },
   {
    "duration": 0,
    "start_time": "2023-06-20T11:31:01.010Z"
   },
   {
    "duration": 0,
    "start_time": "2023-06-20T11:31:01.010Z"
   },
   {
    "duration": 0,
    "start_time": "2023-06-20T11:31:01.011Z"
   },
   {
    "duration": 0,
    "start_time": "2023-06-20T11:31:01.012Z"
   },
   {
    "duration": 1528,
    "start_time": "2023-06-20T11:31:55.353Z"
   },
   {
    "duration": 74,
    "start_time": "2023-06-20T11:31:56.883Z"
   },
   {
    "duration": 4,
    "start_time": "2023-06-20T11:31:56.959Z"
   },
   {
    "duration": 31,
    "start_time": "2023-06-20T11:31:56.965Z"
   },
   {
    "duration": 16,
    "start_time": "2023-06-20T11:31:56.998Z"
   },
   {
    "duration": 49,
    "start_time": "2023-06-20T11:31:57.016Z"
   },
   {
    "duration": 20,
    "start_time": "2023-06-20T11:31:57.071Z"
   },
   {
    "duration": 27,
    "start_time": "2023-06-20T11:31:57.093Z"
   },
   {
    "duration": 4,
    "start_time": "2023-06-20T11:31:57.126Z"
   },
   {
    "duration": 55,
    "start_time": "2023-06-20T11:31:57.134Z"
   },
   {
    "duration": 3,
    "start_time": "2023-06-20T11:31:57.191Z"
   },
   {
    "duration": 345,
    "start_time": "2023-06-20T11:31:57.196Z"
   },
   {
    "duration": 632,
    "start_time": "2023-06-20T11:31:57.542Z"
   },
   {
    "duration": 35619,
    "start_time": "2023-06-20T11:31:58.177Z"
   },
   {
    "duration": 151,
    "start_time": "2023-06-20T11:32:33.798Z"
   },
   {
    "duration": 165,
    "start_time": "2023-06-20T11:32:33.954Z"
   },
   {
    "duration": 97,
    "start_time": "2023-06-20T11:32:34.122Z"
   },
   {
    "duration": 343,
    "start_time": "2023-06-20T11:32:34.221Z"
   },
   {
    "duration": 479,
    "start_time": "2023-06-20T11:32:34.566Z"
   },
   {
    "duration": 215,
    "start_time": "2023-06-20T11:32:35.047Z"
   },
   {
    "duration": 23,
    "start_time": "2023-06-20T11:42:50.746Z"
   },
   {
    "duration": 18,
    "start_time": "2023-06-20T11:43:02.434Z"
   },
   {
    "duration": 16,
    "start_time": "2023-06-20T11:43:07.545Z"
   },
   {
    "duration": 24,
    "start_time": "2023-06-20T11:43:30.353Z"
   },
   {
    "duration": 572,
    "start_time": "2023-06-20T11:48:16.507Z"
   },
   {
    "duration": 36869,
    "start_time": "2023-06-20T11:49:18.828Z"
   },
   {
    "duration": 36153,
    "start_time": "2023-06-20T11:50:31.543Z"
   },
   {
    "duration": 737,
    "start_time": "2023-06-20T11:51:56.157Z"
   },
   {
    "duration": 761,
    "start_time": "2023-06-20T11:52:54.821Z"
   },
   {
    "duration": 735,
    "start_time": "2023-06-20T11:53:52.201Z"
   },
   {
    "duration": 724,
    "start_time": "2023-06-20T11:54:17.618Z"
   },
   {
    "duration": 34546,
    "start_time": "2023-06-20T11:55:13.432Z"
   },
   {
    "duration": 32763,
    "start_time": "2023-06-20T11:56:49.504Z"
   },
   {
    "duration": 110,
    "start_time": "2023-06-20T11:59:13.265Z"
   },
   {
    "duration": 114,
    "start_time": "2023-06-20T11:59:48.666Z"
   },
   {
    "duration": 76,
    "start_time": "2023-06-20T12:00:21.595Z"
   },
   {
    "duration": 669,
    "start_time": "2023-06-20T12:04:47.386Z"
   },
   {
    "duration": 677,
    "start_time": "2023-06-20T12:05:14.716Z"
   },
   {
    "duration": 939,
    "start_time": "2023-06-20T12:08:19.031Z"
   },
   {
    "duration": 43764,
    "start_time": "2023-06-20T12:10:34.749Z"
   },
   {
    "duration": 134,
    "start_time": "2023-06-20T12:15:17.123Z"
   },
   {
    "duration": 20,
    "start_time": "2023-06-20T12:15:21.620Z"
   },
   {
    "duration": 17,
    "start_time": "2023-06-20T12:18:25.339Z"
   },
   {
    "duration": 19,
    "start_time": "2023-06-20T12:18:45.305Z"
   },
   {
    "duration": 20,
    "start_time": "2023-06-20T12:19:13.014Z"
   },
   {
    "duration": 17,
    "start_time": "2023-06-20T12:19:26.462Z"
   },
   {
    "duration": 22,
    "start_time": "2023-06-20T12:19:33.770Z"
   },
   {
    "duration": 18,
    "start_time": "2023-06-20T12:19:40.676Z"
   },
   {
    "duration": 20,
    "start_time": "2023-06-20T12:19:44.546Z"
   },
   {
    "duration": 16,
    "start_time": "2023-06-20T12:19:50.113Z"
   },
   {
    "duration": 16,
    "start_time": "2023-06-20T12:19:57.799Z"
   },
   {
    "duration": 20,
    "start_time": "2023-06-20T12:21:27.317Z"
   },
   {
    "duration": 8,
    "start_time": "2023-06-20T12:21:37.281Z"
   },
   {
    "duration": 20,
    "start_time": "2023-06-20T12:21:39.862Z"
   },
   {
    "duration": 859,
    "start_time": "2023-06-20T12:23:08.571Z"
   },
   {
    "duration": 46314,
    "start_time": "2023-06-20T12:25:12.406Z"
   },
   {
    "duration": 341,
    "start_time": "2023-06-20T12:29:32.607Z"
   },
   {
    "duration": 739,
    "start_time": "2023-06-20T12:31:25.900Z"
   },
   {
    "duration": 830,
    "start_time": "2023-06-20T12:31:35.250Z"
   },
   {
    "duration": 876,
    "start_time": "2023-06-20T12:31:38.335Z"
   },
   {
    "duration": 35049,
    "start_time": "2023-06-20T12:44:52.134Z"
   },
   {
    "duration": 180,
    "start_time": "2023-06-20T12:46:36.382Z"
   },
   {
    "duration": 6,
    "start_time": "2023-06-20T12:56:01.536Z"
   },
   {
    "duration": 21,
    "start_time": "2023-06-20T12:57:37.637Z"
   },
   {
    "duration": 8,
    "start_time": "2023-06-20T12:57:56.509Z"
   },
   {
    "duration": 10,
    "start_time": "2023-06-20T12:59:59.252Z"
   },
   {
    "duration": 7,
    "start_time": "2023-06-20T13:00:52.361Z"
   },
   {
    "duration": 9,
    "start_time": "2023-06-20T13:02:45.487Z"
   },
   {
    "duration": 10,
    "start_time": "2023-06-20T13:05:08.925Z"
   },
   {
    "duration": 1492,
    "start_time": "2023-06-20T13:10:41.049Z"
   },
   {
    "duration": 71,
    "start_time": "2023-06-20T13:10:42.542Z"
   },
   {
    "duration": 3,
    "start_time": "2023-06-20T13:10:42.614Z"
   },
   {
    "duration": 39,
    "start_time": "2023-06-20T13:10:42.619Z"
   },
   {
    "duration": 41,
    "start_time": "2023-06-20T13:10:42.660Z"
   },
   {
    "duration": 74,
    "start_time": "2023-06-20T13:10:42.703Z"
   },
   {
    "duration": 20,
    "start_time": "2023-06-20T13:10:42.779Z"
   },
   {
    "duration": 28,
    "start_time": "2023-06-20T13:10:42.801Z"
   },
   {
    "duration": 4,
    "start_time": "2023-06-20T13:10:42.830Z"
   },
   {
    "duration": 69,
    "start_time": "2023-06-20T13:10:42.842Z"
   },
   {
    "duration": 3,
    "start_time": "2023-06-20T13:10:42.913Z"
   },
   {
    "duration": 337,
    "start_time": "2023-06-20T13:10:42.918Z"
   },
   {
    "duration": 597,
    "start_time": "2023-06-20T13:10:43.257Z"
   },
   {
    "duration": 37765,
    "start_time": "2023-06-20T13:10:43.855Z"
   },
   {
    "duration": 122,
    "start_time": "2023-06-20T13:11:21.621Z"
   },
   {
    "duration": 78,
    "start_time": "2023-06-20T13:11:21.745Z"
   },
   {
    "duration": 950,
    "start_time": "2023-06-20T13:11:21.868Z"
   },
   {
    "duration": 37932,
    "start_time": "2023-06-20T13:11:22.820Z"
   },
   {
    "duration": 262,
    "start_time": "2023-06-20T13:12:00.753Z"
   },
   {
    "duration": 4,
    "start_time": "2023-06-20T13:12:01.018Z"
   },
   {
    "duration": 75,
    "start_time": "2023-06-20T13:12:01.024Z"
   },
   {
    "duration": 971,
    "start_time": "2023-06-20T13:12:01.101Z"
   },
   {
    "duration": 47545,
    "start_time": "2023-06-20T13:12:02.074Z"
   },
   {
    "duration": 14,
    "start_time": "2023-06-20T13:12:49.621Z"
   },
   {
    "duration": 396,
    "start_time": "2023-06-20T13:12:49.636Z"
   },
   {
    "duration": 20832,
    "start_time": "2023-06-20T13:12:50.034Z"
   },
   {
    "duration": 164,
    "start_time": "2023-06-20T13:13:10.872Z"
   },
   {
    "duration": 9,
    "start_time": "2023-06-20T13:13:11.040Z"
   }
  ],
  "kernelspec": {
   "display_name": "Python 3 (ipykernel)",
   "language": "python",
   "name": "python3"
  },
  "language_info": {
   "codemirror_mode": {
    "name": "ipython",
    "version": 3
   },
   "file_extension": ".py",
   "mimetype": "text/x-python",
   "name": "python",
   "nbconvert_exporter": "python",
   "pygments_lexer": "ipython3",
   "version": "3.9.16"
  },
  "toc": {
   "base_numbering": 1,
   "nav_menu": {},
   "number_sections": true,
   "sideBar": true,
   "skip_h1_title": true,
   "title_cell": "Содержание",
   "title_sidebar": "Contents",
   "toc_cell": true,
   "toc_position": {},
   "toc_section_display": true,
   "toc_window_display": false
  }
 },
 "nbformat": 4,
 "nbformat_minor": 2
}
